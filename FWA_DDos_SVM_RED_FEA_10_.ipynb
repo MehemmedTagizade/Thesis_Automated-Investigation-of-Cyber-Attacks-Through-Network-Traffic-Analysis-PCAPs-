{
  "cells": [
    {
      "cell_type": "markdown",
      "metadata": {
        "id": "view-in-github",
        "colab_type": "text"
      },
      "source": [
        "<a href=\"https://colab.research.google.com/github/MehemmedTagizade/Thesis_Automated-Investigation-of-Cyber-Attacks-Through-Network-Traffic-Analysis-PCAPs-/blob/TEST-CODES/FWA_DDos_SVM_RED_FEA_10_.ipynb\" target=\"_parent\"><img src=\"https://colab.research.google.com/assets/colab-badge.svg\" alt=\"Open In Colab\"/></a>"
      ]
    },
    {
      "cell_type": "code",
      "execution_count": null,
      "metadata": {
        "id": "rr_LSn1y1I3W"
      },
      "outputs": [],
      "source": [
        "# Import necessary libraries\n",
        "import pandas as pd\n",
        "import numpy as np"
      ]
    },
    {
      "cell_type": "code",
      "execution_count": null,
      "metadata": {
        "colab": {
          "base_uri": "https://localhost:8080/"
        },
        "id": "cJjiZwHv26Jr",
        "outputId": "28bb8c50-09e0-4650-ac73-75f0832d3a7f"
      },
      "outputs": [
        {
          "name": "stdout",
          "output_type": "stream",
          "text": [
            "Mounted at /content/drive\n"
          ]
        }
      ],
      "source": [
        "\n",
        "from google.colab import drive\n",
        "drive.mount('/content/drive')"
      ]
    },
    {
      "cell_type": "code",
      "execution_count": null,
      "metadata": {
        "id": "91NBR1Nq27n2"
      },
      "outputs": [],
      "source": [
        "# Load the dataset\n",
        "file_path = '/content/drive/MyDrive/Friday-WorkingHours-Afternoon-DDos.pcap_ISCX.csv'\n",
        "data = pd.read_csv(file_path)\n"
      ]
    },
    {
      "cell_type": "code",
      "execution_count": null,
      "metadata": {
        "colab": {
          "base_uri": "https://localhost:8080/"
        },
        "id": "6HB_MQss3Fdq",
        "outputId": "9d3f0b62-9ab0-4ec7-c2a6-950037e7148b"
      },
      "outputs": [
        {
          "name": "stdout",
          "output_type": "stream",
          "text": [
            "Index([' Destination Port', ' Flow Duration', ' Total Fwd Packets',\n",
            "       ' Total Backward Packets', 'Total Length of Fwd Packets',\n",
            "       ' Total Length of Bwd Packets', ' Fwd Packet Length Max',\n",
            "       ' Fwd Packet Length Min', ' Fwd Packet Length Mean',\n",
            "       ' Fwd Packet Length Std', 'Bwd Packet Length Max',\n",
            "       ' Bwd Packet Length Min', ' Bwd Packet Length Mean',\n",
            "       ' Bwd Packet Length Std', 'Flow Bytes/s', ' Flow Packets/s',\n",
            "       ' Flow IAT Mean', ' Flow IAT Std', ' Flow IAT Max', ' Flow IAT Min',\n",
            "       'Fwd IAT Total', ' Fwd IAT Mean', ' Fwd IAT Std', ' Fwd IAT Max',\n",
            "       ' Fwd IAT Min', 'Bwd IAT Total', ' Bwd IAT Mean', ' Bwd IAT Std',\n",
            "       ' Bwd IAT Max', ' Bwd IAT Min', 'Fwd PSH Flags', ' Bwd PSH Flags',\n",
            "       ' Fwd URG Flags', ' Bwd URG Flags', ' Fwd Header Length',\n",
            "       ' Bwd Header Length', 'Fwd Packets/s', ' Bwd Packets/s',\n",
            "       ' Min Packet Length', ' Max Packet Length', ' Packet Length Mean',\n",
            "       ' Packet Length Std', ' Packet Length Variance', 'FIN Flag Count',\n",
            "       ' SYN Flag Count', ' RST Flag Count', ' PSH Flag Count',\n",
            "       ' ACK Flag Count', ' URG Flag Count', ' CWE Flag Count',\n",
            "       ' ECE Flag Count', ' Down/Up Ratio', ' Average Packet Size',\n",
            "       ' Avg Fwd Segment Size', ' Avg Bwd Segment Size',\n",
            "       ' Fwd Header Length.1', 'Fwd Avg Bytes/Bulk', ' Fwd Avg Packets/Bulk',\n",
            "       ' Fwd Avg Bulk Rate', ' Bwd Avg Bytes/Bulk', ' Bwd Avg Packets/Bulk',\n",
            "       'Bwd Avg Bulk Rate', 'Subflow Fwd Packets', ' Subflow Fwd Bytes',\n",
            "       ' Subflow Bwd Packets', ' Subflow Bwd Bytes', 'Init_Win_bytes_forward',\n",
            "       ' Init_Win_bytes_backward', ' act_data_pkt_fwd',\n",
            "       ' min_seg_size_forward', 'Active Mean', ' Active Std', ' Active Max',\n",
            "       ' Active Min', 'Idle Mean', ' Idle Std', ' Idle Max', ' Idle Min',\n",
            "       ' Label'],\n",
            "      dtype='object')\n"
          ]
        }
      ],
      "source": [
        "print(data.columns)  # See the actual column names\n"
      ]
    },
    {
      "cell_type": "code",
      "execution_count": null,
      "metadata": {
        "id": "-PuNq3Ig6GmN"
      },
      "outputs": [],
      "source": [
        "data.rename(columns=lambda x: x.strip(), inplace=True)\n"
      ]
    },
    {
      "cell_type": "code",
      "execution_count": null,
      "metadata": {
        "colab": {
          "base_uri": "https://localhost:8080/"
        },
        "id": "PkErvO656IES",
        "outputId": "868513c5-fb4d-44b4-cc90-c18366fb8575"
      },
      "outputs": [
        {
          "name": "stdout",
          "output_type": "stream",
          "text": [
            "Index(['Destination Port', 'Flow Duration', 'Total Fwd Packets',\n",
            "       'Total Backward Packets', 'Total Length of Fwd Packets',\n",
            "       'Total Length of Bwd Packets', 'Fwd Packet Length Max',\n",
            "       'Fwd Packet Length Min', 'Fwd Packet Length Mean',\n",
            "       'Fwd Packet Length Std', 'Bwd Packet Length Max',\n",
            "       'Bwd Packet Length Min', 'Bwd Packet Length Mean',\n",
            "       'Bwd Packet Length Std', 'Flow Bytes/s', 'Flow Packets/s',\n",
            "       'Flow IAT Mean', 'Flow IAT Std', 'Flow IAT Max', 'Flow IAT Min',\n",
            "       'Fwd IAT Total', 'Fwd IAT Mean', 'Fwd IAT Std', 'Fwd IAT Max',\n",
            "       'Fwd IAT Min', 'Bwd IAT Total', 'Bwd IAT Mean', 'Bwd IAT Std',\n",
            "       'Bwd IAT Max', 'Bwd IAT Min', 'Fwd PSH Flags', 'Bwd PSH Flags',\n",
            "       'Fwd URG Flags', 'Bwd URG Flags', 'Fwd Header Length',\n",
            "       'Bwd Header Length', 'Fwd Packets/s', 'Bwd Packets/s',\n",
            "       'Min Packet Length', 'Max Packet Length', 'Packet Length Mean',\n",
            "       'Packet Length Std', 'Packet Length Variance', 'FIN Flag Count',\n",
            "       'SYN Flag Count', 'RST Flag Count', 'PSH Flag Count', 'ACK Flag Count',\n",
            "       'URG Flag Count', 'CWE Flag Count', 'ECE Flag Count', 'Down/Up Ratio',\n",
            "       'Average Packet Size', 'Avg Fwd Segment Size', 'Avg Bwd Segment Size',\n",
            "       'Fwd Header Length.1', 'Fwd Avg Bytes/Bulk', 'Fwd Avg Packets/Bulk',\n",
            "       'Fwd Avg Bulk Rate', 'Bwd Avg Bytes/Bulk', 'Bwd Avg Packets/Bulk',\n",
            "       'Bwd Avg Bulk Rate', 'Subflow Fwd Packets', 'Subflow Fwd Bytes',\n",
            "       'Subflow Bwd Packets', 'Subflow Bwd Bytes', 'Init_Win_bytes_forward',\n",
            "       'Init_Win_bytes_backward', 'act_data_pkt_fwd', 'min_seg_size_forward',\n",
            "       'Active Mean', 'Active Std', 'Active Max', 'Active Min', 'Idle Mean',\n",
            "       'Idle Std', 'Idle Max', 'Idle Min', 'Label'],\n",
            "      dtype='object')\n"
          ]
        }
      ],
      "source": [
        "print(data.columns)\n"
      ]
    },
    {
      "cell_type": "code",
      "execution_count": null,
      "metadata": {
        "colab": {
          "base_uri": "https://localhost:8080/"
        },
        "id": "54y6E4Vd3O0c",
        "outputId": "7b4d34de-ff19-4d33-afbc-4bb082d12676"
      },
      "outputs": [
        {
          "name": "stdout",
          "output_type": "stream",
          "text": [
            "Unique values in 'Label' column: ['BENIGN' 'DDoS']\n",
            "Number of unique values: 2\n",
            "Label\n",
            "DDoS      56.713105\n",
            "BENIGN    43.286895\n",
            "Name: count, dtype: float64\n"
          ]
        }
      ],
      "source": [
        "import pandas as pd\n",
        "\n",
        "# Load your dataset (replace 'your_dataset.csv' with the actual filename)\n",
        "\n",
        "\n",
        "# Check if \"Label\" column exists\n",
        "if \"Label\" in data.columns:\n",
        "    unique_labels = data[\"Label\"].unique()\n",
        "    print(f\"Unique values in 'Label' column: {unique_labels}\")\n",
        "    print(f\"Number of unique values: {len(unique_labels)}\")\n",
        "else:\n",
        "    print(\"No 'Label' column found in this dataset.\")\n",
        "# Count occurrences of each label\n",
        "label_counts = data[\"Label\"].value_counts()\n",
        "\n",
        "# Convert to percentages\n",
        "label_percentages = (label_counts / label_counts.sum()) * 100\n",
        "\n",
        "# Display the results\n",
        "print(label_percentages)\n",
        "\n"
      ]
    },
    {
      "cell_type": "code",
      "execution_count": null,
      "metadata": {
        "id": "UeGqnPtKR83D"
      },
      "outputs": [],
      "source": []
    },
    {
      "cell_type": "code",
      "execution_count": null,
      "metadata": {
        "colab": {
          "base_uri": "https://localhost:8080/"
        },
        "id": "d6ix8HPn3jAJ",
        "outputId": "5f935068-ab6c-42e8-9bb4-b0fdddf9b9a1"
      },
      "outputs": [
        {
          "name": "stdout",
          "output_type": "stream",
          "text": [
            "Index(['DestinationPort', 'FlowDuration', 'TotalFwdPackets',\n",
            "       'TotalBackwardPackets', 'TotalLengthofFwdPackets',\n",
            "       'TotalLengthofBwdPackets', 'FwdPacketLengthMax', 'FwdPacketLengthMin',\n",
            "       'FwdPacketLengthMean', 'FwdPacketLengthStd', 'BwdPacketLengthMax',\n",
            "       'BwdPacketLengthMin', 'BwdPacketLengthMean', 'BwdPacketLengthStd',\n",
            "       'FlowBytes/s', 'FlowPackets/s', 'FlowIATMean', 'FlowIATStd',\n",
            "       'FlowIATMax', 'FlowIATMin', 'FwdIATTotal', 'FwdIATMean', 'FwdIATStd',\n",
            "       'FwdIATMax', 'FwdIATMin', 'BwdIATTotal', 'BwdIATMean', 'BwdIATStd',\n",
            "       'BwdIATMax', 'BwdIATMin', 'FwdPSHFlags', 'BwdPSHFlags', 'FwdURGFlags',\n",
            "       'BwdURGFlags', 'FwdHeaderLength', 'BwdHeaderLength', 'FwdPackets/s',\n",
            "       'BwdPackets/s', 'MinPacketLength', 'MaxPacketLength',\n",
            "       'PacketLengthMean', 'PacketLengthStd', 'PacketLengthVariance',\n",
            "       'FINFlagCount', 'SYNFlagCount', 'RSTFlagCount', 'PSHFlagCount',\n",
            "       'ACKFlagCount', 'URGFlagCount', 'CWEFlagCount', 'ECEFlagCount',\n",
            "       'Down/UpRatio', 'AveragePacketSize', 'AvgFwdSegmentSize',\n",
            "       'AvgBwdSegmentSize', 'FwdHeaderLength.1', 'FwdAvgBytes/Bulk',\n",
            "       'FwdAvgPackets/Bulk', 'FwdAvgBulkRate', 'BwdAvgBytes/Bulk',\n",
            "       'BwdAvgPackets/Bulk', 'BwdAvgBulkRate', 'SubflowFwdPackets',\n",
            "       'SubflowFwdBytes', 'SubflowBwdPackets', 'SubflowBwdBytes',\n",
            "       'Init_Win_bytes_forward', 'Init_Win_bytes_backward', 'act_data_pkt_fwd',\n",
            "       'min_seg_size_forward', 'ActiveMean', 'ActiveStd', 'ActiveMax',\n",
            "       'ActiveMin', 'IdleMean', 'IdleStd', 'IdleMax', 'IdleMin', 'Label'],\n",
            "      dtype='object')\n"
          ]
        }
      ],
      "source": [
        "\n",
        "# Clean column names by removing extra spaces\n",
        "data.columns = data.columns.str.replace(' ', '')\n",
        "print(data.columns)"
      ]
    },
    {
      "cell_type": "code",
      "execution_count": null,
      "metadata": {
        "colab": {
          "base_uri": "https://localhost:8080/"
        },
        "id": "c4RfNagE6VD3",
        "outputId": "22ad37a2-f5aa-4207-b070-4394edb366a6"
      },
      "outputs": [
        {
          "name": "stdout",
          "output_type": "stream",
          "text": [
            "First 10 rows of the dataset:\n",
            "   DestinationPort  FlowDuration  TotalFwdPackets  TotalBackwardPackets  \\\n",
            "0            54865             3                2                     0   \n",
            "1            55054           109                1                     1   \n",
            "2            55055            52                1                     1   \n",
            "3            46236            34                1                     1   \n",
            "4            54863             3                2                     0   \n",
            "5            54871          1022                2                     0   \n",
            "6            54925             4                2                     0   \n",
            "7            54925            42                1                     1   \n",
            "8             9282             4                2                     0   \n",
            "9            55153             4                2                     0   \n",
            "\n",
            "   TotalLengthofFwdPackets  TotalLengthofBwdPackets  FwdPacketLengthMax  \\\n",
            "0                       12                        0                   6   \n",
            "1                        6                        6                   6   \n",
            "2                        6                        6                   6   \n",
            "3                        6                        6                   6   \n",
            "4                       12                        0                   6   \n",
            "5                       12                        0                   6   \n",
            "6                       12                        0                   6   \n",
            "7                        6                        6                   6   \n",
            "8                       12                        0                   6   \n",
            "9                       37                        0                  31   \n",
            "\n",
            "   FwdPacketLengthMin  FwdPacketLengthMean  FwdPacketLengthStd  ...  \\\n",
            "0                   6                  6.0             0.00000  ...   \n",
            "1                   6                  6.0             0.00000  ...   \n",
            "2                   6                  6.0             0.00000  ...   \n",
            "3                   6                  6.0             0.00000  ...   \n",
            "4                   6                  6.0             0.00000  ...   \n",
            "5                   6                  6.0             0.00000  ...   \n",
            "6                   6                  6.0             0.00000  ...   \n",
            "7                   6                  6.0             0.00000  ...   \n",
            "8                   6                  6.0             0.00000  ...   \n",
            "9                   6                 18.5            17.67767  ...   \n",
            "\n",
            "   min_seg_size_forward  ActiveMean  ActiveStd  ActiveMax  ActiveMin  \\\n",
            "0                    20         0.0        0.0          0          0   \n",
            "1                    20         0.0        0.0          0          0   \n",
            "2                    20         0.0        0.0          0          0   \n",
            "3                    20         0.0        0.0          0          0   \n",
            "4                    20         0.0        0.0          0          0   \n",
            "5                    20         0.0        0.0          0          0   \n",
            "6                    20         0.0        0.0          0          0   \n",
            "7                    20         0.0        0.0          0          0   \n",
            "8                    20         0.0        0.0          0          0   \n",
            "9                    20         0.0        0.0          0          0   \n",
            "\n",
            "   IdleMean  IdleStd  IdleMax  IdleMin   Label  \n",
            "0       0.0      0.0        0        0  BENIGN  \n",
            "1       0.0      0.0        0        0  BENIGN  \n",
            "2       0.0      0.0        0        0  BENIGN  \n",
            "3       0.0      0.0        0        0  BENIGN  \n",
            "4       0.0      0.0        0        0  BENIGN  \n",
            "5       0.0      0.0        0        0  BENIGN  \n",
            "6       0.0      0.0        0        0  BENIGN  \n",
            "7       0.0      0.0        0        0  BENIGN  \n",
            "8       0.0      0.0        0        0  BENIGN  \n",
            "9       0.0      0.0        0        0  BENIGN  \n",
            "\n",
            "[10 rows x 79 columns]\n"
          ]
        }
      ],
      "source": [
        "data.replace([np.inf, -np.inf], np.nan, inplace=True)\n",
        "data.dropna(inplace=True)\n",
        "\n",
        "# Display the first 10 rows of the dataset\n",
        "print(\"First 10 rows of the dataset:\")\n",
        "print(data.head(10))\n",
        "\n"
      ]
    },
    {
      "cell_type": "code",
      "execution_count": null,
      "metadata": {
        "colab": {
          "base_uri": "https://localhost:8080/"
        },
        "id": "MTmUZ621Dhxy",
        "outputId": "8590953d-7416-43c8-a531-f83a34c20c9f"
      },
      "outputs": [
        {
          "name": "stdout",
          "output_type": "stream",
          "text": [
            "DestinationPort            0\n",
            "FlowDuration               0\n",
            "TotalFwdPackets            0\n",
            "TotalBackwardPackets       0\n",
            "TotalLengthofFwdPackets    0\n",
            "                          ..\n",
            "IdleMean                   0\n",
            "IdleStd                    0\n",
            "IdleMax                    0\n",
            "IdleMin                    0\n",
            "Label                      0\n",
            "Length: 79, dtype: int64\n"
          ]
        }
      ],
      "source": [
        "print(data.isnull().sum())\n"
      ]
    },
    {
      "cell_type": "code",
      "execution_count": null,
      "metadata": {
        "colab": {
          "base_uri": "https://localhost:8080/"
        },
        "id": "Ropw-qyRDogx",
        "outputId": "161d5b16-58c0-439f-af6a-48d548ec3844"
      },
      "outputs": [
        {
          "name": "stdout",
          "output_type": "stream",
          "text": [
            "Label\n",
            "DDoS      128025\n",
            "BENIGN     97686\n",
            "Name: count, dtype: int64\n"
          ]
        }
      ],
      "source": [
        "print(data['Label'].value_counts())\n"
      ]
    },
    {
      "cell_type": "code",
      "execution_count": null,
      "metadata": {
        "colab": {
          "base_uri": "https://localhost:8080/"
        },
        "id": "PSKfNR28SC80",
        "outputId": "549c9685-f15f-4fad-e972-731a377d9001"
      },
      "outputs": [
        {
          "name": "stdout",
          "output_type": "stream",
          "text": [
            "Index(['DestinationPort', 'FlowDuration', 'TotalFwdPackets',\n",
            "       'TotalBackwardPackets', 'TotalLengthofFwdPackets',\n",
            "       'TotalLengthofBwdPackets', 'FwdPacketLengthMax', 'FwdPacketLengthMin',\n",
            "       'FwdPacketLengthMean', 'FwdPacketLengthStd', 'BwdPacketLengthMax',\n",
            "       'BwdPacketLengthMin', 'BwdPacketLengthMean', 'BwdPacketLengthStd',\n",
            "       'FlowBytes/s', 'FlowPackets/s', 'FlowIATMean', 'FlowIATStd',\n",
            "       'FlowIATMax', 'FlowIATMin', 'FwdIATTotal', 'FwdIATMean', 'FwdIATStd',\n",
            "       'FwdIATMax', 'FwdIATMin', 'BwdIATTotal', 'BwdIATMean', 'BwdIATStd',\n",
            "       'BwdIATMax', 'BwdIATMin', 'FwdHeaderLength', 'BwdHeaderLength',\n",
            "       'FwdPackets/s', 'BwdPackets/s', 'MinPacketLength', 'MaxPacketLength',\n",
            "       'PacketLengthMean', 'PacketLengthStd', 'PacketLengthVariance',\n",
            "       'FINFlagCount', 'SYNFlagCount', 'RSTFlagCount', 'PSHFlagCount',\n",
            "       'ACKFlagCount', 'URGFlagCount', 'Down/UpRatio', 'AveragePacketSize',\n",
            "       'AvgFwdSegmentSize', 'AvgBwdSegmentSize', 'act_data_pkt_fwd',\n",
            "       'min_seg_size_forward', 'Label'],\n",
            "      dtype='object')\n",
            "52\n"
          ]
        }
      ],
      "source": [
        "irrelevant_columns = [\n",
        "    'FwdPSHFlags', 'BwdPSHFlags', 'FwdURGFlags', 'BwdURGFlags',\n",
        "    'CWEFlagCount', 'ECEFlagCount', 'FwdHeaderLength.1',\n",
        "    'FwdAvgBytes/Bulk', 'FwdAvgPackets/Bulk', 'FwdAvgBulkRate',\n",
        "    'BwdAvgBytes/Bulk', 'BwdAvgPackets/Bulk', 'BwdAvgBulkRate',\n",
        "    'Init_Win_bytes_forward', 'Init_Win_bytes_backward',\n",
        "    'SubflowFwdPackets', 'SubflowFwdBytes', 'SubflowBwdPackets', 'SubflowBwdBytes',\n",
        "    'ActiveMean', 'ActiveStd', 'ActiveMax', 'ActiveMin',\n",
        "    'IdleMean', 'IdleStd', 'IdleMax', 'IdleMin'\n",
        "]\n",
        "\n",
        "data = data.drop(columns=irrelevant_columns, errors='ignore')\n",
        "print(data.columns)\n",
        "print(len(data.columns))"
      ]
    },
    {
      "cell_type": "code",
      "execution_count": null,
      "metadata": {
        "colab": {
          "base_uri": "https://localhost:8080/"
        },
        "id": "Ki8mnosAg_sf",
        "outputId": "c50ff99f-7b58-4c65-b738-4337108009cd"
      },
      "outputs": [
        {
          "name": "stdout",
          "output_type": "stream",
          "text": [
            "Number of BENIGN samples: 97686\n",
            "Number of DDoS samples: 128025\n"
          ]
        }
      ],
      "source": [
        "begnin_count = data[data['Label'] == 'BENIGN'].shape[0]\n",
        "print(f\"Number of BENIGN samples: {begnin_count}\")\n",
        "\n",
        "ddos_count = data[data['Label'] == 'DDoS'].shape[0]\n",
        "print(f\"Number of DDoS samples: {ddos_count}\")"
      ]
    },
    {
      "cell_type": "code",
      "execution_count": null,
      "metadata": {
        "id": "bFIVNfK0i-dR"
      },
      "outputs": [],
      "source": [
        "from math import floor\n",
        "benign_samples = data[data['Label'] == 'BENIGN']\n",
        "percentage = 0.1\n",
        "malicious_samples = data[data['Label'] == 'DDoS'].sample(n=floor((begnin_count*percentage)/(1-percentage)), random_state=42)\n",
        "\n",
        "# Combine the sampled data\n",
        "data = pd.concat([benign_samples, malicious_samples])\n",
        "\n",
        "# Shuffle the data\n",
        "data = data.sample(frac=1, random_state=42).reset_index(drop=True)"
      ]
    },
    {
      "cell_type": "code",
      "execution_count": null,
      "metadata": {
        "colab": {
          "base_uri": "https://localhost:8080/"
        },
        "id": "aMNqYC5_DqRm",
        "outputId": "5c5ba61a-490c-44bc-d066-ed80f09c7cae"
      },
      "outputs": [
        {
          "name": "stdout",
          "output_type": "stream",
          "text": [
            "Label\n",
            "BENIGN    97686\n",
            "DDoS      10854\n",
            "Name: count, dtype: int64\n"
          ]
        }
      ],
      "source": [
        "print(data['Label'].value_counts())\n"
      ]
    },
    {
      "cell_type": "code",
      "execution_count": null,
      "metadata": {
        "colab": {
          "base_uri": "https://localhost:8080/"
        },
        "collapsed": true,
        "id": "Ou_p4Ry5DrpD",
        "outputId": "27eda3cc-7222-49da-a0a2-b2b061a9cf1b"
      },
      "outputs": [
        {
          "name": "stdout",
          "output_type": "stream",
          "text": [
            "                         DestinationPort  FlowDuration  TotalFwdPackets  \\\n",
            "DestinationPort                      1.0           NaN              NaN   \n",
            "FlowDuration                         NaN       1.00000              NaN   \n",
            "TotalFwdPackets                      NaN           NaN         1.000000   \n",
            "TotalBackwardPackets                 NaN           NaN         0.964653   \n",
            "TotalLengthofFwdPackets              NaN           NaN              NaN   \n",
            "TotalLengthofBwdPackets              NaN           NaN         0.949403   \n",
            "FwdPacketLengthMax                   NaN           NaN              NaN   \n",
            "FwdPacketLengthMin                   NaN           NaN              NaN   \n",
            "FwdPacketLengthMean                  NaN           NaN              NaN   \n",
            "FwdPacketLengthStd                   NaN           NaN              NaN   \n",
            "BwdPacketLengthMax                   NaN           NaN              NaN   \n",
            "BwdPacketLengthMin                   NaN           NaN              NaN   \n",
            "BwdPacketLengthMean                  NaN           NaN              NaN   \n",
            "BwdPacketLengthStd                   NaN           NaN              NaN   \n",
            "FlowBytes/s                          NaN           NaN              NaN   \n",
            "FlowPackets/s                        NaN           NaN              NaN   \n",
            "FlowIATMean                          NaN           NaN              NaN   \n",
            "FlowIATStd                           NaN           NaN              NaN   \n",
            "FlowIATMax                           NaN           NaN              NaN   \n",
            "FlowIATMin                           NaN           NaN              NaN   \n",
            "FwdIATTotal                          NaN       0.99449              NaN   \n",
            "FwdIATMean                           NaN           NaN              NaN   \n",
            "FwdIATStd                            NaN           NaN              NaN   \n",
            "FwdIATMax                            NaN           NaN              NaN   \n",
            "FwdIATMin                            NaN           NaN              NaN   \n",
            "BwdIATTotal                          NaN       0.93165              NaN   \n",
            "BwdIATMean                           NaN           NaN              NaN   \n",
            "BwdIATStd                            NaN           NaN              NaN   \n",
            "BwdIATMax                            NaN           NaN              NaN   \n",
            "BwdIATMin                            NaN           NaN              NaN   \n",
            "FwdHeaderLength                      NaN           NaN         0.968461   \n",
            "BwdHeaderLength                      NaN           NaN         0.936233   \n",
            "FwdPackets/s                         NaN           NaN              NaN   \n",
            "BwdPackets/s                         NaN           NaN              NaN   \n",
            "MinPacketLength                      NaN           NaN              NaN   \n",
            "MaxPacketLength                      NaN           NaN              NaN   \n",
            "PacketLengthMean                     NaN           NaN              NaN   \n",
            "PacketLengthStd                      NaN           NaN              NaN   \n",
            "PacketLengthVariance                 NaN           NaN              NaN   \n",
            "FINFlagCount                         NaN           NaN              NaN   \n",
            "SYNFlagCount                         NaN           NaN              NaN   \n",
            "RSTFlagCount                         NaN           NaN              NaN   \n",
            "PSHFlagCount                         NaN           NaN              NaN   \n",
            "ACKFlagCount                         NaN           NaN              NaN   \n",
            "URGFlagCount                         NaN           NaN              NaN   \n",
            "Down/UpRatio                         NaN           NaN              NaN   \n",
            "AveragePacketSize                    NaN           NaN              NaN   \n",
            "AvgFwdSegmentSize                    NaN           NaN              NaN   \n",
            "AvgBwdSegmentSize                    NaN           NaN              NaN   \n",
            "act_data_pkt_fwd                     NaN           NaN              NaN   \n",
            "min_seg_size_forward                 NaN           NaN              NaN   \n",
            "\n",
            "                         TotalBackwardPackets  TotalLengthofFwdPackets  \\\n",
            "DestinationPort                           NaN                      NaN   \n",
            "FlowDuration                              NaN                      NaN   \n",
            "TotalFwdPackets                      0.964653                      NaN   \n",
            "TotalBackwardPackets                 1.000000                      NaN   \n",
            "TotalLengthofFwdPackets                   NaN                      1.0   \n",
            "TotalLengthofBwdPackets              0.975649                      NaN   \n",
            "FwdPacketLengthMax                        NaN                      NaN   \n",
            "FwdPacketLengthMin                        NaN                      NaN   \n",
            "FwdPacketLengthMean                       NaN                      NaN   \n",
            "FwdPacketLengthStd                        NaN                      NaN   \n",
            "BwdPacketLengthMax                        NaN                      NaN   \n",
            "BwdPacketLengthMin                        NaN                      NaN   \n",
            "BwdPacketLengthMean                       NaN                      NaN   \n",
            "BwdPacketLengthStd                        NaN                      NaN   \n",
            "FlowBytes/s                               NaN                      NaN   \n",
            "FlowPackets/s                             NaN                      NaN   \n",
            "FlowIATMean                               NaN                      NaN   \n",
            "FlowIATStd                                NaN                      NaN   \n",
            "FlowIATMax                                NaN                      NaN   \n",
            "FlowIATMin                                NaN                      NaN   \n",
            "FwdIATTotal                               NaN                      NaN   \n",
            "FwdIATMean                                NaN                      NaN   \n",
            "FwdIATStd                                 NaN                      NaN   \n",
            "FwdIATMax                                 NaN                      NaN   \n",
            "FwdIATMin                                 NaN                      NaN   \n",
            "BwdIATTotal                               NaN                      NaN   \n",
            "BwdIATMean                                NaN                      NaN   \n",
            "BwdIATStd                                 NaN                      NaN   \n",
            "BwdIATMax                                 NaN                      NaN   \n",
            "BwdIATMin                                 NaN                      NaN   \n",
            "FwdHeaderLength                      0.944840                      NaN   \n",
            "BwdHeaderLength                      0.975351                      NaN   \n",
            "FwdPackets/s                              NaN                      NaN   \n",
            "BwdPackets/s                              NaN                      NaN   \n",
            "MinPacketLength                           NaN                      NaN   \n",
            "MaxPacketLength                           NaN                      NaN   \n",
            "PacketLengthMean                          NaN                      NaN   \n",
            "PacketLengthStd                           NaN                      NaN   \n",
            "PacketLengthVariance                      NaN                      NaN   \n",
            "FINFlagCount                              NaN                      NaN   \n",
            "SYNFlagCount                              NaN                      NaN   \n",
            "RSTFlagCount                              NaN                      NaN   \n",
            "PSHFlagCount                              NaN                      NaN   \n",
            "ACKFlagCount                              NaN                      NaN   \n",
            "URGFlagCount                              NaN                      NaN   \n",
            "Down/UpRatio                              NaN                      NaN   \n",
            "AveragePacketSize                         NaN                      NaN   \n",
            "AvgFwdSegmentSize                         NaN                      NaN   \n",
            "AvgBwdSegmentSize                         NaN                      NaN   \n",
            "act_data_pkt_fwd                          NaN                      NaN   \n",
            "min_seg_size_forward                      NaN                      NaN   \n",
            "\n",
            "                         TotalLengthofBwdPackets  FwdPacketLengthMax  \\\n",
            "DestinationPort                              NaN                 NaN   \n",
            "FlowDuration                                 NaN                 NaN   \n",
            "TotalFwdPackets                         0.949403                 NaN   \n",
            "TotalBackwardPackets                    0.975649                 NaN   \n",
            "TotalLengthofFwdPackets                      NaN                 NaN   \n",
            "TotalLengthofBwdPackets                 1.000000                 NaN   \n",
            "FwdPacketLengthMax                           NaN            1.000000   \n",
            "FwdPacketLengthMin                           NaN                 NaN   \n",
            "FwdPacketLengthMean                          NaN            0.935375   \n",
            "FwdPacketLengthStd                           NaN            0.991173   \n",
            "BwdPacketLengthMax                           NaN                 NaN   \n",
            "BwdPacketLengthMin                           NaN                 NaN   \n",
            "BwdPacketLengthMean                          NaN                 NaN   \n",
            "BwdPacketLengthStd                           NaN                 NaN   \n",
            "FlowBytes/s                                  NaN                 NaN   \n",
            "FlowPackets/s                                NaN                 NaN   \n",
            "FlowIATMean                                  NaN                 NaN   \n",
            "FlowIATStd                                   NaN                 NaN   \n",
            "FlowIATMax                                   NaN                 NaN   \n",
            "FlowIATMin                                   NaN                 NaN   \n",
            "FwdIATTotal                                  NaN                 NaN   \n",
            "FwdIATMean                                   NaN                 NaN   \n",
            "FwdIATStd                                    NaN                 NaN   \n",
            "FwdIATMax                                    NaN                 NaN   \n",
            "FwdIATMin                                    NaN                 NaN   \n",
            "BwdIATTotal                                  NaN                 NaN   \n",
            "BwdIATMean                                   NaN                 NaN   \n",
            "BwdIATStd                                    NaN                 NaN   \n",
            "BwdIATMax                                    NaN                 NaN   \n",
            "BwdIATMin                                    NaN                 NaN   \n",
            "FwdHeaderLength                         0.932363                 NaN   \n",
            "BwdHeaderLength                         0.950975                 NaN   \n",
            "FwdPackets/s                                 NaN                 NaN   \n",
            "BwdPackets/s                                 NaN                 NaN   \n",
            "MinPacketLength                              NaN                 NaN   \n",
            "MaxPacketLength                              NaN                 NaN   \n",
            "PacketLengthMean                             NaN                 NaN   \n",
            "PacketLengthStd                              NaN                 NaN   \n",
            "PacketLengthVariance                         NaN                 NaN   \n",
            "FINFlagCount                                 NaN                 NaN   \n",
            "SYNFlagCount                                 NaN                 NaN   \n",
            "RSTFlagCount                                 NaN                 NaN   \n",
            "PSHFlagCount                                 NaN                 NaN   \n",
            "ACKFlagCount                                 NaN                 NaN   \n",
            "URGFlagCount                                 NaN                 NaN   \n",
            "Down/UpRatio                                 NaN                 NaN   \n",
            "AveragePacketSize                            NaN                 NaN   \n",
            "AvgFwdSegmentSize                            NaN            0.935375   \n",
            "AvgBwdSegmentSize                            NaN                 NaN   \n",
            "act_data_pkt_fwd                             NaN                 NaN   \n",
            "min_seg_size_forward                         NaN                 NaN   \n",
            "\n",
            "                         FwdPacketLengthMin  FwdPacketLengthMean  \\\n",
            "DestinationPort                         NaN                  NaN   \n",
            "FlowDuration                            NaN                  NaN   \n",
            "TotalFwdPackets                         NaN                  NaN   \n",
            "TotalBackwardPackets                    NaN                  NaN   \n",
            "TotalLengthofFwdPackets                 NaN                  NaN   \n",
            "TotalLengthofBwdPackets                 NaN                  NaN   \n",
            "FwdPacketLengthMax                      NaN             0.935375   \n",
            "FwdPacketLengthMin                      1.0                  NaN   \n",
            "FwdPacketLengthMean                     NaN             1.000000   \n",
            "FwdPacketLengthStd                      NaN             0.913301   \n",
            "BwdPacketLengthMax                      NaN                  NaN   \n",
            "BwdPacketLengthMin                      NaN                  NaN   \n",
            "BwdPacketLengthMean                     NaN                  NaN   \n",
            "BwdPacketLengthStd                      NaN                  NaN   \n",
            "FlowBytes/s                             NaN                  NaN   \n",
            "FlowPackets/s                           NaN                  NaN   \n",
            "FlowIATMean                             NaN                  NaN   \n",
            "FlowIATStd                              NaN                  NaN   \n",
            "FlowIATMax                              NaN                  NaN   \n",
            "FlowIATMin                              NaN                  NaN   \n",
            "FwdIATTotal                             NaN                  NaN   \n",
            "FwdIATMean                              NaN                  NaN   \n",
            "FwdIATStd                               NaN                  NaN   \n",
            "FwdIATMax                               NaN                  NaN   \n",
            "FwdIATMin                               NaN                  NaN   \n",
            "BwdIATTotal                             NaN                  NaN   \n",
            "BwdIATMean                              NaN                  NaN   \n",
            "BwdIATStd                               NaN                  NaN   \n",
            "BwdIATMax                               NaN                  NaN   \n",
            "BwdIATMin                               NaN                  NaN   \n",
            "FwdHeaderLength                         NaN                  NaN   \n",
            "BwdHeaderLength                         NaN                  NaN   \n",
            "FwdPackets/s                            NaN                  NaN   \n",
            "BwdPackets/s                            NaN                  NaN   \n",
            "MinPacketLength                         NaN                  NaN   \n",
            "MaxPacketLength                         NaN                  NaN   \n",
            "PacketLengthMean                        NaN                  NaN   \n",
            "PacketLengthStd                         NaN                  NaN   \n",
            "PacketLengthVariance                    NaN                  NaN   \n",
            "FINFlagCount                            NaN                  NaN   \n",
            "SYNFlagCount                            NaN                  NaN   \n",
            "RSTFlagCount                            NaN                  NaN   \n",
            "PSHFlagCount                            NaN                  NaN   \n",
            "ACKFlagCount                            NaN                  NaN   \n",
            "URGFlagCount                            NaN                  NaN   \n",
            "Down/UpRatio                            NaN                  NaN   \n",
            "AveragePacketSize                       NaN                  NaN   \n",
            "AvgFwdSegmentSize                       NaN             1.000000   \n",
            "AvgBwdSegmentSize                       NaN                  NaN   \n",
            "act_data_pkt_fwd                        NaN                  NaN   \n",
            "min_seg_size_forward                    NaN                  NaN   \n",
            "\n",
            "                         FwdPacketLengthStd  ...  RSTFlagCount  PSHFlagCount  \\\n",
            "DestinationPort                         NaN  ...           NaN           NaN   \n",
            "FlowDuration                            NaN  ...           NaN           NaN   \n",
            "TotalFwdPackets                         NaN  ...           NaN           NaN   \n",
            "TotalBackwardPackets                    NaN  ...           NaN           NaN   \n",
            "TotalLengthofFwdPackets                 NaN  ...           NaN           NaN   \n",
            "TotalLengthofBwdPackets                 NaN  ...           NaN           NaN   \n",
            "FwdPacketLengthMax                 0.991173  ...           NaN           NaN   \n",
            "FwdPacketLengthMin                      NaN  ...           NaN           NaN   \n",
            "FwdPacketLengthMean                0.913301  ...           NaN           NaN   \n",
            "FwdPacketLengthStd                 1.000000  ...           NaN           NaN   \n",
            "BwdPacketLengthMax                      NaN  ...           NaN           NaN   \n",
            "BwdPacketLengthMin                      NaN  ...           NaN           NaN   \n",
            "BwdPacketLengthMean                     NaN  ...           NaN           NaN   \n",
            "BwdPacketLengthStd                      NaN  ...           NaN           NaN   \n",
            "FlowBytes/s                             NaN  ...           NaN           NaN   \n",
            "FlowPackets/s                           NaN  ...           NaN           NaN   \n",
            "FlowIATMean                             NaN  ...           NaN           NaN   \n",
            "FlowIATStd                              NaN  ...           NaN           NaN   \n",
            "FlowIATMax                              NaN  ...           NaN           NaN   \n",
            "FlowIATMin                              NaN  ...           NaN           NaN   \n",
            "FwdIATTotal                             NaN  ...           NaN           NaN   \n",
            "FwdIATMean                              NaN  ...           NaN           NaN   \n",
            "FwdIATStd                               NaN  ...           NaN           NaN   \n",
            "FwdIATMax                               NaN  ...           NaN           NaN   \n",
            "FwdIATMin                               NaN  ...           NaN           NaN   \n",
            "BwdIATTotal                             NaN  ...           NaN           NaN   \n",
            "BwdIATMean                              NaN  ...           NaN           NaN   \n",
            "BwdIATStd                               NaN  ...           NaN           NaN   \n",
            "BwdIATMax                               NaN  ...           NaN           NaN   \n",
            "BwdIATMin                               NaN  ...           NaN           NaN   \n",
            "FwdHeaderLength                         NaN  ...           NaN           NaN   \n",
            "BwdHeaderLength                         NaN  ...           NaN           NaN   \n",
            "FwdPackets/s                            NaN  ...           NaN           NaN   \n",
            "BwdPackets/s                            NaN  ...           NaN           NaN   \n",
            "MinPacketLength                         NaN  ...           NaN           NaN   \n",
            "MaxPacketLength                         NaN  ...           NaN           NaN   \n",
            "PacketLengthMean                        NaN  ...           NaN           NaN   \n",
            "PacketLengthStd                         NaN  ...           NaN           NaN   \n",
            "PacketLengthVariance                    NaN  ...           NaN           NaN   \n",
            "FINFlagCount                            NaN  ...           NaN           NaN   \n",
            "SYNFlagCount                            NaN  ...           NaN           NaN   \n",
            "RSTFlagCount                            NaN  ...           1.0           NaN   \n",
            "PSHFlagCount                            NaN  ...           NaN           1.0   \n",
            "ACKFlagCount                            NaN  ...           NaN           NaN   \n",
            "URGFlagCount                            NaN  ...           NaN           NaN   \n",
            "Down/UpRatio                            NaN  ...           NaN           NaN   \n",
            "AveragePacketSize                       NaN  ...           NaN           NaN   \n",
            "AvgFwdSegmentSize                  0.913301  ...           NaN           NaN   \n",
            "AvgBwdSegmentSize                       NaN  ...           NaN           NaN   \n",
            "act_data_pkt_fwd                        NaN  ...           NaN           NaN   \n",
            "min_seg_size_forward                    NaN  ...           NaN           NaN   \n",
            "\n",
            "                         ACKFlagCount  URGFlagCount  Down/UpRatio  \\\n",
            "DestinationPort                   NaN           NaN           NaN   \n",
            "FlowDuration                      NaN           NaN           NaN   \n",
            "TotalFwdPackets                   NaN           NaN           NaN   \n",
            "TotalBackwardPackets              NaN           NaN           NaN   \n",
            "TotalLengthofFwdPackets           NaN           NaN           NaN   \n",
            "TotalLengthofBwdPackets           NaN           NaN           NaN   \n",
            "FwdPacketLengthMax                NaN           NaN           NaN   \n",
            "FwdPacketLengthMin                NaN           NaN           NaN   \n",
            "FwdPacketLengthMean               NaN           NaN           NaN   \n",
            "FwdPacketLengthStd                NaN           NaN           NaN   \n",
            "BwdPacketLengthMax                NaN           NaN           NaN   \n",
            "BwdPacketLengthMin                NaN           NaN           NaN   \n",
            "BwdPacketLengthMean               NaN           NaN           NaN   \n",
            "BwdPacketLengthStd                NaN           NaN           NaN   \n",
            "FlowBytes/s                       NaN           NaN           NaN   \n",
            "FlowPackets/s                     NaN           NaN           NaN   \n",
            "FlowIATMean                       NaN           NaN           NaN   \n",
            "FlowIATStd                        NaN           NaN           NaN   \n",
            "FlowIATMax                        NaN           NaN           NaN   \n",
            "FlowIATMin                        NaN           NaN           NaN   \n",
            "FwdIATTotal                       NaN           NaN           NaN   \n",
            "FwdIATMean                        NaN           NaN           NaN   \n",
            "FwdIATStd                         NaN           NaN           NaN   \n",
            "FwdIATMax                         NaN           NaN           NaN   \n",
            "FwdIATMin                         NaN           NaN           NaN   \n",
            "BwdIATTotal                       NaN           NaN           NaN   \n",
            "BwdIATMean                        NaN           NaN           NaN   \n",
            "BwdIATStd                         NaN           NaN           NaN   \n",
            "BwdIATMax                         NaN           NaN           NaN   \n",
            "BwdIATMin                         NaN           NaN           NaN   \n",
            "FwdHeaderLength                   NaN           NaN           NaN   \n",
            "BwdHeaderLength                   NaN           NaN           NaN   \n",
            "FwdPackets/s                      NaN           NaN           NaN   \n",
            "BwdPackets/s                      NaN           NaN           NaN   \n",
            "MinPacketLength                   NaN           NaN           NaN   \n",
            "MaxPacketLength                   NaN           NaN           NaN   \n",
            "PacketLengthMean                  NaN           NaN           NaN   \n",
            "PacketLengthStd                   NaN           NaN           NaN   \n",
            "PacketLengthVariance              NaN           NaN           NaN   \n",
            "FINFlagCount                      NaN           NaN           NaN   \n",
            "SYNFlagCount                      NaN           NaN           NaN   \n",
            "RSTFlagCount                      NaN           NaN           NaN   \n",
            "PSHFlagCount                      NaN           NaN           NaN   \n",
            "ACKFlagCount                      1.0           NaN           NaN   \n",
            "URGFlagCount                      NaN           1.0           NaN   \n",
            "Down/UpRatio                      NaN           NaN           1.0   \n",
            "AveragePacketSize                 NaN           NaN           NaN   \n",
            "AvgFwdSegmentSize                 NaN           NaN           NaN   \n",
            "AvgBwdSegmentSize                 NaN           NaN           NaN   \n",
            "act_data_pkt_fwd                  NaN           NaN           NaN   \n",
            "min_seg_size_forward              NaN           NaN           NaN   \n",
            "\n",
            "                         AveragePacketSize  AvgFwdSegmentSize  \\\n",
            "DestinationPort                        NaN                NaN   \n",
            "FlowDuration                           NaN                NaN   \n",
            "TotalFwdPackets                        NaN                NaN   \n",
            "TotalBackwardPackets                   NaN                NaN   \n",
            "TotalLengthofFwdPackets                NaN                NaN   \n",
            "TotalLengthofBwdPackets                NaN                NaN   \n",
            "FwdPacketLengthMax                     NaN           0.935375   \n",
            "FwdPacketLengthMin                     NaN                NaN   \n",
            "FwdPacketLengthMean                    NaN           1.000000   \n",
            "FwdPacketLengthStd                     NaN           0.913301   \n",
            "BwdPacketLengthMax                     NaN                NaN   \n",
            "BwdPacketLengthMin                     NaN                NaN   \n",
            "BwdPacketLengthMean                    NaN                NaN   \n",
            "BwdPacketLengthStd                     NaN                NaN   \n",
            "FlowBytes/s                            NaN                NaN   \n",
            "FlowPackets/s                          NaN                NaN   \n",
            "FlowIATMean                            NaN                NaN   \n",
            "FlowIATStd                             NaN                NaN   \n",
            "FlowIATMax                             NaN                NaN   \n",
            "FlowIATMin                             NaN                NaN   \n",
            "FwdIATTotal                            NaN                NaN   \n",
            "FwdIATMean                             NaN                NaN   \n",
            "FwdIATStd                              NaN                NaN   \n",
            "FwdIATMax                              NaN                NaN   \n",
            "FwdIATMin                              NaN                NaN   \n",
            "BwdIATTotal                            NaN                NaN   \n",
            "BwdIATMean                             NaN                NaN   \n",
            "BwdIATStd                              NaN                NaN   \n",
            "BwdIATMax                              NaN                NaN   \n",
            "BwdIATMin                              NaN                NaN   \n",
            "FwdHeaderLength                        NaN                NaN   \n",
            "BwdHeaderLength                        NaN                NaN   \n",
            "FwdPackets/s                           NaN                NaN   \n",
            "BwdPackets/s                           NaN                NaN   \n",
            "MinPacketLength                        NaN                NaN   \n",
            "MaxPacketLength                        NaN                NaN   \n",
            "PacketLengthMean                  0.998665                NaN   \n",
            "PacketLengthStd                   0.947461                NaN   \n",
            "PacketLengthVariance                   NaN                NaN   \n",
            "FINFlagCount                           NaN                NaN   \n",
            "SYNFlagCount                           NaN                NaN   \n",
            "RSTFlagCount                           NaN                NaN   \n",
            "PSHFlagCount                           NaN                NaN   \n",
            "ACKFlagCount                           NaN                NaN   \n",
            "URGFlagCount                           NaN                NaN   \n",
            "Down/UpRatio                           NaN                NaN   \n",
            "AveragePacketSize                 1.000000                NaN   \n",
            "AvgFwdSegmentSize                      NaN           1.000000   \n",
            "AvgBwdSegmentSize                      NaN                NaN   \n",
            "act_data_pkt_fwd                       NaN                NaN   \n",
            "min_seg_size_forward                   NaN                NaN   \n",
            "\n",
            "                         AvgBwdSegmentSize  act_data_pkt_fwd  \\\n",
            "DestinationPort                        NaN               NaN   \n",
            "FlowDuration                           NaN               NaN   \n",
            "TotalFwdPackets                        NaN               NaN   \n",
            "TotalBackwardPackets                   NaN               NaN   \n",
            "TotalLengthofFwdPackets                NaN               NaN   \n",
            "TotalLengthofBwdPackets                NaN               NaN   \n",
            "FwdPacketLengthMax                     NaN               NaN   \n",
            "FwdPacketLengthMin                     NaN               NaN   \n",
            "FwdPacketLengthMean                    NaN               NaN   \n",
            "FwdPacketLengthStd                     NaN               NaN   \n",
            "BwdPacketLengthMax                0.962241               NaN   \n",
            "BwdPacketLengthMin                     NaN               NaN   \n",
            "BwdPacketLengthMean               1.000000               NaN   \n",
            "BwdPacketLengthStd                0.944281               NaN   \n",
            "FlowBytes/s                            NaN               NaN   \n",
            "FlowPackets/s                          NaN               NaN   \n",
            "FlowIATMean                            NaN               NaN   \n",
            "FlowIATStd                             NaN               NaN   \n",
            "FlowIATMax                             NaN               NaN   \n",
            "FlowIATMin                             NaN               NaN   \n",
            "FwdIATTotal                            NaN               NaN   \n",
            "FwdIATMean                             NaN               NaN   \n",
            "FwdIATStd                              NaN               NaN   \n",
            "FwdIATMax                              NaN               NaN   \n",
            "FwdIATMin                              NaN               NaN   \n",
            "BwdIATTotal                            NaN               NaN   \n",
            "BwdIATMean                             NaN               NaN   \n",
            "BwdIATStd                              NaN               NaN   \n",
            "BwdIATMax                              NaN               NaN   \n",
            "BwdIATMin                              NaN               NaN   \n",
            "FwdHeaderLength                        NaN               NaN   \n",
            "BwdHeaderLength                        NaN               NaN   \n",
            "FwdPackets/s                           NaN               NaN   \n",
            "BwdPackets/s                           NaN               NaN   \n",
            "MinPacketLength                        NaN               NaN   \n",
            "MaxPacketLength                        NaN               NaN   \n",
            "PacketLengthMean                       NaN               NaN   \n",
            "PacketLengthStd                        NaN               NaN   \n",
            "PacketLengthVariance                   NaN               NaN   \n",
            "FINFlagCount                           NaN               NaN   \n",
            "SYNFlagCount                           NaN               NaN   \n",
            "RSTFlagCount                           NaN               NaN   \n",
            "PSHFlagCount                           NaN               NaN   \n",
            "ACKFlagCount                           NaN               NaN   \n",
            "URGFlagCount                           NaN               NaN   \n",
            "Down/UpRatio                           NaN               NaN   \n",
            "AveragePacketSize                      NaN               NaN   \n",
            "AvgFwdSegmentSize                      NaN               NaN   \n",
            "AvgBwdSegmentSize                 1.000000               NaN   \n",
            "act_data_pkt_fwd                       NaN               1.0   \n",
            "min_seg_size_forward                   NaN               NaN   \n",
            "\n",
            "                         min_seg_size_forward  \n",
            "DestinationPort                           NaN  \n",
            "FlowDuration                              NaN  \n",
            "TotalFwdPackets                           NaN  \n",
            "TotalBackwardPackets                      NaN  \n",
            "TotalLengthofFwdPackets                   NaN  \n",
            "TotalLengthofBwdPackets                   NaN  \n",
            "FwdPacketLengthMax                        NaN  \n",
            "FwdPacketLengthMin                        NaN  \n",
            "FwdPacketLengthMean                       NaN  \n",
            "FwdPacketLengthStd                        NaN  \n",
            "BwdPacketLengthMax                        NaN  \n",
            "BwdPacketLengthMin                        NaN  \n",
            "BwdPacketLengthMean                       NaN  \n",
            "BwdPacketLengthStd                        NaN  \n",
            "FlowBytes/s                               NaN  \n",
            "FlowPackets/s                             NaN  \n",
            "FlowIATMean                               NaN  \n",
            "FlowIATStd                                NaN  \n",
            "FlowIATMax                                NaN  \n",
            "FlowIATMin                                NaN  \n",
            "FwdIATTotal                               NaN  \n",
            "FwdIATMean                                NaN  \n",
            "FwdIATStd                                 NaN  \n",
            "FwdIATMax                                 NaN  \n",
            "FwdIATMin                                 NaN  \n",
            "BwdIATTotal                               NaN  \n",
            "BwdIATMean                                NaN  \n",
            "BwdIATStd                                 NaN  \n",
            "BwdIATMax                                 NaN  \n",
            "BwdIATMin                                 NaN  \n",
            "FwdHeaderLength                           NaN  \n",
            "BwdHeaderLength                           NaN  \n",
            "FwdPackets/s                              NaN  \n",
            "BwdPackets/s                              NaN  \n",
            "MinPacketLength                           NaN  \n",
            "MaxPacketLength                           NaN  \n",
            "PacketLengthMean                          NaN  \n",
            "PacketLengthStd                           NaN  \n",
            "PacketLengthVariance                      NaN  \n",
            "FINFlagCount                              NaN  \n",
            "SYNFlagCount                              NaN  \n",
            "RSTFlagCount                              NaN  \n",
            "PSHFlagCount                              NaN  \n",
            "ACKFlagCount                              NaN  \n",
            "URGFlagCount                              NaN  \n",
            "Down/UpRatio                              NaN  \n",
            "AveragePacketSize                         NaN  \n",
            "AvgFwdSegmentSize                         NaN  \n",
            "AvgBwdSegmentSize                         NaN  \n",
            "act_data_pkt_fwd                          NaN  \n",
            "min_seg_size_forward                      1.0  \n",
            "\n",
            "[51 rows x 51 columns]\n"
          ]
        }
      ],
      "source": [
        "# Calculate the correlation matrix, ignoring non-numerical columns\n",
        "correlation_matrix = data.select_dtypes(include=[np.number]).corr()\n",
        "\n",
        "# Find highly correlated features (e.g., with correlation > 0.9)\n",
        "high_corr = correlation_matrix[correlation_matrix > 0.9]\n",
        "print(high_corr)\n"
      ]
    },
    {
      "cell_type": "code",
      "execution_count": null,
      "metadata": {
        "colab": {
          "base_uri": "https://localhost:8080/"
        },
        "collapsed": true,
        "id": "-B9YfnJ-Dtjw",
        "outputId": "2facd2b9-a2a7-4324-908c-388f0439ad4e"
      },
      "outputs": [
        {
          "name": "stdout",
          "output_type": "stream",
          "text": [
            "Training set size: 86832, Test set size: 21708\n"
          ]
        }
      ],
      "source": [
        "from sklearn.model_selection import train_test_split\n",
        "X = data.drop('Label', axis=1)\n",
        "y = data['Label']\n",
        "X_train, X_test, y_train, y_test = train_test_split(X, y, test_size=0.2, random_state=42)\n",
        "print(f\"Training set size: {len(X_train)}, Test set size: {len(X_test)}\")\n"
      ]
    },
    {
      "cell_type": "code",
      "execution_count": null,
      "metadata": {
        "colab": {
          "base_uri": "https://localhost:8080/"
        },
        "id": "W5vNDodKDvsL",
        "outputId": "e6525957-f00e-4981-85ce-8670c9399214"
      },
      "outputs": [
        {
          "data": {
            "text/plain": [
              "108540"
            ]
          },
          "execution_count": 18,
          "metadata": {},
          "output_type": "execute_result"
        }
      ],
      "source": [
        "# Separate features and labels\n",
        "features = data.drop('Label', axis=1)\n",
        "labels = data['Label']\n",
        "features.replace([np.inf, -np.inf], np.nan, inplace=True)\n",
        "features.dropna(inplace=True)\n",
        "features = features.select_dtypes(include=[float, int])\n",
        "len(features)"
      ]
    },
    {
      "cell_type": "code",
      "execution_count": null,
      "metadata": {
        "id": "EJ2XCWS6D5Z7"
      },
      "outputs": [],
      "source": [
        "from sklearn.preprocessing import StandardScaler\n",
        "\n",
        "scaler = StandardScaler()\n",
        "features_scaled = scaler.fit_transform(features)"
      ]
    },
    {
      "cell_type": "code",
      "execution_count": null,
      "metadata": {
        "id": "71Swd98-D7JI"
      },
      "outputs": [],
      "source": [
        "from sklearn.preprocessing import LabelEncoder\n",
        "\n",
        "label_encoder = LabelEncoder()\n",
        "y_encoded = label_encoder.fit_transform(labels)"
      ]
    },
    {
      "cell_type": "code",
      "execution_count": null,
      "metadata": {
        "colab": {
          "base_uri": "https://localhost:8080/"
        },
        "id": "SOWm_xzBJy1v",
        "outputId": "69fce240-0ce7-4fd1-b039-3062a98bb6c7"
      },
      "outputs": [
        {
          "data": {
            "text/plain": [
              "86832"
            ]
          },
          "execution_count": 21,
          "metadata": {},
          "output_type": "execute_result"
        }
      ],
      "source": [
        "round(data.shape[0]*80/100)"
      ]
    },
    {
      "cell_type": "code",
      "execution_count": null,
      "metadata": {
        "colab": {
          "base_uri": "https://localhost:8080/"
        },
        "id": "yMkQZtqIJ0gn",
        "outputId": "c9ea48db-4f08-4e24-b9f0-67929657ea9b"
      },
      "outputs": [
        {
          "name": "stdout",
          "output_type": "stream",
          "text": [
            "Number of missing values in y_encoded: 0\n"
          ]
        }
      ],
      "source": [
        "missing_labels = np.isnan(y_encoded).sum()\n",
        "print(f\"Number of missing values in y_encoded: {missing_labels}\")"
      ]
    },
    {
      "cell_type": "code",
      "execution_count": null,
      "metadata": {
        "colab": {
          "base_uri": "https://localhost:8080/"
        },
        "id": "E3hDsWh-J1sE",
        "outputId": "8b80fb70-85af-499b-8746-43fbdfad9c8b"
      },
      "outputs": [
        {
          "name": "stdout",
          "output_type": "stream",
          "text": [
            "Length of X_train: 97686\n",
            "Length of y_train: 97686\n",
            "Length of X_test: 10854\n",
            "Length of y_test: 10854\n",
            "Final Length of X_test: 10854\n",
            "Final Length of y_test: 10854\n"
          ]
        }
      ],
      "source": [
        "train_size = round(len(y_encoded) * 0.9)\n",
        "\n",
        "X_train = features_scaled[:train_size]\n",
        "X_test = features_scaled[train_size:]\n",
        "y_train = y_encoded[:train_size]\n",
        "y_test = y_encoded[train_size:]\n",
        "\n",
        "print(f\"Length of X_train: {len(X_train)}\")\n",
        "print(f\"Length of y_train: {len(y_train)}\")\n",
        "print(f\"Length of X_test: {len(X_test)}\")\n",
        "print(f\"Length of y_test: {len(y_test)}\")\n",
        "\n",
        "min_len = min(len(X_test), len(y_test))\n",
        "X_test = X_test[:min_len]\n",
        "y_test = y_test[:min_len]\n",
        "\n",
        "print(f\"Final Length of X_test: {len(X_test)}\")\n",
        "print(f\"Final Length of y_test: {len(y_test)}\")"
      ]
    },
    {
      "cell_type": "code",
      "execution_count": null,
      "metadata": {
        "colab": {
          "background_save": true
        },
        "id": "FwGI_KvKfkxW",
        "outputId": "c10103f3-51fe-42ff-b1f9-87f2226822ac"
      },
      "outputs": [
        {
          "name": "stdout",
          "output_type": "stream",
          "text": [
            "Number of anomalies detected: 1126\n",
            "Accuracy: 0.8154597383453105\n",
            "\n",
            "Classification Report:\n",
            "              precision    recall  f1-score   support\n",
            "\n",
            "      Normal       0.90      0.89      0.90      9809\n",
            "     Anomaly       0.07      0.08      0.08      1045\n",
            "\n",
            "    accuracy                           0.82     10854\n",
            "   macro avg       0.49      0.49      0.49     10854\n",
            "weighted avg       0.82      0.82      0.82     10854\n",
            "\n",
            "\n",
            "Confusion Matrix:\n",
            "[[8767 1042]\n",
            " [ 961   84]]\n"
          ]
        }
      ],
      "source": [
        "from sklearn.svm import OneClassSVM\n",
        "from sklearn.metrics import accuracy_score, classification_report, confusion_matrix\n",
        "import numpy as np\n",
        "\n",
        "# Train One-Class SVM\n",
        "ocsvm = OneClassSVM(kernel='rbf', nu=0.1, gamma=1)\n",
        "ocsvm.fit(X_train)\n",
        "\n",
        "# Make predictions (-1 for anomalies, 1 for normal)\n",
        "y_pred = ocsvm.predict(X_test)\n",
        "\n",
        "# Post-process predictions (convert -1 to 1 for anomalies)\n",
        "ocsvm_predict = np.where(y_pred == -1, 1, 0)\n",
        "\n",
        "# Print number of anomalies detected\n",
        "print(\"Number of anomalies detected:\", (y_pred == -1).sum())\n",
        "\n",
        "# Model Evaluation\n",
        "# Assuming y_test is binary (0 for normal, 1 for anomalies)\n",
        "accuracy = accuracy_score(y_test, ocsvm_predict)\n",
        "print(\"Accuracy:\", accuracy)\n",
        "\n",
        "print(\"\\nClassification Report:\")\n",
        "print(classification_report(y_test, ocsvm_predict, target_names=[\"Normal\", \"Anomaly\"]))\n",
        "\n",
        "# Confusion Matrix\n",
        "cm = confusion_matrix(y_test, ocsvm_predict)\n",
        "print(\"\\nConfusion Matrix:\")\n",
        "print(cm)\n",
        "#30% w"
      ]
    },
    {
      "cell_type": "code",
      "execution_count": null,
      "metadata": {
        "colab": {
          "background_save": true
        },
        "id": "GTeHuMqfP4Gw"
      },
      "outputs": [],
      "source": []
    }
  ],
  "metadata": {
    "colab": {
      "provenance": [],
      "authorship_tag": "ABX9TyOPWOzBmQpFu/MZ0Prw9HgS",
      "include_colab_link": true
    },
    "kernelspec": {
      "display_name": "Python 3",
      "name": "python3"
    },
    "language_info": {
      "name": "python"
    }
  },
  "nbformat": 4,
  "nbformat_minor": 0
}