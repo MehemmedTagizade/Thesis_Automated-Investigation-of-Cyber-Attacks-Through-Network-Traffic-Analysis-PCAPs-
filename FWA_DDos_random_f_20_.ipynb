{
  "nbformat": 4,
  "nbformat_minor": 0,
  "metadata": {
    "colab": {
      "provenance": [],
      "authorship_tag": "ABX9TyOwQqV6Onab6nD7MTjr/kzi",
      "include_colab_link": true
    },
    "kernelspec": {
      "name": "python3",
      "display_name": "Python 3"
    },
    "language_info": {
      "name": "python"
    }
  },
  "cells": [
    {
      "cell_type": "markdown",
      "metadata": {
        "id": "view-in-github",
        "colab_type": "text"
      },
      "source": [
        "<a href=\"https://colab.research.google.com/github/MehemmedTagizade/Thesis_Automated-Investigation-of-Cyber-Attacks-Through-Network-Traffic-Analysis-PCAPs-/blob/TEST-CODES/FWA_DDos_random_f_20_.ipynb\" target=\"_parent\"><img src=\"https://colab.research.google.com/assets/colab-badge.svg\" alt=\"Open In Colab\"/></a>"
      ]
    },
    {
      "cell_type": "code",
      "execution_count": 1,
      "metadata": {
        "id": "rr_LSn1y1I3W"
      },
      "outputs": [],
      "source": [
        "# Import necessary libraries\n",
        "import pandas as pd\n",
        "import numpy as np"
      ]
    },
    {
      "cell_type": "code",
      "source": [
        "\n",
        "from google.colab import drive\n",
        "drive.mount('/content/drive')"
      ],
      "metadata": {
        "colab": {
          "base_uri": "https://localhost:8080/"
        },
        "id": "cJjiZwHv26Jr",
        "outputId": "012086ea-f3a1-4c5f-f7af-66592e40704f"
      },
      "execution_count": 2,
      "outputs": [
        {
          "output_type": "stream",
          "name": "stdout",
          "text": [
            "Mounted at /content/drive\n"
          ]
        }
      ]
    },
    {
      "cell_type": "code",
      "source": [
        "# Load the dataset\n",
        "file_path = '/content/drive/MyDrive/Friday-WorkingHours-Afternoon-DDos.pcap_ISCX.csv'\n",
        "data = pd.read_csv(file_path)\n"
      ],
      "metadata": {
        "id": "91NBR1Nq27n2"
      },
      "execution_count": 5,
      "outputs": []
    },
    {
      "cell_type": "code",
      "source": [
        "print(data.columns)  # See the actual column names\n"
      ],
      "metadata": {
        "colab": {
          "base_uri": "https://localhost:8080/"
        },
        "id": "6HB_MQss3Fdq",
        "outputId": "3f60a145-7876-4797-806a-80fac89be3d4"
      },
      "execution_count": 6,
      "outputs": [
        {
          "output_type": "stream",
          "name": "stdout",
          "text": [
            "Index([' Destination Port', ' Flow Duration', ' Total Fwd Packets',\n",
            "       ' Total Backward Packets', 'Total Length of Fwd Packets',\n",
            "       ' Total Length of Bwd Packets', ' Fwd Packet Length Max',\n",
            "       ' Fwd Packet Length Min', ' Fwd Packet Length Mean',\n",
            "       ' Fwd Packet Length Std', 'Bwd Packet Length Max',\n",
            "       ' Bwd Packet Length Min', ' Bwd Packet Length Mean',\n",
            "       ' Bwd Packet Length Std', 'Flow Bytes/s', ' Flow Packets/s',\n",
            "       ' Flow IAT Mean', ' Flow IAT Std', ' Flow IAT Max', ' Flow IAT Min',\n",
            "       'Fwd IAT Total', ' Fwd IAT Mean', ' Fwd IAT Std', ' Fwd IAT Max',\n",
            "       ' Fwd IAT Min', 'Bwd IAT Total', ' Bwd IAT Mean', ' Bwd IAT Std',\n",
            "       ' Bwd IAT Max', ' Bwd IAT Min', 'Fwd PSH Flags', ' Bwd PSH Flags',\n",
            "       ' Fwd URG Flags', ' Bwd URG Flags', ' Fwd Header Length',\n",
            "       ' Bwd Header Length', 'Fwd Packets/s', ' Bwd Packets/s',\n",
            "       ' Min Packet Length', ' Max Packet Length', ' Packet Length Mean',\n",
            "       ' Packet Length Std', ' Packet Length Variance', 'FIN Flag Count',\n",
            "       ' SYN Flag Count', ' RST Flag Count', ' PSH Flag Count',\n",
            "       ' ACK Flag Count', ' URG Flag Count', ' CWE Flag Count',\n",
            "       ' ECE Flag Count', ' Down/Up Ratio', ' Average Packet Size',\n",
            "       ' Avg Fwd Segment Size', ' Avg Bwd Segment Size',\n",
            "       ' Fwd Header Length.1', 'Fwd Avg Bytes/Bulk', ' Fwd Avg Packets/Bulk',\n",
            "       ' Fwd Avg Bulk Rate', ' Bwd Avg Bytes/Bulk', ' Bwd Avg Packets/Bulk',\n",
            "       'Bwd Avg Bulk Rate', 'Subflow Fwd Packets', ' Subflow Fwd Bytes',\n",
            "       ' Subflow Bwd Packets', ' Subflow Bwd Bytes', 'Init_Win_bytes_forward',\n",
            "       ' Init_Win_bytes_backward', ' act_data_pkt_fwd',\n",
            "       ' min_seg_size_forward', 'Active Mean', ' Active Std', ' Active Max',\n",
            "       ' Active Min', 'Idle Mean', ' Idle Std', ' Idle Max', ' Idle Min',\n",
            "       ' Label'],\n",
            "      dtype='object')\n"
          ]
        }
      ]
    },
    {
      "cell_type": "code",
      "source": [
        "data.rename(columns=lambda x: x.strip(), inplace=True)\n"
      ],
      "metadata": {
        "id": "-PuNq3Ig6GmN"
      },
      "execution_count": 7,
      "outputs": []
    },
    {
      "cell_type": "code",
      "source": [
        "print(data.columns)\n"
      ],
      "metadata": {
        "colab": {
          "base_uri": "https://localhost:8080/"
        },
        "id": "PkErvO656IES",
        "outputId": "0b880bc5-fd05-40a0-c67c-460edfa5cbdd"
      },
      "execution_count": 8,
      "outputs": [
        {
          "output_type": "stream",
          "name": "stdout",
          "text": [
            "Index(['Destination Port', 'Flow Duration', 'Total Fwd Packets',\n",
            "       'Total Backward Packets', 'Total Length of Fwd Packets',\n",
            "       'Total Length of Bwd Packets', 'Fwd Packet Length Max',\n",
            "       'Fwd Packet Length Min', 'Fwd Packet Length Mean',\n",
            "       'Fwd Packet Length Std', 'Bwd Packet Length Max',\n",
            "       'Bwd Packet Length Min', 'Bwd Packet Length Mean',\n",
            "       'Bwd Packet Length Std', 'Flow Bytes/s', 'Flow Packets/s',\n",
            "       'Flow IAT Mean', 'Flow IAT Std', 'Flow IAT Max', 'Flow IAT Min',\n",
            "       'Fwd IAT Total', 'Fwd IAT Mean', 'Fwd IAT Std', 'Fwd IAT Max',\n",
            "       'Fwd IAT Min', 'Bwd IAT Total', 'Bwd IAT Mean', 'Bwd IAT Std',\n",
            "       'Bwd IAT Max', 'Bwd IAT Min', 'Fwd PSH Flags', 'Bwd PSH Flags',\n",
            "       'Fwd URG Flags', 'Bwd URG Flags', 'Fwd Header Length',\n",
            "       'Bwd Header Length', 'Fwd Packets/s', 'Bwd Packets/s',\n",
            "       'Min Packet Length', 'Max Packet Length', 'Packet Length Mean',\n",
            "       'Packet Length Std', 'Packet Length Variance', 'FIN Flag Count',\n",
            "       'SYN Flag Count', 'RST Flag Count', 'PSH Flag Count', 'ACK Flag Count',\n",
            "       'URG Flag Count', 'CWE Flag Count', 'ECE Flag Count', 'Down/Up Ratio',\n",
            "       'Average Packet Size', 'Avg Fwd Segment Size', 'Avg Bwd Segment Size',\n",
            "       'Fwd Header Length.1', 'Fwd Avg Bytes/Bulk', 'Fwd Avg Packets/Bulk',\n",
            "       'Fwd Avg Bulk Rate', 'Bwd Avg Bytes/Bulk', 'Bwd Avg Packets/Bulk',\n",
            "       'Bwd Avg Bulk Rate', 'Subflow Fwd Packets', 'Subflow Fwd Bytes',\n",
            "       'Subflow Bwd Packets', 'Subflow Bwd Bytes', 'Init_Win_bytes_forward',\n",
            "       'Init_Win_bytes_backward', 'act_data_pkt_fwd', 'min_seg_size_forward',\n",
            "       'Active Mean', 'Active Std', 'Active Max', 'Active Min', 'Idle Mean',\n",
            "       'Idle Std', 'Idle Max', 'Idle Min', 'Label'],\n",
            "      dtype='object')\n"
          ]
        }
      ]
    },
    {
      "cell_type": "code",
      "source": [
        "import pandas as pd\n",
        "\n",
        "# Load your dataset (replace 'your_dataset.csv' with the actual filename)\n",
        "\n",
        "\n",
        "# Check if \"Label\" column exists\n",
        "if \"Label\" in data.columns:\n",
        "    unique_labels = data[\"Label\"].unique()\n",
        "    print(f\"Unique values in 'Label' column: {unique_labels}\")\n",
        "    print(f\"Number of unique values: {len(unique_labels)}\")\n",
        "else:\n",
        "    print(\"No 'Label' column found in this dataset.\")\n",
        "# Count occurrences of each label\n",
        "label_counts = data[\"Label\"].value_counts()\n",
        "\n",
        "# Convert to percentages\n",
        "label_percentages = (label_counts / label_counts.sum()) * 100\n",
        "\n",
        "# Display the results\n",
        "print(label_percentages)\n",
        "\n"
      ],
      "metadata": {
        "colab": {
          "base_uri": "https://localhost:8080/"
        },
        "id": "54y6E4Vd3O0c",
        "outputId": "3f4dab03-6307-403a-dd07-380c1c6c6f59"
      },
      "execution_count": 9,
      "outputs": [
        {
          "output_type": "stream",
          "name": "stdout",
          "text": [
            "Unique values in 'Label' column: ['BENIGN' 'DDoS']\n",
            "Number of unique values: 2\n",
            "Label\n",
            "DDoS      56.713105\n",
            "BENIGN    43.286895\n",
            "Name: count, dtype: float64\n"
          ]
        }
      ]
    },
    {
      "cell_type": "code",
      "source": [
        "\n",
        "# Clean column names by removing extra spaces\n",
        "data.columns = data.columns.str.replace(' ', '')\n",
        "print(data.columns)"
      ],
      "metadata": {
        "id": "d6ix8HPn3jAJ",
        "colab": {
          "base_uri": "https://localhost:8080/"
        },
        "outputId": "31f7b086-5a9d-40c3-eb62-3e0593fd5826"
      },
      "execution_count": 10,
      "outputs": [
        {
          "output_type": "stream",
          "name": "stdout",
          "text": [
            "Index(['DestinationPort', 'FlowDuration', 'TotalFwdPackets',\n",
            "       'TotalBackwardPackets', 'TotalLengthofFwdPackets',\n",
            "       'TotalLengthofBwdPackets', 'FwdPacketLengthMax', 'FwdPacketLengthMin',\n",
            "       'FwdPacketLengthMean', 'FwdPacketLengthStd', 'BwdPacketLengthMax',\n",
            "       'BwdPacketLengthMin', 'BwdPacketLengthMean', 'BwdPacketLengthStd',\n",
            "       'FlowBytes/s', 'FlowPackets/s', 'FlowIATMean', 'FlowIATStd',\n",
            "       'FlowIATMax', 'FlowIATMin', 'FwdIATTotal', 'FwdIATMean', 'FwdIATStd',\n",
            "       'FwdIATMax', 'FwdIATMin', 'BwdIATTotal', 'BwdIATMean', 'BwdIATStd',\n",
            "       'BwdIATMax', 'BwdIATMin', 'FwdPSHFlags', 'BwdPSHFlags', 'FwdURGFlags',\n",
            "       'BwdURGFlags', 'FwdHeaderLength', 'BwdHeaderLength', 'FwdPackets/s',\n",
            "       'BwdPackets/s', 'MinPacketLength', 'MaxPacketLength',\n",
            "       'PacketLengthMean', 'PacketLengthStd', 'PacketLengthVariance',\n",
            "       'FINFlagCount', 'SYNFlagCount', 'RSTFlagCount', 'PSHFlagCount',\n",
            "       'ACKFlagCount', 'URGFlagCount', 'CWEFlagCount', 'ECEFlagCount',\n",
            "       'Down/UpRatio', 'AveragePacketSize', 'AvgFwdSegmentSize',\n",
            "       'AvgBwdSegmentSize', 'FwdHeaderLength.1', 'FwdAvgBytes/Bulk',\n",
            "       'FwdAvgPackets/Bulk', 'FwdAvgBulkRate', 'BwdAvgBytes/Bulk',\n",
            "       'BwdAvgPackets/Bulk', 'BwdAvgBulkRate', 'SubflowFwdPackets',\n",
            "       'SubflowFwdBytes', 'SubflowBwdPackets', 'SubflowBwdBytes',\n",
            "       'Init_Win_bytes_forward', 'Init_Win_bytes_backward', 'act_data_pkt_fwd',\n",
            "       'min_seg_size_forward', 'ActiveMean', 'ActiveStd', 'ActiveMax',\n",
            "       'ActiveMin', 'IdleMean', 'IdleStd', 'IdleMax', 'IdleMin', 'Label'],\n",
            "      dtype='object')\n"
          ]
        }
      ]
    },
    {
      "cell_type": "code",
      "source": [
        "data.replace([np.inf, -np.inf], np.nan, inplace=True)\n",
        "data.dropna(inplace=True)\n",
        "\n",
        "# Display the first 10 rows of the dataset\n",
        "print(\"First 10 rows of the dataset:\")\n",
        "print(data.head(10))\n",
        "\n"
      ],
      "metadata": {
        "id": "c4RfNagE6VD3",
        "colab": {
          "base_uri": "https://localhost:8080/"
        },
        "outputId": "5f34d77f-21d1-43fc-f111-552abcd16f67"
      },
      "execution_count": 11,
      "outputs": [
        {
          "output_type": "stream",
          "name": "stdout",
          "text": [
            "First 10 rows of the dataset:\n",
            "   DestinationPort  FlowDuration  TotalFwdPackets  TotalBackwardPackets  \\\n",
            "0            54865             3                2                     0   \n",
            "1            55054           109                1                     1   \n",
            "2            55055            52                1                     1   \n",
            "3            46236            34                1                     1   \n",
            "4            54863             3                2                     0   \n",
            "5            54871          1022                2                     0   \n",
            "6            54925             4                2                     0   \n",
            "7            54925            42                1                     1   \n",
            "8             9282             4                2                     0   \n",
            "9            55153             4                2                     0   \n",
            "\n",
            "   TotalLengthofFwdPackets  TotalLengthofBwdPackets  FwdPacketLengthMax  \\\n",
            "0                       12                        0                   6   \n",
            "1                        6                        6                   6   \n",
            "2                        6                        6                   6   \n",
            "3                        6                        6                   6   \n",
            "4                       12                        0                   6   \n",
            "5                       12                        0                   6   \n",
            "6                       12                        0                   6   \n",
            "7                        6                        6                   6   \n",
            "8                       12                        0                   6   \n",
            "9                       37                        0                  31   \n",
            "\n",
            "   FwdPacketLengthMin  FwdPacketLengthMean  FwdPacketLengthStd  ...  \\\n",
            "0                   6                  6.0             0.00000  ...   \n",
            "1                   6                  6.0             0.00000  ...   \n",
            "2                   6                  6.0             0.00000  ...   \n",
            "3                   6                  6.0             0.00000  ...   \n",
            "4                   6                  6.0             0.00000  ...   \n",
            "5                   6                  6.0             0.00000  ...   \n",
            "6                   6                  6.0             0.00000  ...   \n",
            "7                   6                  6.0             0.00000  ...   \n",
            "8                   6                  6.0             0.00000  ...   \n",
            "9                   6                 18.5            17.67767  ...   \n",
            "\n",
            "   min_seg_size_forward  ActiveMean  ActiveStd  ActiveMax  ActiveMin  \\\n",
            "0                    20         0.0        0.0          0          0   \n",
            "1                    20         0.0        0.0          0          0   \n",
            "2                    20         0.0        0.0          0          0   \n",
            "3                    20         0.0        0.0          0          0   \n",
            "4                    20         0.0        0.0          0          0   \n",
            "5                    20         0.0        0.0          0          0   \n",
            "6                    20         0.0        0.0          0          0   \n",
            "7                    20         0.0        0.0          0          0   \n",
            "8                    20         0.0        0.0          0          0   \n",
            "9                    20         0.0        0.0          0          0   \n",
            "\n",
            "   IdleMean  IdleStd  IdleMax  IdleMin   Label  \n",
            "0       0.0      0.0        0        0  BENIGN  \n",
            "1       0.0      0.0        0        0  BENIGN  \n",
            "2       0.0      0.0        0        0  BENIGN  \n",
            "3       0.0      0.0        0        0  BENIGN  \n",
            "4       0.0      0.0        0        0  BENIGN  \n",
            "5       0.0      0.0        0        0  BENIGN  \n",
            "6       0.0      0.0        0        0  BENIGN  \n",
            "7       0.0      0.0        0        0  BENIGN  \n",
            "8       0.0      0.0        0        0  BENIGN  \n",
            "9       0.0      0.0        0        0  BENIGN  \n",
            "\n",
            "[10 rows x 79 columns]\n"
          ]
        }
      ]
    },
    {
      "cell_type": "code",
      "source": [
        "print(data.isnull().sum())\n"
      ],
      "metadata": {
        "colab": {
          "base_uri": "https://localhost:8080/"
        },
        "id": "MTmUZ621Dhxy",
        "outputId": "98e07632-6981-4fcd-bf7c-0b8beb95a078"
      },
      "execution_count": 12,
      "outputs": [
        {
          "output_type": "stream",
          "name": "stdout",
          "text": [
            "DestinationPort            0\n",
            "FlowDuration               0\n",
            "TotalFwdPackets            0\n",
            "TotalBackwardPackets       0\n",
            "TotalLengthofFwdPackets    0\n",
            "                          ..\n",
            "IdleMean                   0\n",
            "IdleStd                    0\n",
            "IdleMax                    0\n",
            "IdleMin                    0\n",
            "Label                      0\n",
            "Length: 79, dtype: int64\n"
          ]
        }
      ]
    },
    {
      "cell_type": "code",
      "source": [
        "print(data['Label'].value_counts())\n"
      ],
      "metadata": {
        "colab": {
          "base_uri": "https://localhost:8080/"
        },
        "id": "Ropw-qyRDogx",
        "outputId": "d779b5da-cac7-4cb4-c170-14340b9251b3"
      },
      "execution_count": 13,
      "outputs": [
        {
          "output_type": "stream",
          "name": "stdout",
          "text": [
            "Label\n",
            "DDoS      128025\n",
            "BENIGN     97686\n",
            "Name: count, dtype: int64\n"
          ]
        }
      ]
    },
    {
      "cell_type": "code",
      "source": [
        "begnin_count = data[data['Label'] == 'BENIGN'].shape[0]\n",
        "print(f\"Number of BENIGN samples: {begnin_count}\")\n",
        "\n",
        "ddos_count = data[data['Label'] == 'DDoS'].shape[0]\n",
        "print(f\"Number of DDoS samples: {ddos_count}\")"
      ],
      "metadata": {
        "colab": {
          "base_uri": "https://localhost:8080/"
        },
        "id": "Ki8mnosAg_sf",
        "outputId": "d2b66957-0053-47b3-bd51-039bb7652d6a"
      },
      "execution_count": 14,
      "outputs": [
        {
          "output_type": "stream",
          "name": "stdout",
          "text": [
            "Number of BENIGN samples: 97686\n",
            "Number of DDoS samples: 128025\n"
          ]
        }
      ]
    },
    {
      "cell_type": "code",
      "source": [
        "from math import floor\n",
        "benign_samples = data[data['Label'] == 'BENIGN']\n",
        "percentage = 0.2\n",
        "malicious_samples = data[data['Label'] == 'DDoS'].sample(n=floor((begnin_count*percentage)/(1-percentage)), random_state=42)\n",
        "\n",
        "# Combine the sampled data\n",
        "data = pd.concat([benign_samples, malicious_samples])\n",
        "\n",
        "# Shuffle the data\n",
        "data = data.sample(frac=1, random_state=42).reset_index(drop=True)"
      ],
      "metadata": {
        "id": "bFIVNfK0i-dR"
      },
      "execution_count": 15,
      "outputs": []
    },
    {
      "cell_type": "code",
      "source": [
        "print(data['Label'].value_counts())\n"
      ],
      "metadata": {
        "colab": {
          "base_uri": "https://localhost:8080/"
        },
        "id": "aMNqYC5_DqRm",
        "outputId": "947ce6e6-948c-4979-b7b3-95461e8877c9"
      },
      "execution_count": 16,
      "outputs": [
        {
          "output_type": "stream",
          "name": "stdout",
          "text": [
            "Label\n",
            "BENIGN    97686\n",
            "DDoS      24421\n",
            "Name: count, dtype: int64\n"
          ]
        }
      ]
    },
    {
      "cell_type": "code",
      "source": [
        "# Calculate the correlation matrix, ignoring non-numerical columns\n",
        "correlation_matrix = data.select_dtypes(include=[np.number]).corr()\n",
        "\n",
        "# Find highly correlated features (e.g., with correlation > 0.9)\n",
        "high_corr = correlation_matrix[correlation_matrix > 0.9]\n",
        "print(high_corr)\n"
      ],
      "metadata": {
        "colab": {
          "base_uri": "https://localhost:8080/"
        },
        "collapsed": true,
        "id": "Ou_p4Ry5DrpD",
        "outputId": "6e5001c1-a9de-4260-ee2d-bad9249cf7de"
      },
      "execution_count": 17,
      "outputs": [
        {
          "output_type": "stream",
          "name": "stdout",
          "text": [
            "                         DestinationPort  FlowDuration  TotalFwdPackets  \\\n",
            "DestinationPort                      1.0           NaN              NaN   \n",
            "FlowDuration                         NaN           1.0              NaN   \n",
            "TotalFwdPackets                      NaN           NaN         1.000000   \n",
            "TotalBackwardPackets                 NaN           NaN         0.963664   \n",
            "TotalLengthofFwdPackets              NaN           NaN              NaN   \n",
            "...                                  ...           ...              ...   \n",
            "ActiveMin                            NaN           NaN              NaN   \n",
            "IdleMean                             NaN           NaN              NaN   \n",
            "IdleStd                              NaN           NaN              NaN   \n",
            "IdleMax                              NaN           NaN              NaN   \n",
            "IdleMin                              NaN           NaN              NaN   \n",
            "\n",
            "                         TotalBackwardPackets  TotalLengthofFwdPackets  \\\n",
            "DestinationPort                           NaN                      NaN   \n",
            "FlowDuration                              NaN                      NaN   \n",
            "TotalFwdPackets                      0.963664                      NaN   \n",
            "TotalBackwardPackets                 1.000000                      NaN   \n",
            "TotalLengthofFwdPackets                   NaN                      1.0   \n",
            "...                                       ...                      ...   \n",
            "ActiveMin                                 NaN                      NaN   \n",
            "IdleMean                                  NaN                      NaN   \n",
            "IdleStd                                   NaN                      NaN   \n",
            "IdleMax                                   NaN                      NaN   \n",
            "IdleMin                                   NaN                      NaN   \n",
            "\n",
            "                         TotalLengthofBwdPackets  FwdPacketLengthMax  \\\n",
            "DestinationPort                              NaN                 NaN   \n",
            "FlowDuration                                 NaN                 NaN   \n",
            "TotalFwdPackets                         0.947935                 NaN   \n",
            "TotalBackwardPackets                    0.974546                 NaN   \n",
            "TotalLengthofFwdPackets                      NaN                 NaN   \n",
            "...                                          ...                 ...   \n",
            "ActiveMin                                    NaN                 NaN   \n",
            "IdleMean                                     NaN                 NaN   \n",
            "IdleStd                                      NaN                 NaN   \n",
            "IdleMax                                      NaN                 NaN   \n",
            "IdleMin                                      NaN                 NaN   \n",
            "\n",
            "                         FwdPacketLengthMin  FwdPacketLengthMean  \\\n",
            "DestinationPort                         NaN                  NaN   \n",
            "FlowDuration                            NaN                  NaN   \n",
            "TotalFwdPackets                         NaN                  NaN   \n",
            "TotalBackwardPackets                    NaN                  NaN   \n",
            "TotalLengthofFwdPackets                 NaN                  NaN   \n",
            "...                                     ...                  ...   \n",
            "ActiveMin                               NaN                  NaN   \n",
            "IdleMean                                NaN                  NaN   \n",
            "IdleStd                                 NaN                  NaN   \n",
            "IdleMax                                 NaN                  NaN   \n",
            "IdleMin                                 NaN                  NaN   \n",
            "\n",
            "                         FwdPacketLengthStd  ...  act_data_pkt_fwd  \\\n",
            "DestinationPort                         NaN  ...               NaN   \n",
            "FlowDuration                            NaN  ...               NaN   \n",
            "TotalFwdPackets                         NaN  ...               NaN   \n",
            "TotalBackwardPackets                    NaN  ...               NaN   \n",
            "TotalLengthofFwdPackets                 NaN  ...               NaN   \n",
            "...                                     ...  ...               ...   \n",
            "ActiveMin                               NaN  ...               NaN   \n",
            "IdleMean                                NaN  ...               NaN   \n",
            "IdleStd                                 NaN  ...               NaN   \n",
            "IdleMax                                 NaN  ...               NaN   \n",
            "IdleMin                                 NaN  ...               NaN   \n",
            "\n",
            "                         min_seg_size_forward  ActiveMean  ActiveStd  \\\n",
            "DestinationPort                           NaN         NaN        NaN   \n",
            "FlowDuration                              NaN         NaN        NaN   \n",
            "TotalFwdPackets                           NaN         NaN        NaN   \n",
            "TotalBackwardPackets                      NaN         NaN        NaN   \n",
            "TotalLengthofFwdPackets                   NaN         NaN        NaN   \n",
            "...                                       ...         ...        ...   \n",
            "ActiveMin                                 NaN    0.968853        NaN   \n",
            "IdleMean                                  NaN         NaN        NaN   \n",
            "IdleStd                                   NaN         NaN        NaN   \n",
            "IdleMax                                   NaN         NaN        NaN   \n",
            "IdleMin                                   NaN         NaN        NaN   \n",
            "\n",
            "                         ActiveMax  ActiveMin  IdleMean  IdleStd   IdleMax  \\\n",
            "DestinationPort                NaN        NaN       NaN      NaN       NaN   \n",
            "FlowDuration                   NaN        NaN       NaN      NaN       NaN   \n",
            "TotalFwdPackets                NaN        NaN       NaN      NaN       NaN   \n",
            "TotalBackwardPackets           NaN        NaN       NaN      NaN       NaN   \n",
            "TotalLengthofFwdPackets        NaN        NaN       NaN      NaN       NaN   \n",
            "...                            ...        ...       ...      ...       ...   \n",
            "ActiveMin                      NaN        1.0       NaN      NaN       NaN   \n",
            "IdleMean                       NaN        NaN  1.000000      NaN  0.955286   \n",
            "IdleStd                        NaN        NaN       NaN      1.0       NaN   \n",
            "IdleMax                        NaN        NaN  0.955286      NaN  1.000000   \n",
            "IdleMin                        NaN        NaN  0.918711      NaN       NaN   \n",
            "\n",
            "                          IdleMin  \n",
            "DestinationPort               NaN  \n",
            "FlowDuration                  NaN  \n",
            "TotalFwdPackets               NaN  \n",
            "TotalBackwardPackets          NaN  \n",
            "TotalLengthofFwdPackets       NaN  \n",
            "...                           ...  \n",
            "ActiveMin                     NaN  \n",
            "IdleMean                 0.918711  \n",
            "IdleStd                       NaN  \n",
            "IdleMax                       NaN  \n",
            "IdleMin                  1.000000  \n",
            "\n",
            "[78 rows x 78 columns]\n"
          ]
        }
      ]
    },
    {
      "cell_type": "code",
      "source": [
        "from sklearn.model_selection import train_test_split\n",
        "X = data.drop('Label', axis=1)\n",
        "y = data['Label']\n",
        "X_train, X_test, y_train, y_test = train_test_split(X, y, test_size=0.2, random_state=42)\n",
        "print(f\"Training set size: {len(X_train)}, Test set size: {len(X_test)}\")\n"
      ],
      "metadata": {
        "colab": {
          "base_uri": "https://localhost:8080/"
        },
        "collapsed": true,
        "id": "-B9YfnJ-Dtjw",
        "outputId": "f8196976-c88b-4b15-d0ac-28cec7abf9f0"
      },
      "execution_count": 18,
      "outputs": [
        {
          "output_type": "stream",
          "name": "stdout",
          "text": [
            "Training set size: 97685, Test set size: 24422\n"
          ]
        }
      ]
    },
    {
      "cell_type": "code",
      "source": [
        "# Separate features and labels\n",
        "features = data.drop('Label', axis=1)\n",
        "labels = data['Label']\n",
        "features.replace([np.inf, -np.inf], np.nan, inplace=True)\n",
        "features.dropna(inplace=True)\n",
        "features = features.select_dtypes(include=[float, int])\n",
        "len(features)"
      ],
      "metadata": {
        "colab": {
          "base_uri": "https://localhost:8080/"
        },
        "id": "W5vNDodKDvsL",
        "outputId": "a9de2f8c-b913-4fc7-a2bb-f85ee0be5f87"
      },
      "execution_count": 19,
      "outputs": [
        {
          "output_type": "execute_result",
          "data": {
            "text/plain": [
              "122107"
            ]
          },
          "metadata": {},
          "execution_count": 19
        }
      ]
    },
    {
      "cell_type": "code",
      "source": [
        "from sklearn.preprocessing import StandardScaler\n",
        "\n",
        "scaler = StandardScaler()\n",
        "features_scaled = scaler.fit_transform(features)"
      ],
      "metadata": {
        "id": "EJ2XCWS6D5Z7"
      },
      "execution_count": 20,
      "outputs": []
    },
    {
      "cell_type": "code",
      "source": [
        "from sklearn.preprocessing import LabelEncoder\n",
        "\n",
        "label_encoder = LabelEncoder()\n",
        "y_encoded = label_encoder.fit_transform(labels)"
      ],
      "metadata": {
        "id": "71Swd98-D7JI"
      },
      "execution_count": 21,
      "outputs": []
    },
    {
      "cell_type": "code",
      "source": [
        "round(data.shape[0]*80/100)"
      ],
      "metadata": {
        "colab": {
          "base_uri": "https://localhost:8080/"
        },
        "id": "SOWm_xzBJy1v",
        "outputId": "1d63fc51-e4a1-41ee-92f4-325fe7238467"
      },
      "execution_count": 22,
      "outputs": [
        {
          "output_type": "execute_result",
          "data": {
            "text/plain": [
              "97686"
            ]
          },
          "metadata": {},
          "execution_count": 22
        }
      ]
    },
    {
      "cell_type": "code",
      "source": [
        "missing_labels = np.isnan(y_encoded).sum()\n",
        "print(f\"Number of missing values in y_encoded: {missing_labels}\")"
      ],
      "metadata": {
        "colab": {
          "base_uri": "https://localhost:8080/"
        },
        "id": "yMkQZtqIJ0gn",
        "outputId": "d6c3f002-9f01-4330-d61e-634848c68468"
      },
      "execution_count": 23,
      "outputs": [
        {
          "output_type": "stream",
          "name": "stdout",
          "text": [
            "Number of missing values in y_encoded: 0\n"
          ]
        }
      ]
    },
    {
      "cell_type": "code",
      "source": [
        "train_size = round(len(y_encoded) * 0.9)\n",
        "\n",
        "X_train = features_scaled[:train_size]\n",
        "X_test = features_scaled[train_size:]\n",
        "y_train = y_encoded[:train_size]\n",
        "y_test = y_encoded[train_size:]\n",
        "\n",
        "print(f\"Length of X_train: {len(X_train)}\")\n",
        "print(f\"Length of y_train: {len(y_train)}\")\n",
        "print(f\"Length of X_test: {len(X_test)}\")\n",
        "print(f\"Length of y_test: {len(y_test)}\")\n",
        "\n",
        "min_len = min(len(X_test), len(y_test))\n",
        "X_test = X_test[:min_len]\n",
        "y_test = y_test[:min_len]\n",
        "\n",
        "print(f\"Final Length of X_test: {len(X_test)}\")\n",
        "print(f\"Final Length of y_test: {len(y_test)}\")"
      ],
      "metadata": {
        "colab": {
          "base_uri": "https://localhost:8080/"
        },
        "id": "E3hDsWh-J1sE",
        "outputId": "feab7300-8070-4e84-9730-729bbd7c2dd4"
      },
      "execution_count": 24,
      "outputs": [
        {
          "output_type": "stream",
          "name": "stdout",
          "text": [
            "Length of X_train: 109896\n",
            "Length of y_train: 109896\n",
            "Length of X_test: 12211\n",
            "Length of y_test: 12211\n",
            "Final Length of X_test: 12211\n",
            "Final Length of y_test: 12211\n"
          ]
        }
      ]
    },
    {
      "cell_type": "code",
      "source": [
        "from sklearn.ensemble import RandomForestClassifier\n",
        "from sklearn.metrics import accuracy_score, classification_report, confusion_matrix, roc_auc_score\n",
        "import numpy as np\n",
        "\n",
        "# Train Random Forest\n",
        "rf = RandomForestClassifier(n_estimators=200, random_state=42, class_weight='balanced')\n",
        "rf.fit(X_train, y_train)\n",
        "\n",
        "# Make predictions\n",
        "y_pred = rf.predict(X_test)\n",
        "\n",
        "# Model Evaluation\n",
        "# Accuracy\n",
        "accuracy = accuracy_score(y_test, y_pred)\n",
        "print(\"Accuracy:\", accuracy)\n",
        "\n",
        "# Classification Report\n",
        "print(\"\\nClassification Report:\")\n",
        "print(classification_report(y_test, y_pred, target_names=[\"Normal\", \"Anomaly\"]))\n",
        "\n",
        "# Confusion Matrix\n",
        "cm = confusion_matrix(y_test, y_pred)\n",
        "print(\"\\nConfusion Matrix:\")\n",
        "print(cm)\n",
        "\n",
        "# ROC AUC Score\n",
        "roc_auc = roc_auc_score(y_test, rf.predict_proba(X_test)[:, 1])\n",
        "print(\"\\nROC AUC Score:\", roc_auc)\n",
        "\n",
        "# Count the number of anomalies detected\n",
        "num_anomalies = np.sum(y_pred == 1)  # Assuming \"1\" represents anomalies in your dataset\n",
        "print(\"\\nNumber of anomalies detected:\", num_anomalies)\n"
      ],
      "metadata": {
        "colab": {
          "base_uri": "https://localhost:8080/"
        },
        "id": "FwGI_KvKfkxW",
        "outputId": "70ba0fc3-e7cc-4eb4-afdc-8b43d774e0f2"
      },
      "execution_count": 25,
      "outputs": [
        {
          "output_type": "stream",
          "name": "stdout",
          "text": [
            "Accuracy: 0.999918106625174\n",
            "\n",
            "Classification Report:\n",
            "              precision    recall  f1-score   support\n",
            "\n",
            "      Normal       1.00      1.00      1.00      9796\n",
            "     Anomaly       1.00      1.00      1.00      2415\n",
            "\n",
            "    accuracy                           1.00     12211\n",
            "   macro avg       1.00      1.00      1.00     12211\n",
            "weighted avg       1.00      1.00      1.00     12211\n",
            "\n",
            "\n",
            "Confusion Matrix:\n",
            "[[9796    0]\n",
            " [   1 2414]]\n",
            "\n",
            "ROC AUC Score: 0.999999894324552\n",
            "\n",
            "Number of anomalies detected: 2414\n"
          ]
        }
      ]
    },
    {
      "cell_type": "code",
      "source": [],
      "metadata": {
        "id": "GTeHuMqfP4Gw"
      },
      "execution_count": 25,
      "outputs": []
    }
  ]
}