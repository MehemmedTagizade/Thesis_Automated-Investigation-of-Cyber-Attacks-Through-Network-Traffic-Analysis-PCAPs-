{
  "nbformat": 4,
  "nbformat_minor": 0,
  "metadata": {
    "colab": {
      "provenance": [],
      "authorship_tag": "ABX9TyPQp+eOevuaOu2XeStT+VuP",
      "include_colab_link": true
    },
    "kernelspec": {
      "name": "python3",
      "display_name": "Python 3"
    },
    "language_info": {
      "name": "python"
    }
  },
  "cells": [
    {
      "cell_type": "markdown",
      "metadata": {
        "id": "view-in-github",
        "colab_type": "text"
      },
      "source": [
        "<a href=\"https://colab.research.google.com/github/MehemmedTagizade/Thesis_Automated-Investigation-of-Cyber-Attacks-Through-Network-Traffic-Analysis-PCAPs-/blob/TEST-CODES/FWA_DDos_ISOLATION_F_RED_FEA_20_.ipynb\" target=\"_parent\"><img src=\"https://colab.research.google.com/assets/colab-badge.svg\" alt=\"Open In Colab\"/></a>"
      ]
    },
    {
      "cell_type": "code",
      "execution_count": 1,
      "metadata": {
        "id": "rr_LSn1y1I3W"
      },
      "outputs": [],
      "source": [
        "# Import necessary libraries\n",
        "import pandas as pd\n",
        "import numpy as np"
      ]
    },
    {
      "cell_type": "code",
      "source": [
        "\n",
        "from google.colab import drive\n",
        "drive.mount('/content/drive')"
      ],
      "metadata": {
        "colab": {
          "base_uri": "https://localhost:8080/"
        },
        "id": "cJjiZwHv26Jr",
        "outputId": "2503b1e2-c967-40b4-aebb-278e4a7f07d4"
      },
      "execution_count": 2,
      "outputs": [
        {
          "output_type": "stream",
          "name": "stdout",
          "text": [
            "Mounted at /content/drive\n"
          ]
        }
      ]
    },
    {
      "cell_type": "code",
      "source": [
        "# Load the dataset\n",
        "file_path = '/content/drive/MyDrive/Friday-WorkingHours-Afternoon-DDos.pcap_ISCX.csv'\n",
        "data = pd.read_csv(file_path)\n"
      ],
      "metadata": {
        "id": "91NBR1Nq27n2"
      },
      "execution_count": 3,
      "outputs": []
    },
    {
      "cell_type": "code",
      "source": [
        "\n",
        "\n",
        "\n",
        "print(data.columns)  # See the actual column names\n"
      ],
      "metadata": {
        "colab": {
          "base_uri": "https://localhost:8080/"
        },
        "id": "6HB_MQss3Fdq",
        "outputId": "5ba8085c-1ccd-4a53-be8e-d0b6989f44a1"
      },
      "execution_count": 4,
      "outputs": [
        {
          "output_type": "stream",
          "name": "stdout",
          "text": [
            "Index([' Destination Port', ' Flow Duration', ' Total Fwd Packets',\n",
            "       ' Total Backward Packets', 'Total Length of Fwd Packets',\n",
            "       ' Total Length of Bwd Packets', ' Fwd Packet Length Max',\n",
            "       ' Fwd Packet Length Min', ' Fwd Packet Length Mean',\n",
            "       ' Fwd Packet Length Std', 'Bwd Packet Length Max',\n",
            "       ' Bwd Packet Length Min', ' Bwd Packet Length Mean',\n",
            "       ' Bwd Packet Length Std', 'Flow Bytes/s', ' Flow Packets/s',\n",
            "       ' Flow IAT Mean', ' Flow IAT Std', ' Flow IAT Max', ' Flow IAT Min',\n",
            "       'Fwd IAT Total', ' Fwd IAT Mean', ' Fwd IAT Std', ' Fwd IAT Max',\n",
            "       ' Fwd IAT Min', 'Bwd IAT Total', ' Bwd IAT Mean', ' Bwd IAT Std',\n",
            "       ' Bwd IAT Max', ' Bwd IAT Min', 'Fwd PSH Flags', ' Bwd PSH Flags',\n",
            "       ' Fwd URG Flags', ' Bwd URG Flags', ' Fwd Header Length',\n",
            "       ' Bwd Header Length', 'Fwd Packets/s', ' Bwd Packets/s',\n",
            "       ' Min Packet Length', ' Max Packet Length', ' Packet Length Mean',\n",
            "       ' Packet Length Std', ' Packet Length Variance', 'FIN Flag Count',\n",
            "       ' SYN Flag Count', ' RST Flag Count', ' PSH Flag Count',\n",
            "       ' ACK Flag Count', ' URG Flag Count', ' CWE Flag Count',\n",
            "       ' ECE Flag Count', ' Down/Up Ratio', ' Average Packet Size',\n",
            "       ' Avg Fwd Segment Size', ' Avg Bwd Segment Size',\n",
            "       ' Fwd Header Length.1', 'Fwd Avg Bytes/Bulk', ' Fwd Avg Packets/Bulk',\n",
            "       ' Fwd Avg Bulk Rate', ' Bwd Avg Bytes/Bulk', ' Bwd Avg Packets/Bulk',\n",
            "       'Bwd Avg Bulk Rate', 'Subflow Fwd Packets', ' Subflow Fwd Bytes',\n",
            "       ' Subflow Bwd Packets', ' Subflow Bwd Bytes', 'Init_Win_bytes_forward',\n",
            "       ' Init_Win_bytes_backward', ' act_data_pkt_fwd',\n",
            "       ' min_seg_size_forward', 'Active Mean', ' Active Std', ' Active Max',\n",
            "       ' Active Min', 'Idle Mean', ' Idle Std', ' Idle Max', ' Idle Min',\n",
            "       ' Label'],\n",
            "      dtype='object')\n"
          ]
        }
      ]
    },
    {
      "cell_type": "code",
      "source": [
        "data.rename(columns=lambda x: x.strip(), inplace=True)\n"
      ],
      "metadata": {
        "id": "-PuNq3Ig6GmN"
      },
      "execution_count": 5,
      "outputs": []
    },
    {
      "cell_type": "code",
      "source": [
        "print(data.columns)\n"
      ],
      "metadata": {
        "colab": {
          "base_uri": "https://localhost:8080/"
        },
        "id": "PkErvO656IES",
        "outputId": "732aed16-bb81-4403-8da2-b8d527a4c7ba"
      },
      "execution_count": 6,
      "outputs": [
        {
          "output_type": "stream",
          "name": "stdout",
          "text": [
            "Index(['Destination Port', 'Flow Duration', 'Total Fwd Packets',\n",
            "       'Total Backward Packets', 'Total Length of Fwd Packets',\n",
            "       'Total Length of Bwd Packets', 'Fwd Packet Length Max',\n",
            "       'Fwd Packet Length Min', 'Fwd Packet Length Mean',\n",
            "       'Fwd Packet Length Std', 'Bwd Packet Length Max',\n",
            "       'Bwd Packet Length Min', 'Bwd Packet Length Mean',\n",
            "       'Bwd Packet Length Std', 'Flow Bytes/s', 'Flow Packets/s',\n",
            "       'Flow IAT Mean', 'Flow IAT Std', 'Flow IAT Max', 'Flow IAT Min',\n",
            "       'Fwd IAT Total', 'Fwd IAT Mean', 'Fwd IAT Std', 'Fwd IAT Max',\n",
            "       'Fwd IAT Min', 'Bwd IAT Total', 'Bwd IAT Mean', 'Bwd IAT Std',\n",
            "       'Bwd IAT Max', 'Bwd IAT Min', 'Fwd PSH Flags', 'Bwd PSH Flags',\n",
            "       'Fwd URG Flags', 'Bwd URG Flags', 'Fwd Header Length',\n",
            "       'Bwd Header Length', 'Fwd Packets/s', 'Bwd Packets/s',\n",
            "       'Min Packet Length', 'Max Packet Length', 'Packet Length Mean',\n",
            "       'Packet Length Std', 'Packet Length Variance', 'FIN Flag Count',\n",
            "       'SYN Flag Count', 'RST Flag Count', 'PSH Flag Count', 'ACK Flag Count',\n",
            "       'URG Flag Count', 'CWE Flag Count', 'ECE Flag Count', 'Down/Up Ratio',\n",
            "       'Average Packet Size', 'Avg Fwd Segment Size', 'Avg Bwd Segment Size',\n",
            "       'Fwd Header Length.1', 'Fwd Avg Bytes/Bulk', 'Fwd Avg Packets/Bulk',\n",
            "       'Fwd Avg Bulk Rate', 'Bwd Avg Bytes/Bulk', 'Bwd Avg Packets/Bulk',\n",
            "       'Bwd Avg Bulk Rate', 'Subflow Fwd Packets', 'Subflow Fwd Bytes',\n",
            "       'Subflow Bwd Packets', 'Subflow Bwd Bytes', 'Init_Win_bytes_forward',\n",
            "       'Init_Win_bytes_backward', 'act_data_pkt_fwd', 'min_seg_size_forward',\n",
            "       'Active Mean', 'Active Std', 'Active Max', 'Active Min', 'Idle Mean',\n",
            "       'Idle Std', 'Idle Max', 'Idle Min', 'Label'],\n",
            "      dtype='object')\n"
          ]
        }
      ]
    },
    {
      "cell_type": "code",
      "source": [
        "import pandas as pd\n",
        "\n",
        "# Load your dataset (replace 'your_dataset.csv' with the actual filename)\n",
        "\n",
        "\n",
        "# Check if \"Label\" column exists\n",
        "if \"Label\" in data.columns:\n",
        "    unique_labels = data[\"Label\"].unique()\n",
        "    print(f\"Unique values in 'Label' column: {unique_labels}\")\n",
        "    print(f\"Number of unique values: {len(unique_labels)}\")\n",
        "else:\n",
        "    print(\"No 'Label' column found in this dataset.\")\n",
        "# Count occurrences of each label\n",
        "label_counts = data[\"Label\"].value_counts()\n",
        "\n",
        "# Convert to percentages\n",
        "label_percentages = (label_counts / label_counts.sum()) * 100\n",
        "\n",
        "# Display the results\n",
        "print(label_percentages)\n",
        "\n"
      ],
      "metadata": {
        "colab": {
          "base_uri": "https://localhost:8080/"
        },
        "id": "54y6E4Vd3O0c",
        "outputId": "62992a13-894e-46c6-c547-887458d1dd49"
      },
      "execution_count": 7,
      "outputs": [
        {
          "output_type": "stream",
          "name": "stdout",
          "text": [
            "Unique values in 'Label' column: ['BENIGN' 'DDoS']\n",
            "Number of unique values: 2\n",
            "Label\n",
            "DDoS      56.713105\n",
            "BENIGN    43.286895\n",
            "Name: count, dtype: float64\n"
          ]
        }
      ]
    },
    {
      "cell_type": "code",
      "source": [
        "\n",
        "# Clean column names by removing extra spaces\n",
        "data.columns = data.columns.str.replace(' ', '')\n",
        "print(data.columns)"
      ],
      "metadata": {
        "id": "d6ix8HPn3jAJ",
        "colab": {
          "base_uri": "https://localhost:8080/"
        },
        "outputId": "b16447f8-343a-49a5-f8ff-d260f29e6b34"
      },
      "execution_count": 8,
      "outputs": [
        {
          "output_type": "stream",
          "name": "stdout",
          "text": [
            "Index(['DestinationPort', 'FlowDuration', 'TotalFwdPackets',\n",
            "       'TotalBackwardPackets', 'TotalLengthofFwdPackets',\n",
            "       'TotalLengthofBwdPackets', 'FwdPacketLengthMax', 'FwdPacketLengthMin',\n",
            "       'FwdPacketLengthMean', 'FwdPacketLengthStd', 'BwdPacketLengthMax',\n",
            "       'BwdPacketLengthMin', 'BwdPacketLengthMean', 'BwdPacketLengthStd',\n",
            "       'FlowBytes/s', 'FlowPackets/s', 'FlowIATMean', 'FlowIATStd',\n",
            "       'FlowIATMax', 'FlowIATMin', 'FwdIATTotal', 'FwdIATMean', 'FwdIATStd',\n",
            "       'FwdIATMax', 'FwdIATMin', 'BwdIATTotal', 'BwdIATMean', 'BwdIATStd',\n",
            "       'BwdIATMax', 'BwdIATMin', 'FwdPSHFlags', 'BwdPSHFlags', 'FwdURGFlags',\n",
            "       'BwdURGFlags', 'FwdHeaderLength', 'BwdHeaderLength', 'FwdPackets/s',\n",
            "       'BwdPackets/s', 'MinPacketLength', 'MaxPacketLength',\n",
            "       'PacketLengthMean', 'PacketLengthStd', 'PacketLengthVariance',\n",
            "       'FINFlagCount', 'SYNFlagCount', 'RSTFlagCount', 'PSHFlagCount',\n",
            "       'ACKFlagCount', 'URGFlagCount', 'CWEFlagCount', 'ECEFlagCount',\n",
            "       'Down/UpRatio', 'AveragePacketSize', 'AvgFwdSegmentSize',\n",
            "       'AvgBwdSegmentSize', 'FwdHeaderLength.1', 'FwdAvgBytes/Bulk',\n",
            "       'FwdAvgPackets/Bulk', 'FwdAvgBulkRate', 'BwdAvgBytes/Bulk',\n",
            "       'BwdAvgPackets/Bulk', 'BwdAvgBulkRate', 'SubflowFwdPackets',\n",
            "       'SubflowFwdBytes', 'SubflowBwdPackets', 'SubflowBwdBytes',\n",
            "       'Init_Win_bytes_forward', 'Init_Win_bytes_backward', 'act_data_pkt_fwd',\n",
            "       'min_seg_size_forward', 'ActiveMean', 'ActiveStd', 'ActiveMax',\n",
            "       'ActiveMin', 'IdleMean', 'IdleStd', 'IdleMax', 'IdleMin', 'Label'],\n",
            "      dtype='object')\n"
          ]
        }
      ]
    },
    {
      "cell_type": "code",
      "source": [
        "data.replace([np.inf, -np.inf], np.nan, inplace=True)\n",
        "data.dropna(inplace=True)\n",
        "\n",
        "# Display the first 10 rows of the dataset\n",
        "print(\"First 10 rows of the dataset:\")\n",
        "print(data.head(10))\n",
        "\n"
      ],
      "metadata": {
        "id": "c4RfNagE6VD3",
        "colab": {
          "base_uri": "https://localhost:8080/"
        },
        "outputId": "2c0161fb-7ffb-4cf9-9821-207413f41307"
      },
      "execution_count": 9,
      "outputs": [
        {
          "output_type": "stream",
          "name": "stdout",
          "text": [
            "First 10 rows of the dataset:\n",
            "   DestinationPort  FlowDuration  TotalFwdPackets  TotalBackwardPackets  \\\n",
            "0            54865             3                2                     0   \n",
            "1            55054           109                1                     1   \n",
            "2            55055            52                1                     1   \n",
            "3            46236            34                1                     1   \n",
            "4            54863             3                2                     0   \n",
            "5            54871          1022                2                     0   \n",
            "6            54925             4                2                     0   \n",
            "7            54925            42                1                     1   \n",
            "8             9282             4                2                     0   \n",
            "9            55153             4                2                     0   \n",
            "\n",
            "   TotalLengthofFwdPackets  TotalLengthofBwdPackets  FwdPacketLengthMax  \\\n",
            "0                       12                        0                   6   \n",
            "1                        6                        6                   6   \n",
            "2                        6                        6                   6   \n",
            "3                        6                        6                   6   \n",
            "4                       12                        0                   6   \n",
            "5                       12                        0                   6   \n",
            "6                       12                        0                   6   \n",
            "7                        6                        6                   6   \n",
            "8                       12                        0                   6   \n",
            "9                       37                        0                  31   \n",
            "\n",
            "   FwdPacketLengthMin  FwdPacketLengthMean  FwdPacketLengthStd  ...  \\\n",
            "0                   6                  6.0             0.00000  ...   \n",
            "1                   6                  6.0             0.00000  ...   \n",
            "2                   6                  6.0             0.00000  ...   \n",
            "3                   6                  6.0             0.00000  ...   \n",
            "4                   6                  6.0             0.00000  ...   \n",
            "5                   6                  6.0             0.00000  ...   \n",
            "6                   6                  6.0             0.00000  ...   \n",
            "7                   6                  6.0             0.00000  ...   \n",
            "8                   6                  6.0             0.00000  ...   \n",
            "9                   6                 18.5            17.67767  ...   \n",
            "\n",
            "   min_seg_size_forward  ActiveMean  ActiveStd  ActiveMax  ActiveMin  \\\n",
            "0                    20         0.0        0.0          0          0   \n",
            "1                    20         0.0        0.0          0          0   \n",
            "2                    20         0.0        0.0          0          0   \n",
            "3                    20         0.0        0.0          0          0   \n",
            "4                    20         0.0        0.0          0          0   \n",
            "5                    20         0.0        0.0          0          0   \n",
            "6                    20         0.0        0.0          0          0   \n",
            "7                    20         0.0        0.0          0          0   \n",
            "8                    20         0.0        0.0          0          0   \n",
            "9                    20         0.0        0.0          0          0   \n",
            "\n",
            "   IdleMean  IdleStd  IdleMax  IdleMin   Label  \n",
            "0       0.0      0.0        0        0  BENIGN  \n",
            "1       0.0      0.0        0        0  BENIGN  \n",
            "2       0.0      0.0        0        0  BENIGN  \n",
            "3       0.0      0.0        0        0  BENIGN  \n",
            "4       0.0      0.0        0        0  BENIGN  \n",
            "5       0.0      0.0        0        0  BENIGN  \n",
            "6       0.0      0.0        0        0  BENIGN  \n",
            "7       0.0      0.0        0        0  BENIGN  \n",
            "8       0.0      0.0        0        0  BENIGN  \n",
            "9       0.0      0.0        0        0  BENIGN  \n",
            "\n",
            "[10 rows x 79 columns]\n"
          ]
        }
      ]
    },
    {
      "cell_type": "code",
      "source": [
        "print(data.isnull().sum())\n"
      ],
      "metadata": {
        "colab": {
          "base_uri": "https://localhost:8080/"
        },
        "id": "MTmUZ621Dhxy",
        "outputId": "28af6855-7ad7-44af-8a4f-8ac7978c1ee5"
      },
      "execution_count": 10,
      "outputs": [
        {
          "output_type": "stream",
          "name": "stdout",
          "text": [
            "DestinationPort            0\n",
            "FlowDuration               0\n",
            "TotalFwdPackets            0\n",
            "TotalBackwardPackets       0\n",
            "TotalLengthofFwdPackets    0\n",
            "                          ..\n",
            "IdleMean                   0\n",
            "IdleStd                    0\n",
            "IdleMax                    0\n",
            "IdleMin                    0\n",
            "Label                      0\n",
            "Length: 79, dtype: int64\n"
          ]
        }
      ]
    },
    {
      "cell_type": "code",
      "source": [
        "print(data['Label'].value_counts())\n"
      ],
      "metadata": {
        "colab": {
          "base_uri": "https://localhost:8080/"
        },
        "id": "Ropw-qyRDogx",
        "outputId": "061d451a-9db5-4414-9f7f-f5ebcd960843"
      },
      "execution_count": 11,
      "outputs": [
        {
          "output_type": "stream",
          "name": "stdout",
          "text": [
            "Label\n",
            "DDoS      128025\n",
            "BENIGN     97686\n",
            "Name: count, dtype: int64\n"
          ]
        }
      ]
    },
    {
      "cell_type": "code",
      "source": [
        "irrelevant_columns = [\n",
        "    'FwdPSHFlags', 'BwdPSHFlags', 'FwdURGFlags', 'BwdURGFlags',\n",
        "    'CWEFlagCount', 'ECEFlagCount', 'FwdHeaderLength.1',\n",
        "    'FwdAvgBytes/Bulk', 'FwdAvgPackets/Bulk', 'FwdAvgBulkRate',\n",
        "    'BwdAvgBytes/Bulk', 'BwdAvgPackets/Bulk', 'BwdAvgBulkRate',\n",
        "    'Init_Win_bytes_forward', 'Init_Win_bytes_backward',\n",
        "    'SubflowFwdPackets', 'SubflowFwdBytes', 'SubflowBwdPackets', 'SubflowBwdBytes',\n",
        "    'ActiveMean', 'ActiveStd', 'ActiveMax', 'ActiveMin',\n",
        "    'IdleMean', 'IdleStd', 'IdleMax', 'IdleMin'\n",
        "]\n",
        "\n",
        "data = data.drop(columns=irrelevant_columns, errors='ignore')\n",
        "print(data.columns)\n",
        "print(len(data.columns))"
      ],
      "metadata": {
        "colab": {
          "base_uri": "https://localhost:8080/"
        },
        "id": "fYm4YDTcUAFU",
        "outputId": "42bebf15-1839-43e6-9578-adeac830be4a"
      },
      "execution_count": 12,
      "outputs": [
        {
          "output_type": "stream",
          "name": "stdout",
          "text": [
            "Index(['DestinationPort', 'FlowDuration', 'TotalFwdPackets',\n",
            "       'TotalBackwardPackets', 'TotalLengthofFwdPackets',\n",
            "       'TotalLengthofBwdPackets', 'FwdPacketLengthMax', 'FwdPacketLengthMin',\n",
            "       'FwdPacketLengthMean', 'FwdPacketLengthStd', 'BwdPacketLengthMax',\n",
            "       'BwdPacketLengthMin', 'BwdPacketLengthMean', 'BwdPacketLengthStd',\n",
            "       'FlowBytes/s', 'FlowPackets/s', 'FlowIATMean', 'FlowIATStd',\n",
            "       'FlowIATMax', 'FlowIATMin', 'FwdIATTotal', 'FwdIATMean', 'FwdIATStd',\n",
            "       'FwdIATMax', 'FwdIATMin', 'BwdIATTotal', 'BwdIATMean', 'BwdIATStd',\n",
            "       'BwdIATMax', 'BwdIATMin', 'FwdHeaderLength', 'BwdHeaderLength',\n",
            "       'FwdPackets/s', 'BwdPackets/s', 'MinPacketLength', 'MaxPacketLength',\n",
            "       'PacketLengthMean', 'PacketLengthStd', 'PacketLengthVariance',\n",
            "       'FINFlagCount', 'SYNFlagCount', 'RSTFlagCount', 'PSHFlagCount',\n",
            "       'ACKFlagCount', 'URGFlagCount', 'Down/UpRatio', 'AveragePacketSize',\n",
            "       'AvgFwdSegmentSize', 'AvgBwdSegmentSize', 'act_data_pkt_fwd',\n",
            "       'min_seg_size_forward', 'Label'],\n",
            "      dtype='object')\n",
            "52\n"
          ]
        }
      ]
    },
    {
      "cell_type": "code",
      "source": [
        "begnin_count = data[data['Label'] == 'BENIGN'].shape[0]\n",
        "print(f\"Number of BENIGN samples: {begnin_count}\")\n",
        "\n",
        "ddos_count = data[data['Label'] == 'DDoS'].shape[0]\n",
        "print(f\"Number of DDoS samples: {ddos_count}\")"
      ],
      "metadata": {
        "colab": {
          "base_uri": "https://localhost:8080/"
        },
        "id": "Ki8mnosAg_sf",
        "outputId": "6a8acec3-69c1-4943-847f-28f7f7fe6b7e"
      },
      "execution_count": 13,
      "outputs": [
        {
          "output_type": "stream",
          "name": "stdout",
          "text": [
            "Number of BENIGN samples: 97686\n",
            "Number of DDoS samples: 128025\n"
          ]
        }
      ]
    },
    {
      "cell_type": "code",
      "source": [
        "from math import floor\n",
        "benign_samples = data[data['Label'] == 'BENIGN']\n",
        "percentage = 0.2\n",
        "malicious_samples = data[data['Label'] == 'DDoS'].sample(n=floor((begnin_count*percentage)/(1-percentage)), random_state=42)\n",
        "\n",
        "# Combine the sampled data\n",
        "data = pd.concat([benign_samples, malicious_samples])\n",
        "\n",
        "# Shuffle the data\n",
        "data = data.sample(frac=1, random_state=42).reset_index(drop=True)"
      ],
      "metadata": {
        "id": "bFIVNfK0i-dR"
      },
      "execution_count": 14,
      "outputs": []
    },
    {
      "cell_type": "code",
      "source": [
        "print(data['Label'].value_counts())\n"
      ],
      "metadata": {
        "colab": {
          "base_uri": "https://localhost:8080/"
        },
        "id": "aMNqYC5_DqRm",
        "outputId": "b3adc15c-19ae-460a-c81a-774ee0f3b8d1"
      },
      "execution_count": 15,
      "outputs": [
        {
          "output_type": "stream",
          "name": "stdout",
          "text": [
            "Label\n",
            "BENIGN    97686\n",
            "DDoS      24421\n",
            "Name: count, dtype: int64\n"
          ]
        }
      ]
    },
    {
      "cell_type": "code",
      "source": [
        "# Calculate the correlation matrix, ignoring non-numerical columns\n",
        "correlation_matrix = data.select_dtypes(include=[np.number]).corr()\n",
        "\n",
        "# Find highly correlated features (e.g., with correlation > 0.9)\n",
        "high_corr = correlation_matrix[correlation_matrix > 0.9]\n",
        "print(high_corr)\n"
      ],
      "metadata": {
        "colab": {
          "base_uri": "https://localhost:8080/"
        },
        "collapsed": true,
        "id": "Ou_p4Ry5DrpD",
        "outputId": "95af3803-4624-4ffd-9f35-b4d68bf40d4c"
      },
      "execution_count": 16,
      "outputs": [
        {
          "output_type": "stream",
          "name": "stdout",
          "text": [
            "                         DestinationPort  FlowDuration  TotalFwdPackets  \\\n",
            "DestinationPort                      1.0           NaN              NaN   \n",
            "FlowDuration                         NaN      1.000000              NaN   \n",
            "TotalFwdPackets                      NaN           NaN         1.000000   \n",
            "TotalBackwardPackets                 NaN           NaN         0.963664   \n",
            "TotalLengthofFwdPackets              NaN           NaN              NaN   \n",
            "TotalLengthofBwdPackets              NaN           NaN         0.947935   \n",
            "FwdPacketLengthMax                   NaN           NaN              NaN   \n",
            "FwdPacketLengthMin                   NaN           NaN              NaN   \n",
            "FwdPacketLengthMean                  NaN           NaN              NaN   \n",
            "FwdPacketLengthStd                   NaN           NaN              NaN   \n",
            "BwdPacketLengthMax                   NaN           NaN              NaN   \n",
            "BwdPacketLengthMin                   NaN           NaN              NaN   \n",
            "BwdPacketLengthMean                  NaN           NaN              NaN   \n",
            "BwdPacketLengthStd                   NaN           NaN              NaN   \n",
            "FlowBytes/s                          NaN           NaN              NaN   \n",
            "FlowPackets/s                        NaN           NaN              NaN   \n",
            "FlowIATMean                          NaN           NaN              NaN   \n",
            "FlowIATStd                           NaN           NaN              NaN   \n",
            "FlowIATMax                           NaN           NaN              NaN   \n",
            "FlowIATMin                           NaN           NaN              NaN   \n",
            "FwdIATTotal                          NaN      0.995006              NaN   \n",
            "FwdIATMean                           NaN           NaN              NaN   \n",
            "FwdIATStd                            NaN           NaN              NaN   \n",
            "FwdIATMax                            NaN           NaN              NaN   \n",
            "FwdIATMin                            NaN           NaN              NaN   \n",
            "BwdIATTotal                          NaN           NaN              NaN   \n",
            "BwdIATMean                           NaN           NaN              NaN   \n",
            "BwdIATStd                            NaN           NaN              NaN   \n",
            "BwdIATMax                            NaN           NaN              NaN   \n",
            "BwdIATMin                            NaN           NaN              NaN   \n",
            "FwdHeaderLength                      NaN           NaN         0.968453   \n",
            "BwdHeaderLength                      NaN           NaN         0.935280   \n",
            "FwdPackets/s                         NaN           NaN              NaN   \n",
            "BwdPackets/s                         NaN           NaN              NaN   \n",
            "MinPacketLength                      NaN           NaN              NaN   \n",
            "MaxPacketLength                      NaN           NaN              NaN   \n",
            "PacketLengthMean                     NaN           NaN              NaN   \n",
            "PacketLengthStd                      NaN           NaN              NaN   \n",
            "PacketLengthVariance                 NaN           NaN              NaN   \n",
            "FINFlagCount                         NaN           NaN              NaN   \n",
            "SYNFlagCount                         NaN           NaN              NaN   \n",
            "RSTFlagCount                         NaN           NaN              NaN   \n",
            "PSHFlagCount                         NaN           NaN              NaN   \n",
            "ACKFlagCount                         NaN           NaN              NaN   \n",
            "URGFlagCount                         NaN           NaN              NaN   \n",
            "Down/UpRatio                         NaN           NaN              NaN   \n",
            "AveragePacketSize                    NaN           NaN              NaN   \n",
            "AvgFwdSegmentSize                    NaN           NaN              NaN   \n",
            "AvgBwdSegmentSize                    NaN           NaN              NaN   \n",
            "act_data_pkt_fwd                     NaN           NaN              NaN   \n",
            "min_seg_size_forward                 NaN           NaN              NaN   \n",
            "\n",
            "                         TotalBackwardPackets  TotalLengthofFwdPackets  \\\n",
            "DestinationPort                           NaN                      NaN   \n",
            "FlowDuration                              NaN                      NaN   \n",
            "TotalFwdPackets                      0.963664                      NaN   \n",
            "TotalBackwardPackets                 1.000000                      NaN   \n",
            "TotalLengthofFwdPackets                   NaN                      1.0   \n",
            "TotalLengthofBwdPackets              0.974546                      NaN   \n",
            "FwdPacketLengthMax                        NaN                      NaN   \n",
            "FwdPacketLengthMin                        NaN                      NaN   \n",
            "FwdPacketLengthMean                       NaN                      NaN   \n",
            "FwdPacketLengthStd                        NaN                      NaN   \n",
            "BwdPacketLengthMax                        NaN                      NaN   \n",
            "BwdPacketLengthMin                        NaN                      NaN   \n",
            "BwdPacketLengthMean                       NaN                      NaN   \n",
            "BwdPacketLengthStd                        NaN                      NaN   \n",
            "FlowBytes/s                               NaN                      NaN   \n",
            "FlowPackets/s                             NaN                      NaN   \n",
            "FlowIATMean                               NaN                      NaN   \n",
            "FlowIATStd                                NaN                      NaN   \n",
            "FlowIATMax                                NaN                      NaN   \n",
            "FlowIATMin                                NaN                      NaN   \n",
            "FwdIATTotal                               NaN                      NaN   \n",
            "FwdIATMean                                NaN                      NaN   \n",
            "FwdIATStd                                 NaN                      NaN   \n",
            "FwdIATMax                                 NaN                      NaN   \n",
            "FwdIATMin                                 NaN                      NaN   \n",
            "BwdIATTotal                               NaN                      NaN   \n",
            "BwdIATMean                                NaN                      NaN   \n",
            "BwdIATStd                                 NaN                      NaN   \n",
            "BwdIATMax                                 NaN                      NaN   \n",
            "BwdIATMin                                 NaN                      NaN   \n",
            "FwdHeaderLength                      0.944212                      NaN   \n",
            "BwdHeaderLength                      0.975388                      NaN   \n",
            "FwdPackets/s                              NaN                      NaN   \n",
            "BwdPackets/s                              NaN                      NaN   \n",
            "MinPacketLength                           NaN                      NaN   \n",
            "MaxPacketLength                           NaN                      NaN   \n",
            "PacketLengthMean                          NaN                      NaN   \n",
            "PacketLengthStd                           NaN                      NaN   \n",
            "PacketLengthVariance                      NaN                      NaN   \n",
            "FINFlagCount                              NaN                      NaN   \n",
            "SYNFlagCount                              NaN                      NaN   \n",
            "RSTFlagCount                              NaN                      NaN   \n",
            "PSHFlagCount                              NaN                      NaN   \n",
            "ACKFlagCount                              NaN                      NaN   \n",
            "URGFlagCount                              NaN                      NaN   \n",
            "Down/UpRatio                              NaN                      NaN   \n",
            "AveragePacketSize                         NaN                      NaN   \n",
            "AvgFwdSegmentSize                         NaN                      NaN   \n",
            "AvgBwdSegmentSize                         NaN                      NaN   \n",
            "act_data_pkt_fwd                          NaN                      NaN   \n",
            "min_seg_size_forward                      NaN                      NaN   \n",
            "\n",
            "                         TotalLengthofBwdPackets  FwdPacketLengthMax  \\\n",
            "DestinationPort                              NaN                 NaN   \n",
            "FlowDuration                                 NaN                 NaN   \n",
            "TotalFwdPackets                         0.947935                 NaN   \n",
            "TotalBackwardPackets                    0.974546                 NaN   \n",
            "TotalLengthofFwdPackets                      NaN                 NaN   \n",
            "TotalLengthofBwdPackets                 1.000000                 NaN   \n",
            "FwdPacketLengthMax                           NaN            1.000000   \n",
            "FwdPacketLengthMin                           NaN                 NaN   \n",
            "FwdPacketLengthMean                          NaN            0.936656   \n",
            "FwdPacketLengthStd                           NaN            0.991284   \n",
            "BwdPacketLengthMax                           NaN                 NaN   \n",
            "BwdPacketLengthMin                           NaN                 NaN   \n",
            "BwdPacketLengthMean                          NaN                 NaN   \n",
            "BwdPacketLengthStd                           NaN                 NaN   \n",
            "FlowBytes/s                                  NaN                 NaN   \n",
            "FlowPackets/s                                NaN                 NaN   \n",
            "FlowIATMean                                  NaN                 NaN   \n",
            "FlowIATStd                                   NaN                 NaN   \n",
            "FlowIATMax                                   NaN                 NaN   \n",
            "FlowIATMin                                   NaN                 NaN   \n",
            "FwdIATTotal                                  NaN                 NaN   \n",
            "FwdIATMean                                   NaN                 NaN   \n",
            "FwdIATStd                                    NaN                 NaN   \n",
            "FwdIATMax                                    NaN                 NaN   \n",
            "FwdIATMin                                    NaN                 NaN   \n",
            "BwdIATTotal                                  NaN                 NaN   \n",
            "BwdIATMean                                   NaN                 NaN   \n",
            "BwdIATStd                                    NaN                 NaN   \n",
            "BwdIATMax                                    NaN                 NaN   \n",
            "BwdIATMin                                    NaN                 NaN   \n",
            "FwdHeaderLength                         0.931000                 NaN   \n",
            "BwdHeaderLength                         0.949771                 NaN   \n",
            "FwdPackets/s                                 NaN                 NaN   \n",
            "BwdPackets/s                                 NaN                 NaN   \n",
            "MinPacketLength                              NaN                 NaN   \n",
            "MaxPacketLength                              NaN                 NaN   \n",
            "PacketLengthMean                             NaN                 NaN   \n",
            "PacketLengthStd                              NaN                 NaN   \n",
            "PacketLengthVariance                         NaN                 NaN   \n",
            "FINFlagCount                                 NaN                 NaN   \n",
            "SYNFlagCount                                 NaN                 NaN   \n",
            "RSTFlagCount                                 NaN                 NaN   \n",
            "PSHFlagCount                                 NaN                 NaN   \n",
            "ACKFlagCount                                 NaN                 NaN   \n",
            "URGFlagCount                                 NaN                 NaN   \n",
            "Down/UpRatio                                 NaN                 NaN   \n",
            "AveragePacketSize                            NaN                 NaN   \n",
            "AvgFwdSegmentSize                            NaN            0.936656   \n",
            "AvgBwdSegmentSize                            NaN                 NaN   \n",
            "act_data_pkt_fwd                             NaN                 NaN   \n",
            "min_seg_size_forward                         NaN                 NaN   \n",
            "\n",
            "                         FwdPacketLengthMin  FwdPacketLengthMean  \\\n",
            "DestinationPort                         NaN                  NaN   \n",
            "FlowDuration                            NaN                  NaN   \n",
            "TotalFwdPackets                         NaN                  NaN   \n",
            "TotalBackwardPackets                    NaN                  NaN   \n",
            "TotalLengthofFwdPackets                 NaN                  NaN   \n",
            "TotalLengthofBwdPackets                 NaN                  NaN   \n",
            "FwdPacketLengthMax                      NaN             0.936656   \n",
            "FwdPacketLengthMin                      1.0                  NaN   \n",
            "FwdPacketLengthMean                     NaN             1.000000   \n",
            "FwdPacketLengthStd                      NaN             0.914736   \n",
            "BwdPacketLengthMax                      NaN                  NaN   \n",
            "BwdPacketLengthMin                      NaN                  NaN   \n",
            "BwdPacketLengthMean                     NaN                  NaN   \n",
            "BwdPacketLengthStd                      NaN                  NaN   \n",
            "FlowBytes/s                             NaN                  NaN   \n",
            "FlowPackets/s                           NaN                  NaN   \n",
            "FlowIATMean                             NaN                  NaN   \n",
            "FlowIATStd                              NaN                  NaN   \n",
            "FlowIATMax                              NaN                  NaN   \n",
            "FlowIATMin                              NaN                  NaN   \n",
            "FwdIATTotal                             NaN                  NaN   \n",
            "FwdIATMean                              NaN                  NaN   \n",
            "FwdIATStd                               NaN                  NaN   \n",
            "FwdIATMax                               NaN                  NaN   \n",
            "FwdIATMin                               NaN                  NaN   \n",
            "BwdIATTotal                             NaN                  NaN   \n",
            "BwdIATMean                              NaN                  NaN   \n",
            "BwdIATStd                               NaN                  NaN   \n",
            "BwdIATMax                               NaN                  NaN   \n",
            "BwdIATMin                               NaN                  NaN   \n",
            "FwdHeaderLength                         NaN                  NaN   \n",
            "BwdHeaderLength                         NaN                  NaN   \n",
            "FwdPackets/s                            NaN                  NaN   \n",
            "BwdPackets/s                            NaN                  NaN   \n",
            "MinPacketLength                         NaN                  NaN   \n",
            "MaxPacketLength                         NaN                  NaN   \n",
            "PacketLengthMean                        NaN                  NaN   \n",
            "PacketLengthStd                         NaN                  NaN   \n",
            "PacketLengthVariance                    NaN                  NaN   \n",
            "FINFlagCount                            NaN                  NaN   \n",
            "SYNFlagCount                            NaN                  NaN   \n",
            "RSTFlagCount                            NaN                  NaN   \n",
            "PSHFlagCount                            NaN                  NaN   \n",
            "ACKFlagCount                            NaN                  NaN   \n",
            "URGFlagCount                            NaN                  NaN   \n",
            "Down/UpRatio                            NaN                  NaN   \n",
            "AveragePacketSize                       NaN                  NaN   \n",
            "AvgFwdSegmentSize                       NaN             1.000000   \n",
            "AvgBwdSegmentSize                       NaN                  NaN   \n",
            "act_data_pkt_fwd                        NaN                  NaN   \n",
            "min_seg_size_forward                    NaN                  NaN   \n",
            "\n",
            "                         FwdPacketLengthStd  ...  RSTFlagCount  PSHFlagCount  \\\n",
            "DestinationPort                         NaN  ...           NaN           NaN   \n",
            "FlowDuration                            NaN  ...           NaN           NaN   \n",
            "TotalFwdPackets                         NaN  ...           NaN           NaN   \n",
            "TotalBackwardPackets                    NaN  ...           NaN           NaN   \n",
            "TotalLengthofFwdPackets                 NaN  ...           NaN           NaN   \n",
            "TotalLengthofBwdPackets                 NaN  ...           NaN           NaN   \n",
            "FwdPacketLengthMax                 0.991284  ...           NaN           NaN   \n",
            "FwdPacketLengthMin                      NaN  ...           NaN           NaN   \n",
            "FwdPacketLengthMean                0.914736  ...           NaN           NaN   \n",
            "FwdPacketLengthStd                 1.000000  ...           NaN           NaN   \n",
            "BwdPacketLengthMax                      NaN  ...           NaN           NaN   \n",
            "BwdPacketLengthMin                      NaN  ...           NaN           NaN   \n",
            "BwdPacketLengthMean                     NaN  ...           NaN           NaN   \n",
            "BwdPacketLengthStd                      NaN  ...           NaN           NaN   \n",
            "FlowBytes/s                             NaN  ...           NaN           NaN   \n",
            "FlowPackets/s                           NaN  ...           NaN           NaN   \n",
            "FlowIATMean                             NaN  ...           NaN           NaN   \n",
            "FlowIATStd                              NaN  ...           NaN           NaN   \n",
            "FlowIATMax                              NaN  ...           NaN           NaN   \n",
            "FlowIATMin                              NaN  ...           NaN           NaN   \n",
            "FwdIATTotal                             NaN  ...           NaN           NaN   \n",
            "FwdIATMean                              NaN  ...           NaN           NaN   \n",
            "FwdIATStd                               NaN  ...           NaN           NaN   \n",
            "FwdIATMax                               NaN  ...           NaN           NaN   \n",
            "FwdIATMin                               NaN  ...           NaN           NaN   \n",
            "BwdIATTotal                             NaN  ...           NaN           NaN   \n",
            "BwdIATMean                              NaN  ...           NaN           NaN   \n",
            "BwdIATStd                               NaN  ...           NaN           NaN   \n",
            "BwdIATMax                               NaN  ...           NaN           NaN   \n",
            "BwdIATMin                               NaN  ...           NaN           NaN   \n",
            "FwdHeaderLength                         NaN  ...           NaN           NaN   \n",
            "BwdHeaderLength                         NaN  ...           NaN           NaN   \n",
            "FwdPackets/s                            NaN  ...           NaN           NaN   \n",
            "BwdPackets/s                            NaN  ...           NaN           NaN   \n",
            "MinPacketLength                         NaN  ...           NaN           NaN   \n",
            "MaxPacketLength                         NaN  ...           NaN           NaN   \n",
            "PacketLengthMean                        NaN  ...           NaN           NaN   \n",
            "PacketLengthStd                         NaN  ...           NaN           NaN   \n",
            "PacketLengthVariance                    NaN  ...           NaN           NaN   \n",
            "FINFlagCount                            NaN  ...           NaN           NaN   \n",
            "SYNFlagCount                            NaN  ...           NaN           NaN   \n",
            "RSTFlagCount                            NaN  ...           1.0           NaN   \n",
            "PSHFlagCount                            NaN  ...           NaN           1.0   \n",
            "ACKFlagCount                            NaN  ...           NaN           NaN   \n",
            "URGFlagCount                            NaN  ...           NaN           NaN   \n",
            "Down/UpRatio                            NaN  ...           NaN           NaN   \n",
            "AveragePacketSize                       NaN  ...           NaN           NaN   \n",
            "AvgFwdSegmentSize                  0.914736  ...           NaN           NaN   \n",
            "AvgBwdSegmentSize                       NaN  ...           NaN           NaN   \n",
            "act_data_pkt_fwd                        NaN  ...           NaN           NaN   \n",
            "min_seg_size_forward                    NaN  ...           NaN           NaN   \n",
            "\n",
            "                         ACKFlagCount  URGFlagCount  Down/UpRatio  \\\n",
            "DestinationPort                   NaN           NaN           NaN   \n",
            "FlowDuration                      NaN           NaN           NaN   \n",
            "TotalFwdPackets                   NaN           NaN           NaN   \n",
            "TotalBackwardPackets              NaN           NaN           NaN   \n",
            "TotalLengthofFwdPackets           NaN           NaN           NaN   \n",
            "TotalLengthofBwdPackets           NaN           NaN           NaN   \n",
            "FwdPacketLengthMax                NaN           NaN           NaN   \n",
            "FwdPacketLengthMin                NaN           NaN           NaN   \n",
            "FwdPacketLengthMean               NaN           NaN           NaN   \n",
            "FwdPacketLengthStd                NaN           NaN           NaN   \n",
            "BwdPacketLengthMax                NaN           NaN           NaN   \n",
            "BwdPacketLengthMin                NaN           NaN           NaN   \n",
            "BwdPacketLengthMean               NaN           NaN           NaN   \n",
            "BwdPacketLengthStd                NaN           NaN           NaN   \n",
            "FlowBytes/s                       NaN           NaN           NaN   \n",
            "FlowPackets/s                     NaN           NaN           NaN   \n",
            "FlowIATMean                       NaN           NaN           NaN   \n",
            "FlowIATStd                        NaN           NaN           NaN   \n",
            "FlowIATMax                        NaN           NaN           NaN   \n",
            "FlowIATMin                        NaN           NaN           NaN   \n",
            "FwdIATTotal                       NaN           NaN           NaN   \n",
            "FwdIATMean                        NaN           NaN           NaN   \n",
            "FwdIATStd                         NaN           NaN           NaN   \n",
            "FwdIATMax                         NaN           NaN           NaN   \n",
            "FwdIATMin                         NaN           NaN           NaN   \n",
            "BwdIATTotal                       NaN           NaN           NaN   \n",
            "BwdIATMean                        NaN           NaN           NaN   \n",
            "BwdIATStd                         NaN           NaN           NaN   \n",
            "BwdIATMax                         NaN           NaN           NaN   \n",
            "BwdIATMin                         NaN           NaN           NaN   \n",
            "FwdHeaderLength                   NaN           NaN           NaN   \n",
            "BwdHeaderLength                   NaN           NaN           NaN   \n",
            "FwdPackets/s                      NaN           NaN           NaN   \n",
            "BwdPackets/s                      NaN           NaN           NaN   \n",
            "MinPacketLength                   NaN           NaN           NaN   \n",
            "MaxPacketLength                   NaN           NaN           NaN   \n",
            "PacketLengthMean                  NaN           NaN           NaN   \n",
            "PacketLengthStd                   NaN           NaN           NaN   \n",
            "PacketLengthVariance              NaN           NaN           NaN   \n",
            "FINFlagCount                      NaN           NaN           NaN   \n",
            "SYNFlagCount                      NaN           NaN           NaN   \n",
            "RSTFlagCount                      NaN           NaN           NaN   \n",
            "PSHFlagCount                      NaN           NaN           NaN   \n",
            "ACKFlagCount                      1.0           NaN           NaN   \n",
            "URGFlagCount                      NaN           1.0           NaN   \n",
            "Down/UpRatio                      NaN           NaN           1.0   \n",
            "AveragePacketSize                 NaN           NaN           NaN   \n",
            "AvgFwdSegmentSize                 NaN           NaN           NaN   \n",
            "AvgBwdSegmentSize                 NaN           NaN           NaN   \n",
            "act_data_pkt_fwd                  NaN           NaN           NaN   \n",
            "min_seg_size_forward              NaN           NaN           NaN   \n",
            "\n",
            "                         AveragePacketSize  AvgFwdSegmentSize  \\\n",
            "DestinationPort                        NaN                NaN   \n",
            "FlowDuration                           NaN                NaN   \n",
            "TotalFwdPackets                        NaN                NaN   \n",
            "TotalBackwardPackets                   NaN                NaN   \n",
            "TotalLengthofFwdPackets                NaN                NaN   \n",
            "TotalLengthofBwdPackets                NaN                NaN   \n",
            "FwdPacketLengthMax                     NaN           0.936656   \n",
            "FwdPacketLengthMin                     NaN                NaN   \n",
            "FwdPacketLengthMean                    NaN           1.000000   \n",
            "FwdPacketLengthStd                     NaN           0.914736   \n",
            "BwdPacketLengthMax                     NaN                NaN   \n",
            "BwdPacketLengthMin                     NaN                NaN   \n",
            "BwdPacketLengthMean                    NaN                NaN   \n",
            "BwdPacketLengthStd                     NaN                NaN   \n",
            "FlowBytes/s                            NaN                NaN   \n",
            "FlowPackets/s                          NaN                NaN   \n",
            "FlowIATMean                            NaN                NaN   \n",
            "FlowIATStd                             NaN                NaN   \n",
            "FlowIATMax                             NaN                NaN   \n",
            "FlowIATMin                             NaN                NaN   \n",
            "FwdIATTotal                            NaN                NaN   \n",
            "FwdIATMean                             NaN                NaN   \n",
            "FwdIATStd                              NaN                NaN   \n",
            "FwdIATMax                              NaN                NaN   \n",
            "FwdIATMin                              NaN                NaN   \n",
            "BwdIATTotal                            NaN                NaN   \n",
            "BwdIATMean                             NaN                NaN   \n",
            "BwdIATStd                              NaN                NaN   \n",
            "BwdIATMax                              NaN                NaN   \n",
            "BwdIATMin                              NaN                NaN   \n",
            "FwdHeaderLength                        NaN                NaN   \n",
            "BwdHeaderLength                        NaN                NaN   \n",
            "FwdPackets/s                           NaN                NaN   \n",
            "BwdPackets/s                           NaN                NaN   \n",
            "MinPacketLength                        NaN                NaN   \n",
            "MaxPacketLength                        NaN                NaN   \n",
            "PacketLengthMean                  0.998928                NaN   \n",
            "PacketLengthStd                   0.950510                NaN   \n",
            "PacketLengthVariance                   NaN                NaN   \n",
            "FINFlagCount                           NaN                NaN   \n",
            "SYNFlagCount                           NaN                NaN   \n",
            "RSTFlagCount                           NaN                NaN   \n",
            "PSHFlagCount                           NaN                NaN   \n",
            "ACKFlagCount                           NaN                NaN   \n",
            "URGFlagCount                           NaN                NaN   \n",
            "Down/UpRatio                           NaN                NaN   \n",
            "AveragePacketSize                 1.000000                NaN   \n",
            "AvgFwdSegmentSize                      NaN           1.000000   \n",
            "AvgBwdSegmentSize                      NaN                NaN   \n",
            "act_data_pkt_fwd                       NaN                NaN   \n",
            "min_seg_size_forward                   NaN                NaN   \n",
            "\n",
            "                         AvgBwdSegmentSize  act_data_pkt_fwd  \\\n",
            "DestinationPort                        NaN               NaN   \n",
            "FlowDuration                           NaN               NaN   \n",
            "TotalFwdPackets                        NaN               NaN   \n",
            "TotalBackwardPackets                   NaN               NaN   \n",
            "TotalLengthofFwdPackets                NaN               NaN   \n",
            "TotalLengthofBwdPackets                NaN               NaN   \n",
            "FwdPacketLengthMax                     NaN               NaN   \n",
            "FwdPacketLengthMin                     NaN               NaN   \n",
            "FwdPacketLengthMean                    NaN               NaN   \n",
            "FwdPacketLengthStd                     NaN               NaN   \n",
            "BwdPacketLengthMax                0.965856               NaN   \n",
            "BwdPacketLengthMin                     NaN               NaN   \n",
            "BwdPacketLengthMean               1.000000               NaN   \n",
            "BwdPacketLengthStd                0.955001               NaN   \n",
            "FlowBytes/s                            NaN               NaN   \n",
            "FlowPackets/s                          NaN               NaN   \n",
            "FlowIATMean                            NaN               NaN   \n",
            "FlowIATStd                             NaN               NaN   \n",
            "FlowIATMax                             NaN               NaN   \n",
            "FlowIATMin                             NaN               NaN   \n",
            "FwdIATTotal                            NaN               NaN   \n",
            "FwdIATMean                             NaN               NaN   \n",
            "FwdIATStd                              NaN               NaN   \n",
            "FwdIATMax                              NaN               NaN   \n",
            "FwdIATMin                              NaN               NaN   \n",
            "BwdIATTotal                            NaN               NaN   \n",
            "BwdIATMean                             NaN               NaN   \n",
            "BwdIATStd                              NaN               NaN   \n",
            "BwdIATMax                              NaN               NaN   \n",
            "BwdIATMin                              NaN               NaN   \n",
            "FwdHeaderLength                        NaN               NaN   \n",
            "BwdHeaderLength                        NaN               NaN   \n",
            "FwdPackets/s                           NaN               NaN   \n",
            "BwdPackets/s                           NaN               NaN   \n",
            "MinPacketLength                        NaN               NaN   \n",
            "MaxPacketLength                        NaN               NaN   \n",
            "PacketLengthMean                       NaN               NaN   \n",
            "PacketLengthStd                        NaN               NaN   \n",
            "PacketLengthVariance                   NaN               NaN   \n",
            "FINFlagCount                           NaN               NaN   \n",
            "SYNFlagCount                           NaN               NaN   \n",
            "RSTFlagCount                           NaN               NaN   \n",
            "PSHFlagCount                           NaN               NaN   \n",
            "ACKFlagCount                           NaN               NaN   \n",
            "URGFlagCount                           NaN               NaN   \n",
            "Down/UpRatio                           NaN               NaN   \n",
            "AveragePacketSize                      NaN               NaN   \n",
            "AvgFwdSegmentSize                      NaN               NaN   \n",
            "AvgBwdSegmentSize                 1.000000               NaN   \n",
            "act_data_pkt_fwd                       NaN               1.0   \n",
            "min_seg_size_forward                   NaN               NaN   \n",
            "\n",
            "                         min_seg_size_forward  \n",
            "DestinationPort                           NaN  \n",
            "FlowDuration                              NaN  \n",
            "TotalFwdPackets                           NaN  \n",
            "TotalBackwardPackets                      NaN  \n",
            "TotalLengthofFwdPackets                   NaN  \n",
            "TotalLengthofBwdPackets                   NaN  \n",
            "FwdPacketLengthMax                        NaN  \n",
            "FwdPacketLengthMin                        NaN  \n",
            "FwdPacketLengthMean                       NaN  \n",
            "FwdPacketLengthStd                        NaN  \n",
            "BwdPacketLengthMax                        NaN  \n",
            "BwdPacketLengthMin                        NaN  \n",
            "BwdPacketLengthMean                       NaN  \n",
            "BwdPacketLengthStd                        NaN  \n",
            "FlowBytes/s                               NaN  \n",
            "FlowPackets/s                             NaN  \n",
            "FlowIATMean                               NaN  \n",
            "FlowIATStd                                NaN  \n",
            "FlowIATMax                                NaN  \n",
            "FlowIATMin                                NaN  \n",
            "FwdIATTotal                               NaN  \n",
            "FwdIATMean                                NaN  \n",
            "FwdIATStd                                 NaN  \n",
            "FwdIATMax                                 NaN  \n",
            "FwdIATMin                                 NaN  \n",
            "BwdIATTotal                               NaN  \n",
            "BwdIATMean                                NaN  \n",
            "BwdIATStd                                 NaN  \n",
            "BwdIATMax                                 NaN  \n",
            "BwdIATMin                                 NaN  \n",
            "FwdHeaderLength                           NaN  \n",
            "BwdHeaderLength                           NaN  \n",
            "FwdPackets/s                              NaN  \n",
            "BwdPackets/s                              NaN  \n",
            "MinPacketLength                           NaN  \n",
            "MaxPacketLength                           NaN  \n",
            "PacketLengthMean                          NaN  \n",
            "PacketLengthStd                           NaN  \n",
            "PacketLengthVariance                      NaN  \n",
            "FINFlagCount                              NaN  \n",
            "SYNFlagCount                              NaN  \n",
            "RSTFlagCount                              NaN  \n",
            "PSHFlagCount                              NaN  \n",
            "ACKFlagCount                              NaN  \n",
            "URGFlagCount                              NaN  \n",
            "Down/UpRatio                              NaN  \n",
            "AveragePacketSize                         NaN  \n",
            "AvgFwdSegmentSize                         NaN  \n",
            "AvgBwdSegmentSize                         NaN  \n",
            "act_data_pkt_fwd                          NaN  \n",
            "min_seg_size_forward                      1.0  \n",
            "\n",
            "[51 rows x 51 columns]\n"
          ]
        }
      ]
    },
    {
      "cell_type": "code",
      "source": [
        "from sklearn.model_selection import train_test_split\n",
        "X = data.drop('Label', axis=1)\n",
        "y = data['Label']\n",
        "X_train, X_test, y_train, y_test = train_test_split(X, y, test_size=0.2, random_state=42)\n",
        "print(f\"Training set size: {len(X_train)}, Test set size: {len(X_test)}\")\n"
      ],
      "metadata": {
        "colab": {
          "base_uri": "https://localhost:8080/"
        },
        "collapsed": true,
        "id": "-B9YfnJ-Dtjw",
        "outputId": "29b45832-6822-4db4-b2a4-ad26c8a2787e"
      },
      "execution_count": 17,
      "outputs": [
        {
          "output_type": "stream",
          "name": "stdout",
          "text": [
            "Training set size: 97685, Test set size: 24422\n"
          ]
        }
      ]
    },
    {
      "cell_type": "code",
      "source": [
        "# Separate features and labels\n",
        "features = data.drop('Label', axis=1)\n",
        "labels = data['Label']\n",
        "features.replace([np.inf, -np.inf], np.nan, inplace=True)\n",
        "features.dropna(inplace=True)\n",
        "features = features.select_dtypes(include=[float, int])\n",
        "len(features)"
      ],
      "metadata": {
        "colab": {
          "base_uri": "https://localhost:8080/"
        },
        "id": "W5vNDodKDvsL",
        "outputId": "4fedc9ef-79da-4d6f-9b0b-05cc6b7e0c65"
      },
      "execution_count": 18,
      "outputs": [
        {
          "output_type": "execute_result",
          "data": {
            "text/plain": [
              "122107"
            ]
          },
          "metadata": {},
          "execution_count": 18
        }
      ]
    },
    {
      "cell_type": "code",
      "source": [
        "from sklearn.preprocessing import StandardScaler\n",
        "\n",
        "scaler = StandardScaler()\n",
        "features_scaled = scaler.fit_transform(features)"
      ],
      "metadata": {
        "id": "EJ2XCWS6D5Z7"
      },
      "execution_count": 19,
      "outputs": []
    },
    {
      "cell_type": "code",
      "source": [
        "from sklearn.preprocessing import LabelEncoder\n",
        "\n",
        "label_encoder = LabelEncoder()\n",
        "y_encoded = label_encoder.fit_transform(labels)"
      ],
      "metadata": {
        "id": "71Swd98-D7JI"
      },
      "execution_count": 20,
      "outputs": []
    },
    {
      "cell_type": "code",
      "source": [
        "round(data.shape[0]*80/100)"
      ],
      "metadata": {
        "colab": {
          "base_uri": "https://localhost:8080/"
        },
        "id": "SOWm_xzBJy1v",
        "outputId": "9b7b31ce-bd2c-4945-c410-805e30f343d8"
      },
      "execution_count": 21,
      "outputs": [
        {
          "output_type": "execute_result",
          "data": {
            "text/plain": [
              "97686"
            ]
          },
          "metadata": {},
          "execution_count": 21
        }
      ]
    },
    {
      "cell_type": "code",
      "source": [
        "missing_labels = np.isnan(y_encoded).sum()\n",
        "print(f\"Number of missing values in y_encoded: {missing_labels}\")"
      ],
      "metadata": {
        "colab": {
          "base_uri": "https://localhost:8080/"
        },
        "id": "yMkQZtqIJ0gn",
        "outputId": "c1cd277c-530f-48ed-980a-717eb98ec0c9"
      },
      "execution_count": 22,
      "outputs": [
        {
          "output_type": "stream",
          "name": "stdout",
          "text": [
            "Number of missing values in y_encoded: 0\n"
          ]
        }
      ]
    },
    {
      "cell_type": "code",
      "source": [
        "train_size = round(len(y_encoded) * 0.9)\n",
        "\n",
        "X_train = features_scaled[:train_size]\n",
        "X_test = features_scaled[train_size:]\n",
        "y_train = y_encoded[:train_size]\n",
        "y_test = y_encoded[train_size:]\n",
        "\n",
        "print(f\"Length of X_train: {len(X_train)}\")\n",
        "print(f\"Length of y_train: {len(y_train)}\")\n",
        "print(f\"Length of X_test: {len(X_test)}\")\n",
        "print(f\"Length of y_test: {len(y_test)}\")\n",
        "\n",
        "min_len = min(len(X_test), len(y_test))\n",
        "X_test = X_test[:min_len]\n",
        "y_test = y_test[:min_len]\n",
        "\n",
        "print(f\"Final Length of X_test: {len(X_test)}\")\n",
        "print(f\"Final Length of y_test: {len(y_test)}\")"
      ],
      "metadata": {
        "colab": {
          "base_uri": "https://localhost:8080/"
        },
        "id": "E3hDsWh-J1sE",
        "outputId": "4e8ed060-a42a-42dd-a6fa-562ee087d872"
      },
      "execution_count": 23,
      "outputs": [
        {
          "output_type": "stream",
          "name": "stdout",
          "text": [
            "Length of X_train: 109896\n",
            "Length of y_train: 109896\n",
            "Length of X_test: 12211\n",
            "Length of y_test: 12211\n",
            "Final Length of X_test: 12211\n",
            "Final Length of y_test: 12211\n"
          ]
        }
      ]
    },
    {
      "cell_type": "code",
      "source": [
        "from sklearn.ensemble import IsolationForest\n",
        "from sklearn.metrics import accuracy_score, classification_report\n",
        "from sklearn.metrics import confusion_matrix\n",
        "\n",
        "import numpy as np\n",
        "\n",
        "# Train the Isolation Forest\n",
        "iso_forest = IsolationForest(n_estimators=200,contamination=0.2, random_state=42)\n",
        "iso_forest.fit(X_train)\n",
        "\n",
        "# Predict on the test set\n",
        "y_pred = iso_forest.predict(X_test)\n",
        "\n",
        "# Calculate and display the number of anomalies detected\n",
        "print(\"Number of anomalies detected:\", (y_pred == -1).sum())\n",
        "\n",
        "# Convert Isolation Forest output (-1 for anomalies, 1 for inliers) to binary classification (1 for anomalies, 0 for normal)\n",
        "iso_forest_predict = np.where(y_pred == -1, 1, 0)\n",
        "\n",
        "# Calculate accuracy\n",
        "accuracy = accuracy_score(y_test, iso_forest_predict)\n",
        "print(\"Accuracy in separating Outliers:\", accuracy)\n",
        "\n",
        "# Generate and display the classification report\n",
        "print(\"\\nClassification Report:\")\n",
        "print(classification_report(y_test, iso_forest_predict))\n",
        "\n",
        "# Display unique values and their counts\n",
        "unique_values, counts = np.unique(y_pred, return_counts=True)\n",
        "for value, count in zip(unique_values, counts):\n",
        "    print(f'Value: {value}, Count: {count}')\n",
        "\n",
        "# Generate confusion matrix\n",
        "conf_matrix = confusion_matrix(y_test, iso_forest_predict)\n",
        "print(\"\\nConfusion Matrix:\")\n",
        "print(conf_matrix)\n",
        "#0.2,"
      ],
      "metadata": {
        "colab": {
          "base_uri": "https://localhost:8080/"
        },
        "id": "FwGI_KvKfkxW",
        "outputId": "d2d1e007-1f86-4746-e741-396de7b68857"
      },
      "execution_count": 24,
      "outputs": [
        {
          "output_type": "stream",
          "name": "stdout",
          "text": [
            "Number of anomalies detected: 2382\n",
            "Accuracy in separating Outliers: 0.6938006715256736\n",
            "\n",
            "Classification Report:\n",
            "              precision    recall  f1-score   support\n",
            "\n",
            "           0       0.81      0.81      0.81      9796\n",
            "           1       0.22      0.22      0.22      2415\n",
            "\n",
            "    accuracy                           0.69     12211\n",
            "   macro avg       0.52      0.51      0.52     12211\n",
            "weighted avg       0.69      0.69      0.69     12211\n",
            "\n",
            "Value: -1, Count: 2382\n",
            "Value: 1, Count: 9829\n",
            "\n",
            "Confusion Matrix:\n",
            "[[7943 1853]\n",
            " [1886  529]]\n"
          ]
        }
      ]
    },
    {
      "cell_type": "code",
      "source": [],
      "metadata": {
        "id": "GTeHuMqfP4Gw"
      },
      "execution_count": 24,
      "outputs": []
    }
  ]
}