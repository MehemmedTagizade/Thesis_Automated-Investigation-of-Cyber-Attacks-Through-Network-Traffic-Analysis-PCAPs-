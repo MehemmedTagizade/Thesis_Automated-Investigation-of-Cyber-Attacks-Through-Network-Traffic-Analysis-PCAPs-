{
  "nbformat": 4,
  "nbformat_minor": 0,
  "metadata": {
    "colab": {
      "provenance": [],
      "authorship_tag": "ABX9TyMsuifFZDqxV6P8FkjylIok",
      "include_colab_link": true
    },
    "kernelspec": {
      "name": "python3",
      "display_name": "Python 3"
    },
    "language_info": {
      "name": "python"
    }
  },
  "cells": [
    {
      "cell_type": "markdown",
      "metadata": {
        "id": "view-in-github",
        "colab_type": "text"
      },
      "source": [
        "<a href=\"https://colab.research.google.com/github/MehemmedTagizade/Thesis_Automated-Investigation-of-Cyber-Attacks-Through-Network-Traffic-Analysis-PCAPs-/blob/TEST-CODES/FWA_DDos_SVM_new_all.ipynb\" target=\"_parent\"><img src=\"https://colab.research.google.com/assets/colab-badge.svg\" alt=\"Open In Colab\"/></a>"
      ]
    },
    {
      "cell_type": "code",
      "execution_count": 1,
      "metadata": {
        "id": "rr_LSn1y1I3W"
      },
      "outputs": [],
      "source": [
        "# Import necessary libraries\n",
        "import pandas as pd\n",
        "import numpy as np"
      ]
    },
    {
      "cell_type": "code",
      "source": [
        "\n",
        "from google.colab import drive\n",
        "drive.mount('/content/drive')"
      ],
      "metadata": {
        "colab": {
          "base_uri": "https://localhost:8080/"
        },
        "id": "cJjiZwHv26Jr",
        "outputId": "25c45abb-d923-497b-aa8f-09a908b8a9c2"
      },
      "execution_count": 2,
      "outputs": [
        {
          "output_type": "stream",
          "name": "stdout",
          "text": [
            "Mounted at /content/drive\n"
          ]
        }
      ]
    },
    {
      "cell_type": "code",
      "source": [
        "# Load the dataset\n",
        "file_path = '/content/drive/MyDrive/Friday-WorkingHours-Afternoon-DDos.pcap_ISCX.csv'\n",
        "data = pd.read_csv(file_path)\n"
      ],
      "metadata": {
        "id": "91NBR1Nq27n2"
      },
      "execution_count": 3,
      "outputs": []
    },
    {
      "cell_type": "code",
      "source": [
        "print(data.columns)  # See the actual column names\n"
      ],
      "metadata": {
        "colab": {
          "base_uri": "https://localhost:8080/"
        },
        "id": "6HB_MQss3Fdq",
        "outputId": "1a7a6b57-c768-4601-9043-2102a274f256"
      },
      "execution_count": 23,
      "outputs": [
        {
          "output_type": "stream",
          "name": "stdout",
          "text": [
            "Index(['DestinationPort', 'FlowDuration', 'TotalFwdPackets',\n",
            "       'TotalBackwardPackets', 'TotalLengthofFwdPackets',\n",
            "       'TotalLengthofBwdPackets', 'FwdPacketLengthMax', 'FwdPacketLengthMin',\n",
            "       'FwdPacketLengthMean', 'FwdPacketLengthStd', 'BwdPacketLengthMax',\n",
            "       'BwdPacketLengthMin', 'BwdPacketLengthMean', 'BwdPacketLengthStd',\n",
            "       'FlowBytes/s', 'FlowPackets/s', 'FlowIATMean', 'FlowIATStd',\n",
            "       'FlowIATMax', 'FlowIATMin', 'FwdIATTotal', 'FwdIATMean', 'FwdIATStd',\n",
            "       'FwdIATMax', 'FwdIATMin', 'BwdIATTotal', 'BwdIATMean', 'BwdIATStd',\n",
            "       'BwdIATMax', 'BwdIATMin', 'FwdHeaderLength', 'BwdHeaderLength',\n",
            "       'FwdPackets/s', 'BwdPackets/s', 'MinPacketLength', 'MaxPacketLength',\n",
            "       'PacketLengthMean', 'PacketLengthStd', 'PacketLengthVariance',\n",
            "       'FINFlagCount', 'SYNFlagCount', 'RSTFlagCount', 'PSHFlagCount',\n",
            "       'ACKFlagCount', 'URGFlagCount', 'Down/UpRatio', 'AveragePacketSize',\n",
            "       'AvgFwdSegmentSize', 'AvgBwdSegmentSize', 'act_data_pkt_fwd',\n",
            "       'min_seg_size_forward', 'Label'],\n",
            "      dtype='object')\n"
          ]
        }
      ]
    },
    {
      "cell_type": "code",
      "source": [
        "data.rename(columns=lambda x: x.strip(), inplace=True)\n"
      ],
      "metadata": {
        "id": "-PuNq3Ig6GmN"
      },
      "execution_count": 24,
      "outputs": []
    },
    {
      "cell_type": "code",
      "source": [
        "print(data.columns)\n"
      ],
      "metadata": {
        "colab": {
          "base_uri": "https://localhost:8080/"
        },
        "id": "PkErvO656IES",
        "outputId": "7442c25a-da23-486e-bbb2-33ff0162e623"
      },
      "execution_count": 25,
      "outputs": [
        {
          "output_type": "stream",
          "name": "stdout",
          "text": [
            "Index(['DestinationPort', 'FlowDuration', 'TotalFwdPackets',\n",
            "       'TotalBackwardPackets', 'TotalLengthofFwdPackets',\n",
            "       'TotalLengthofBwdPackets', 'FwdPacketLengthMax', 'FwdPacketLengthMin',\n",
            "       'FwdPacketLengthMean', 'FwdPacketLengthStd', 'BwdPacketLengthMax',\n",
            "       'BwdPacketLengthMin', 'BwdPacketLengthMean', 'BwdPacketLengthStd',\n",
            "       'FlowBytes/s', 'FlowPackets/s', 'FlowIATMean', 'FlowIATStd',\n",
            "       'FlowIATMax', 'FlowIATMin', 'FwdIATTotal', 'FwdIATMean', 'FwdIATStd',\n",
            "       'FwdIATMax', 'FwdIATMin', 'BwdIATTotal', 'BwdIATMean', 'BwdIATStd',\n",
            "       'BwdIATMax', 'BwdIATMin', 'FwdHeaderLength', 'BwdHeaderLength',\n",
            "       'FwdPackets/s', 'BwdPackets/s', 'MinPacketLength', 'MaxPacketLength',\n",
            "       'PacketLengthMean', 'PacketLengthStd', 'PacketLengthVariance',\n",
            "       'FINFlagCount', 'SYNFlagCount', 'RSTFlagCount', 'PSHFlagCount',\n",
            "       'ACKFlagCount', 'URGFlagCount', 'Down/UpRatio', 'AveragePacketSize',\n",
            "       'AvgFwdSegmentSize', 'AvgBwdSegmentSize', 'act_data_pkt_fwd',\n",
            "       'min_seg_size_forward', 'Label'],\n",
            "      dtype='object')\n"
          ]
        }
      ]
    },
    {
      "cell_type": "code",
      "source": [
        "import pandas as pd\n",
        "\n",
        "# Load your dataset (replace 'your_dataset.csv' with the actual filename)\n",
        "\n",
        "\n",
        "# Check if \"Label\" column exists\n",
        "if \"Label\" in data.columns:\n",
        "    unique_labels = data[\"Label\"].unique()\n",
        "    print(f\"Unique values in 'Label' column: {unique_labels}\")\n",
        "    print(f\"Number of unique values: {len(unique_labels)}\")\n",
        "else:\n",
        "    print(\"No 'Label' column found in this dataset.\")\n",
        "# Count occurrences of each label\n",
        "label_counts = data[\"Label\"].value_counts()\n",
        "\n",
        "# Convert to percentages\n",
        "label_percentages = (label_counts / label_counts.sum()) * 100\n",
        "\n",
        "# Display the results\n",
        "print(label_percentages)\n",
        "\n"
      ],
      "metadata": {
        "colab": {
          "base_uri": "https://localhost:8080/"
        },
        "id": "54y6E4Vd3O0c",
        "outputId": "6a3ac347-9638-4f79-a7af-56c67bd94fa7"
      },
      "execution_count": 26,
      "outputs": [
        {
          "output_type": "stream",
          "name": "stdout",
          "text": [
            "Unique values in 'Label' column: ['BENIGN' 'DDoS']\n",
            "Number of unique values: 2\n",
            "Label\n",
            "DDoS      56.720762\n",
            "BENIGN    43.279238\n",
            "Name: count, dtype: float64\n"
          ]
        }
      ]
    },
    {
      "cell_type": "code",
      "source": [
        "\n",
        "# Clean column names by removing extra spaces\n",
        "data.columns = data.columns.str.replace(' ', '')\n",
        "print(data.columns)"
      ],
      "metadata": {
        "id": "d6ix8HPn3jAJ",
        "colab": {
          "base_uri": "https://localhost:8080/"
        },
        "outputId": "c75d2b95-a800-4eb3-c74e-87ddb5c44d14"
      },
      "execution_count": 27,
      "outputs": [
        {
          "output_type": "stream",
          "name": "stdout",
          "text": [
            "Index(['DestinationPort', 'FlowDuration', 'TotalFwdPackets',\n",
            "       'TotalBackwardPackets', 'TotalLengthofFwdPackets',\n",
            "       'TotalLengthofBwdPackets', 'FwdPacketLengthMax', 'FwdPacketLengthMin',\n",
            "       'FwdPacketLengthMean', 'FwdPacketLengthStd', 'BwdPacketLengthMax',\n",
            "       'BwdPacketLengthMin', 'BwdPacketLengthMean', 'BwdPacketLengthStd',\n",
            "       'FlowBytes/s', 'FlowPackets/s', 'FlowIATMean', 'FlowIATStd',\n",
            "       'FlowIATMax', 'FlowIATMin', 'FwdIATTotal', 'FwdIATMean', 'FwdIATStd',\n",
            "       'FwdIATMax', 'FwdIATMin', 'BwdIATTotal', 'BwdIATMean', 'BwdIATStd',\n",
            "       'BwdIATMax', 'BwdIATMin', 'FwdHeaderLength', 'BwdHeaderLength',\n",
            "       'FwdPackets/s', 'BwdPackets/s', 'MinPacketLength', 'MaxPacketLength',\n",
            "       'PacketLengthMean', 'PacketLengthStd', 'PacketLengthVariance',\n",
            "       'FINFlagCount', 'SYNFlagCount', 'RSTFlagCount', 'PSHFlagCount',\n",
            "       'ACKFlagCount', 'URGFlagCount', 'Down/UpRatio', 'AveragePacketSize',\n",
            "       'AvgFwdSegmentSize', 'AvgBwdSegmentSize', 'act_data_pkt_fwd',\n",
            "       'min_seg_size_forward', 'Label'],\n",
            "      dtype='object')\n"
          ]
        }
      ]
    },
    {
      "cell_type": "code",
      "source": [
        "data.replace([np.inf, -np.inf], np.nan, inplace=True)\n",
        "data.dropna(inplace=True)\n",
        "\n",
        "# Display the first 10 rows of the dataset\n",
        "print(\"First 10 rows of the dataset:\")\n",
        "print(data.head(10))\n",
        "\n"
      ],
      "metadata": {
        "id": "c4RfNagE6VD3",
        "colab": {
          "base_uri": "https://localhost:8080/"
        },
        "outputId": "4d12ba26-7a15-403c-98dd-61527d2437d1"
      },
      "execution_count": 28,
      "outputs": [
        {
          "output_type": "stream",
          "name": "stdout",
          "text": [
            "First 10 rows of the dataset:\n",
            "   DestinationPort  FlowDuration  TotalFwdPackets  TotalBackwardPackets  \\\n",
            "0              443       5322475                6                     4   \n",
            "1               80        461503                3                     6   \n",
            "2               80       5084468                2                     2   \n",
            "3              443     116713028               31                    32   \n",
            "4              443     116715847               27                    28   \n",
            "5               80       2260080                5                     0   \n",
            "6               80       1988950                5                     0   \n",
            "7               80      78857485                8                     4   \n",
            "8               80        523690                3                     5   \n",
            "9            19102       6615555                1                     5   \n",
            "\n",
            "   TotalLengthofFwdPackets  TotalLengthofBwdPackets  FwdPacketLengthMax  \\\n",
            "0                      611                      168                 517   \n",
            "1                       26                    11601                  20   \n",
            "2                        0                      212                   0   \n",
            "3                     1337                    30161                 476   \n",
            "4                     2053                    12645                 469   \n",
            "5                       30                        0                   6   \n",
            "6                       30                        0                   6   \n",
            "7                       56                    11607                  20   \n",
            "8                       26                    11601                  20   \n",
            "9                        6                       30                   6   \n",
            "\n",
            "   FwdPacketLengthMin  FwdPacketLengthMean  FwdPacketLengthStd  ...  \\\n",
            "0                   0           101.833333          204.305082  ...   \n",
            "1                   0             8.666667           10.263203  ...   \n",
            "2                   0             0.000000            0.000000  ...   \n",
            "3                   0            43.129032          108.610233  ...   \n",
            "4                   0            76.037037          152.520486  ...   \n",
            "5                   6             6.000000            0.000000  ...   \n",
            "6                   6             6.000000            0.000000  ...   \n",
            "7                   0             7.000000            5.656854  ...   \n",
            "8                   0             8.666667           10.263203  ...   \n",
            "9                   6             6.000000            0.000000  ...   \n",
            "\n",
            "   PSHFlagCount  ACKFlagCount  URGFlagCount  Down/UpRatio  AveragePacketSize  \\\n",
            "0             1             0             0             0          77.900000   \n",
            "1             1             0             0             2        1291.888889   \n",
            "2             1             0             0             1          53.000000   \n",
            "3             1             0             0             1         499.968254   \n",
            "4             1             0             0             1         267.236364   \n",
            "5             0             1             0             0           7.200000   \n",
            "6             0             1             0             0           7.200000   \n",
            "7             0             1             0             0         972.416667   \n",
            "8             1             0             0             1        1453.375000   \n",
            "9             0             1             1             5           7.000000   \n",
            "\n",
            "   AvgFwdSegmentSize  AvgBwdSegmentSize  act_data_pkt_fwd  \\\n",
            "0         101.833333          42.000000                 5   \n",
            "1           8.666667        1933.500000                 2   \n",
            "2           0.000000         106.000000                 0   \n",
            "3          43.129032         942.531250                30   \n",
            "4          76.037037         451.607143                26   \n",
            "5           6.000000           0.000000                 4   \n",
            "6           6.000000           0.000000                 4   \n",
            "7           7.000000        2901.750000                 6   \n",
            "8           8.666667        2320.200000                 2   \n",
            "9           6.000000           6.000000                 0   \n",
            "\n",
            "   min_seg_size_forward   Label  \n",
            "0                    20  BENIGN  \n",
            "1                    20    DDoS  \n",
            "2                    32  BENIGN  \n",
            "3                    20  BENIGN  \n",
            "4                    20  BENIGN  \n",
            "5                    20    DDoS  \n",
            "6                    20    DDoS  \n",
            "7                    20    DDoS  \n",
            "8                    20    DDoS  \n",
            "9                    20  BENIGN  \n",
            "\n",
            "[10 rows x 52 columns]\n"
          ]
        }
      ]
    },
    {
      "cell_type": "code",
      "source": [
        "print(data.isnull().sum())\n"
      ],
      "metadata": {
        "colab": {
          "base_uri": "https://localhost:8080/"
        },
        "id": "MTmUZ621Dhxy",
        "outputId": "a2f432a1-5210-493a-f35d-604216819fd5"
      },
      "execution_count": 29,
      "outputs": [
        {
          "output_type": "stream",
          "name": "stdout",
          "text": [
            "DestinationPort            0\n",
            "FlowDuration               0\n",
            "TotalFwdPackets            0\n",
            "TotalBackwardPackets       0\n",
            "TotalLengthofFwdPackets    0\n",
            "TotalLengthofBwdPackets    0\n",
            "FwdPacketLengthMax         0\n",
            "FwdPacketLengthMin         0\n",
            "FwdPacketLengthMean        0\n",
            "FwdPacketLengthStd         0\n",
            "BwdPacketLengthMax         0\n",
            "BwdPacketLengthMin         0\n",
            "BwdPacketLengthMean        0\n",
            "BwdPacketLengthStd         0\n",
            "FlowBytes/s                0\n",
            "FlowPackets/s              0\n",
            "FlowIATMean                0\n",
            "FlowIATStd                 0\n",
            "FlowIATMax                 0\n",
            "FlowIATMin                 0\n",
            "FwdIATTotal                0\n",
            "FwdIATMean                 0\n",
            "FwdIATStd                  0\n",
            "FwdIATMax                  0\n",
            "FwdIATMin                  0\n",
            "BwdIATTotal                0\n",
            "BwdIATMean                 0\n",
            "BwdIATStd                  0\n",
            "BwdIATMax                  0\n",
            "BwdIATMin                  0\n",
            "FwdHeaderLength            0\n",
            "BwdHeaderLength            0\n",
            "FwdPackets/s               0\n",
            "BwdPackets/s               0\n",
            "MinPacketLength            0\n",
            "MaxPacketLength            0\n",
            "PacketLengthMean           0\n",
            "PacketLengthStd            0\n",
            "PacketLengthVariance       0\n",
            "FINFlagCount               0\n",
            "SYNFlagCount               0\n",
            "RSTFlagCount               0\n",
            "PSHFlagCount               0\n",
            "ACKFlagCount               0\n",
            "URGFlagCount               0\n",
            "Down/UpRatio               0\n",
            "AveragePacketSize          0\n",
            "AvgFwdSegmentSize          0\n",
            "AvgBwdSegmentSize          0\n",
            "act_data_pkt_fwd           0\n",
            "min_seg_size_forward       0\n",
            "Label                      0\n",
            "dtype: int64\n"
          ]
        }
      ]
    },
    {
      "cell_type": "code",
      "source": [
        "print(data['Label'].value_counts())\n"
      ],
      "metadata": {
        "colab": {
          "base_uri": "https://localhost:8080/"
        },
        "id": "Ropw-qyRDogx",
        "outputId": "4f941761-d26a-44e7-cc19-48e0345ad2b1"
      },
      "execution_count": 30,
      "outputs": [
        {
          "output_type": "stream",
          "name": "stdout",
          "text": [
            "Label\n",
            "DDoS      128025\n",
            "BENIGN     97686\n",
            "Name: count, dtype: int64\n"
          ]
        }
      ]
    },
    {
      "cell_type": "code",
      "source": [
        "irrelevant_columns = [\n",
        "    'FwdPSHFlags', 'BwdPSHFlags', 'FwdURGFlags', 'BwdURGFlags',\n",
        "    'CWEFlagCount', 'ECEFlagCount', 'FwdHeaderLength.1',\n",
        "    'FwdAvgBytes/Bulk', 'FwdAvgPackets/Bulk', 'FwdAvgBulkRate',\n",
        "    'BwdAvgBytes/Bulk', 'BwdAvgPackets/Bulk', 'BwdAvgBulkRate',\n",
        "    'Init_Win_bytes_forward', 'Init_Win_bytes_backward',\n",
        "    'SubflowFwdPackets', 'SubflowFwdBytes', 'SubflowBwdPackets', 'SubflowBwdBytes',\n",
        "    'ActiveMean', 'ActiveStd', 'ActiveMax', 'ActiveMin',\n",
        "    'IdleMean', 'IdleStd', 'IdleMax', 'IdleMin'\n",
        "]\n",
        "\n",
        "data = data.drop(columns=irrelevant_columns, errors='ignore')\n",
        "print(data.columns)\n",
        "print(len(data.columns))"
      ],
      "metadata": {
        "colab": {
          "base_uri": "https://localhost:8080/"
        },
        "id": "YsG-sQaxeB2M",
        "outputId": "0d481efa-b48f-41e3-c0cf-1111cded80e3"
      },
      "execution_count": 31,
      "outputs": [
        {
          "output_type": "stream",
          "name": "stdout",
          "text": [
            "Index(['DestinationPort', 'FlowDuration', 'TotalFwdPackets',\n",
            "       'TotalBackwardPackets', 'TotalLengthofFwdPackets',\n",
            "       'TotalLengthofBwdPackets', 'FwdPacketLengthMax', 'FwdPacketLengthMin',\n",
            "       'FwdPacketLengthMean', 'FwdPacketLengthStd', 'BwdPacketLengthMax',\n",
            "       'BwdPacketLengthMin', 'BwdPacketLengthMean', 'BwdPacketLengthStd',\n",
            "       'FlowBytes/s', 'FlowPackets/s', 'FlowIATMean', 'FlowIATStd',\n",
            "       'FlowIATMax', 'FlowIATMin', 'FwdIATTotal', 'FwdIATMean', 'FwdIATStd',\n",
            "       'FwdIATMax', 'FwdIATMin', 'BwdIATTotal', 'BwdIATMean', 'BwdIATStd',\n",
            "       'BwdIATMax', 'BwdIATMin', 'FwdHeaderLength', 'BwdHeaderLength',\n",
            "       'FwdPackets/s', 'BwdPackets/s', 'MinPacketLength', 'MaxPacketLength',\n",
            "       'PacketLengthMean', 'PacketLengthStd', 'PacketLengthVariance',\n",
            "       'FINFlagCount', 'SYNFlagCount', 'RSTFlagCount', 'PSHFlagCount',\n",
            "       'ACKFlagCount', 'URGFlagCount', 'Down/UpRatio', 'AveragePacketSize',\n",
            "       'AvgFwdSegmentSize', 'AvgBwdSegmentSize', 'act_data_pkt_fwd',\n",
            "       'min_seg_size_forward', 'Label'],\n",
            "      dtype='object')\n",
            "52\n"
          ]
        }
      ]
    },
    {
      "cell_type": "code",
      "source": [
        "begnin_count = data[data['Label'] == 'BENIGN'].shape[0]\n",
        "print(f\"Number of BENIGN samples: {begnin_count}\")\n",
        "\n",
        "ddos_count = data[data['Label'] == 'DDoS'].shape[0]\n",
        "print(f\"Number of DDoS samples: {ddos_count}\")"
      ],
      "metadata": {
        "id": "Ki8mnosAg_sf",
        "colab": {
          "base_uri": "https://localhost:8080/"
        },
        "outputId": "79ccb425-18fe-491c-eec9-500f902d913b"
      },
      "execution_count": 32,
      "outputs": [
        {
          "output_type": "stream",
          "name": "stdout",
          "text": [
            "Number of BENIGN samples: 97686\n",
            "Number of DDoS samples: 128025\n"
          ]
        }
      ]
    },
    {
      "cell_type": "code",
      "source": [
        "from math import floor\n",
        "import pandas as pd\n",
        "\n",
        "benign_samples = data[data['Label'] == 'BENIGN']\n",
        "malicious_samples = data[data['Label'] == 'DDoS']  # Take all DDoS samples\n",
        "\n",
        "# Combine all benign and DDoS samples\n",
        "data = pd.concat([benign_samples, malicious_samples])\n",
        "\n",
        "# Shuffle the data\n",
        "data = data.sample(frac=1, random_state=42).reset_index(drop=True)\n"
      ],
      "metadata": {
        "id": "bFIVNfK0i-dR"
      },
      "execution_count": 33,
      "outputs": []
    },
    {
      "cell_type": "code",
      "source": [
        "print(data['Label'].value_counts())\n"
      ],
      "metadata": {
        "colab": {
          "base_uri": "https://localhost:8080/"
        },
        "id": "aMNqYC5_DqRm",
        "outputId": "2f7e9197-dad4-4bed-87aa-99a47db8157e"
      },
      "execution_count": 34,
      "outputs": [
        {
          "output_type": "stream",
          "name": "stdout",
          "text": [
            "Label\n",
            "DDoS      128025\n",
            "BENIGN     97686\n",
            "Name: count, dtype: int64\n"
          ]
        }
      ]
    },
    {
      "cell_type": "code",
      "source": [
        "# Calculate the correlation matrix, ignoring non-numerical columns\n",
        "correlation_matrix = data.select_dtypes(include=[np.number]).corr()\n",
        "\n",
        "# Find highly correlated features (e.g., with correlation > 0.9)\n",
        "high_corr = correlation_matrix[correlation_matrix > 0.9]\n",
        "print(high_corr)\n"
      ],
      "metadata": {
        "colab": {
          "base_uri": "https://localhost:8080/"
        },
        "collapsed": true,
        "id": "Ou_p4Ry5DrpD",
        "outputId": "9ee60e3c-2645-45f7-9a53-db0734727499"
      },
      "execution_count": 35,
      "outputs": [
        {
          "output_type": "stream",
          "name": "stdout",
          "text": [
            "                         DestinationPort  FlowDuration  TotalFwdPackets  \\\n",
            "DestinationPort                      1.0           NaN              NaN   \n",
            "FlowDuration                         NaN      1.000000              NaN   \n",
            "TotalFwdPackets                      NaN           NaN         1.000000   \n",
            "TotalBackwardPackets                 NaN           NaN         0.956714   \n",
            "TotalLengthofFwdPackets              NaN           NaN              NaN   \n",
            "TotalLengthofBwdPackets              NaN           NaN         0.938470   \n",
            "FwdPacketLengthMax                   NaN           NaN              NaN   \n",
            "FwdPacketLengthMin                   NaN           NaN              NaN   \n",
            "FwdPacketLengthMean                  NaN           NaN              NaN   \n",
            "FwdPacketLengthStd                   NaN           NaN              NaN   \n",
            "BwdPacketLengthMax                   NaN           NaN              NaN   \n",
            "BwdPacketLengthMin                   NaN           NaN              NaN   \n",
            "BwdPacketLengthMean                  NaN           NaN              NaN   \n",
            "BwdPacketLengthStd                   NaN           NaN              NaN   \n",
            "FlowBytes/s                          NaN           NaN              NaN   \n",
            "FlowPackets/s                        NaN           NaN              NaN   \n",
            "FlowIATMean                          NaN           NaN              NaN   \n",
            "FlowIATStd                           NaN           NaN              NaN   \n",
            "FlowIATMax                           NaN      0.920254              NaN   \n",
            "FlowIATMin                           NaN           NaN              NaN   \n",
            "FwdIATTotal                          NaN      0.997054              NaN   \n",
            "FwdIATMean                           NaN           NaN              NaN   \n",
            "FwdIATStd                            NaN           NaN              NaN   \n",
            "FwdIATMax                            NaN      0.917943              NaN   \n",
            "FwdIATMin                            NaN           NaN              NaN   \n",
            "BwdIATTotal                          NaN           NaN              NaN   \n",
            "BwdIATMean                           NaN           NaN              NaN   \n",
            "BwdIATStd                            NaN           NaN              NaN   \n",
            "BwdIATMax                            NaN           NaN              NaN   \n",
            "BwdIATMin                            NaN           NaN              NaN   \n",
            "FwdHeaderLength                      NaN           NaN         0.968434   \n",
            "BwdHeaderLength                      NaN           NaN         0.928736   \n",
            "FwdPackets/s                         NaN           NaN              NaN   \n",
            "BwdPackets/s                         NaN           NaN              NaN   \n",
            "MinPacketLength                      NaN           NaN              NaN   \n",
            "MaxPacketLength                      NaN           NaN              NaN   \n",
            "PacketLengthMean                     NaN           NaN              NaN   \n",
            "PacketLengthStd                      NaN           NaN              NaN   \n",
            "PacketLengthVariance                 NaN           NaN              NaN   \n",
            "FINFlagCount                         NaN           NaN              NaN   \n",
            "SYNFlagCount                         NaN           NaN              NaN   \n",
            "RSTFlagCount                         NaN           NaN              NaN   \n",
            "PSHFlagCount                         NaN           NaN              NaN   \n",
            "ACKFlagCount                         NaN           NaN              NaN   \n",
            "URGFlagCount                         NaN           NaN              NaN   \n",
            "Down/UpRatio                         NaN           NaN              NaN   \n",
            "AveragePacketSize                    NaN           NaN              NaN   \n",
            "AvgFwdSegmentSize                    NaN           NaN              NaN   \n",
            "AvgBwdSegmentSize                    NaN           NaN              NaN   \n",
            "act_data_pkt_fwd                     NaN           NaN              NaN   \n",
            "min_seg_size_forward                 NaN           NaN              NaN   \n",
            "\n",
            "                         TotalBackwardPackets  TotalLengthofFwdPackets  \\\n",
            "DestinationPort                           NaN                      NaN   \n",
            "FlowDuration                              NaN                      NaN   \n",
            "TotalFwdPackets                      0.956714                      NaN   \n",
            "TotalBackwardPackets                 1.000000                      NaN   \n",
            "TotalLengthofFwdPackets                   NaN                      1.0   \n",
            "TotalLengthofBwdPackets              0.970422                      NaN   \n",
            "FwdPacketLengthMax                        NaN                      NaN   \n",
            "FwdPacketLengthMin                        NaN                      NaN   \n",
            "FwdPacketLengthMean                       NaN                      NaN   \n",
            "FwdPacketLengthStd                        NaN                      NaN   \n",
            "BwdPacketLengthMax                        NaN                      NaN   \n",
            "BwdPacketLengthMin                        NaN                      NaN   \n",
            "BwdPacketLengthMean                       NaN                      NaN   \n",
            "BwdPacketLengthStd                        NaN                      NaN   \n",
            "FlowBytes/s                               NaN                      NaN   \n",
            "FlowPackets/s                             NaN                      NaN   \n",
            "FlowIATMean                               NaN                      NaN   \n",
            "FlowIATStd                                NaN                      NaN   \n",
            "FlowIATMax                                NaN                      NaN   \n",
            "FlowIATMin                                NaN                      NaN   \n",
            "FwdIATTotal                               NaN                      NaN   \n",
            "FwdIATMean                                NaN                      NaN   \n",
            "FwdIATStd                                 NaN                      NaN   \n",
            "FwdIATMax                                 NaN                      NaN   \n",
            "FwdIATMin                                 NaN                      NaN   \n",
            "BwdIATTotal                               NaN                      NaN   \n",
            "BwdIATMean                                NaN                      NaN   \n",
            "BwdIATStd                                 NaN                      NaN   \n",
            "BwdIATMax                                 NaN                      NaN   \n",
            "BwdIATMin                                 NaN                      NaN   \n",
            "FwdHeaderLength                      0.939588                      NaN   \n",
            "BwdHeaderLength                      0.975592                      NaN   \n",
            "FwdPackets/s                              NaN                      NaN   \n",
            "BwdPackets/s                              NaN                      NaN   \n",
            "MinPacketLength                           NaN                      NaN   \n",
            "MaxPacketLength                           NaN                      NaN   \n",
            "PacketLengthMean                          NaN                      NaN   \n",
            "PacketLengthStd                           NaN                      NaN   \n",
            "PacketLengthVariance                      NaN                      NaN   \n",
            "FINFlagCount                              NaN                      NaN   \n",
            "SYNFlagCount                              NaN                      NaN   \n",
            "RSTFlagCount                              NaN                      NaN   \n",
            "PSHFlagCount                              NaN                      NaN   \n",
            "ACKFlagCount                              NaN                      NaN   \n",
            "URGFlagCount                              NaN                      NaN   \n",
            "Down/UpRatio                              NaN                      NaN   \n",
            "AveragePacketSize                         NaN                      NaN   \n",
            "AvgFwdSegmentSize                         NaN                      NaN   \n",
            "AvgBwdSegmentSize                         NaN                      NaN   \n",
            "act_data_pkt_fwd                          NaN                      NaN   \n",
            "min_seg_size_forward                      NaN                      NaN   \n",
            "\n",
            "                         TotalLengthofBwdPackets  FwdPacketLengthMax  \\\n",
            "DestinationPort                              NaN                 NaN   \n",
            "FlowDuration                                 NaN                 NaN   \n",
            "TotalFwdPackets                         0.938470                 NaN   \n",
            "TotalBackwardPackets                    0.970422                 NaN   \n",
            "TotalLengthofFwdPackets                      NaN                 NaN   \n",
            "TotalLengthofBwdPackets                 1.000000                 NaN   \n",
            "FwdPacketLengthMax                           NaN            1.000000   \n",
            "FwdPacketLengthMin                           NaN                 NaN   \n",
            "FwdPacketLengthMean                          NaN            0.940953   \n",
            "FwdPacketLengthStd                           NaN            0.991672   \n",
            "BwdPacketLengthMax                           NaN                 NaN   \n",
            "BwdPacketLengthMin                           NaN                 NaN   \n",
            "BwdPacketLengthMean                          NaN                 NaN   \n",
            "BwdPacketLengthStd                           NaN                 NaN   \n",
            "FlowBytes/s                                  NaN                 NaN   \n",
            "FlowPackets/s                                NaN                 NaN   \n",
            "FlowIATMean                                  NaN                 NaN   \n",
            "FlowIATStd                                   NaN                 NaN   \n",
            "FlowIATMax                                   NaN                 NaN   \n",
            "FlowIATMin                                   NaN                 NaN   \n",
            "FwdIATTotal                                  NaN                 NaN   \n",
            "FwdIATMean                                   NaN                 NaN   \n",
            "FwdIATStd                                    NaN                 NaN   \n",
            "FwdIATMax                                    NaN                 NaN   \n",
            "FwdIATMin                                    NaN                 NaN   \n",
            "BwdIATTotal                                  NaN                 NaN   \n",
            "BwdIATMean                                   NaN                 NaN   \n",
            "BwdIATStd                                    NaN                 NaN   \n",
            "BwdIATMax                                    NaN                 NaN   \n",
            "BwdIATMin                                    NaN                 NaN   \n",
            "FwdHeaderLength                         0.923045                 NaN   \n",
            "BwdHeaderLength                         0.945359                 NaN   \n",
            "FwdPackets/s                                 NaN                 NaN   \n",
            "BwdPackets/s                                 NaN                 NaN   \n",
            "MinPacketLength                              NaN                 NaN   \n",
            "MaxPacketLength                              NaN                 NaN   \n",
            "PacketLengthMean                             NaN                 NaN   \n",
            "PacketLengthStd                              NaN                 NaN   \n",
            "PacketLengthVariance                         NaN                 NaN   \n",
            "FINFlagCount                                 NaN                 NaN   \n",
            "SYNFlagCount                                 NaN                 NaN   \n",
            "RSTFlagCount                                 NaN                 NaN   \n",
            "PSHFlagCount                                 NaN                 NaN   \n",
            "ACKFlagCount                                 NaN                 NaN   \n",
            "URGFlagCount                                 NaN                 NaN   \n",
            "Down/UpRatio                                 NaN                 NaN   \n",
            "AveragePacketSize                            NaN                 NaN   \n",
            "AvgFwdSegmentSize                            NaN            0.940953   \n",
            "AvgBwdSegmentSize                            NaN                 NaN   \n",
            "act_data_pkt_fwd                             NaN                 NaN   \n",
            "min_seg_size_forward                         NaN                 NaN   \n",
            "\n",
            "                         FwdPacketLengthMin  FwdPacketLengthMean  \\\n",
            "DestinationPort                         NaN                  NaN   \n",
            "FlowDuration                            NaN                  NaN   \n",
            "TotalFwdPackets                         NaN                  NaN   \n",
            "TotalBackwardPackets                    NaN                  NaN   \n",
            "TotalLengthofFwdPackets                 NaN                  NaN   \n",
            "TotalLengthofBwdPackets                 NaN                  NaN   \n",
            "FwdPacketLengthMax                      NaN             0.940953   \n",
            "FwdPacketLengthMin                      1.0                  NaN   \n",
            "FwdPacketLengthMean                     NaN             1.000000   \n",
            "FwdPacketLengthStd                      NaN             0.919631   \n",
            "BwdPacketLengthMax                      NaN                  NaN   \n",
            "BwdPacketLengthMin                      NaN                  NaN   \n",
            "BwdPacketLengthMean                     NaN                  NaN   \n",
            "BwdPacketLengthStd                      NaN                  NaN   \n",
            "FlowBytes/s                             NaN                  NaN   \n",
            "FlowPackets/s                           NaN                  NaN   \n",
            "FlowIATMean                             NaN                  NaN   \n",
            "FlowIATStd                              NaN                  NaN   \n",
            "FlowIATMax                              NaN                  NaN   \n",
            "FlowIATMin                              NaN                  NaN   \n",
            "FwdIATTotal                             NaN                  NaN   \n",
            "FwdIATMean                              NaN                  NaN   \n",
            "FwdIATStd                               NaN                  NaN   \n",
            "FwdIATMax                               NaN                  NaN   \n",
            "FwdIATMin                               NaN                  NaN   \n",
            "BwdIATTotal                             NaN                  NaN   \n",
            "BwdIATMean                              NaN                  NaN   \n",
            "BwdIATStd                               NaN                  NaN   \n",
            "BwdIATMax                               NaN                  NaN   \n",
            "BwdIATMin                               NaN                  NaN   \n",
            "FwdHeaderLength                         NaN                  NaN   \n",
            "BwdHeaderLength                         NaN                  NaN   \n",
            "FwdPackets/s                            NaN                  NaN   \n",
            "BwdPackets/s                            NaN                  NaN   \n",
            "MinPacketLength                         NaN                  NaN   \n",
            "MaxPacketLength                         NaN                  NaN   \n",
            "PacketLengthMean                        NaN                  NaN   \n",
            "PacketLengthStd                         NaN                  NaN   \n",
            "PacketLengthVariance                    NaN                  NaN   \n",
            "FINFlagCount                            NaN                  NaN   \n",
            "SYNFlagCount                            NaN                  NaN   \n",
            "RSTFlagCount                            NaN                  NaN   \n",
            "PSHFlagCount                            NaN                  NaN   \n",
            "ACKFlagCount                            NaN                  NaN   \n",
            "URGFlagCount                            NaN                  NaN   \n",
            "Down/UpRatio                            NaN                  NaN   \n",
            "AveragePacketSize                       NaN                  NaN   \n",
            "AvgFwdSegmentSize                       NaN             1.000000   \n",
            "AvgBwdSegmentSize                       NaN                  NaN   \n",
            "act_data_pkt_fwd                        NaN                  NaN   \n",
            "min_seg_size_forward                    NaN                  NaN   \n",
            "\n",
            "                         FwdPacketLengthStd  ...  RSTFlagCount  PSHFlagCount  \\\n",
            "DestinationPort                         NaN  ...           NaN           NaN   \n",
            "FlowDuration                            NaN  ...           NaN           NaN   \n",
            "TotalFwdPackets                         NaN  ...           NaN           NaN   \n",
            "TotalBackwardPackets                    NaN  ...           NaN           NaN   \n",
            "TotalLengthofFwdPackets                 NaN  ...           NaN           NaN   \n",
            "TotalLengthofBwdPackets                 NaN  ...           NaN           NaN   \n",
            "FwdPacketLengthMax                 0.991672  ...           NaN           NaN   \n",
            "FwdPacketLengthMin                      NaN  ...           NaN           NaN   \n",
            "FwdPacketLengthMean                0.919631  ...           NaN           NaN   \n",
            "FwdPacketLengthStd                 1.000000  ...           NaN           NaN   \n",
            "BwdPacketLengthMax                      NaN  ...           NaN           NaN   \n",
            "BwdPacketLengthMin                      NaN  ...           NaN           NaN   \n",
            "BwdPacketLengthMean                     NaN  ...           NaN           NaN   \n",
            "BwdPacketLengthStd                      NaN  ...           NaN           NaN   \n",
            "FlowBytes/s                             NaN  ...           NaN           NaN   \n",
            "FlowPackets/s                           NaN  ...           NaN           NaN   \n",
            "FlowIATMean                             NaN  ...           NaN           NaN   \n",
            "FlowIATStd                              NaN  ...           NaN           NaN   \n",
            "FlowIATMax                              NaN  ...           NaN           NaN   \n",
            "FlowIATMin                              NaN  ...           NaN           NaN   \n",
            "FwdIATTotal                             NaN  ...           NaN           NaN   \n",
            "FwdIATMean                              NaN  ...           NaN           NaN   \n",
            "FwdIATStd                               NaN  ...           NaN           NaN   \n",
            "FwdIATMax                               NaN  ...           NaN           NaN   \n",
            "FwdIATMin                               NaN  ...           NaN           NaN   \n",
            "BwdIATTotal                             NaN  ...           NaN           NaN   \n",
            "BwdIATMean                              NaN  ...           NaN           NaN   \n",
            "BwdIATStd                               NaN  ...           NaN           NaN   \n",
            "BwdIATMax                               NaN  ...           NaN           NaN   \n",
            "BwdIATMin                               NaN  ...           NaN           NaN   \n",
            "FwdHeaderLength                         NaN  ...           NaN           NaN   \n",
            "BwdHeaderLength                         NaN  ...           NaN           NaN   \n",
            "FwdPackets/s                            NaN  ...           NaN           NaN   \n",
            "BwdPackets/s                            NaN  ...           NaN           NaN   \n",
            "MinPacketLength                         NaN  ...           NaN           NaN   \n",
            "MaxPacketLength                         NaN  ...           NaN           NaN   \n",
            "PacketLengthMean                        NaN  ...           NaN           NaN   \n",
            "PacketLengthStd                         NaN  ...           NaN           NaN   \n",
            "PacketLengthVariance                    NaN  ...           NaN           NaN   \n",
            "FINFlagCount                            NaN  ...           NaN           NaN   \n",
            "SYNFlagCount                            NaN  ...           NaN           NaN   \n",
            "RSTFlagCount                            NaN  ...           1.0           NaN   \n",
            "PSHFlagCount                            NaN  ...           NaN           1.0   \n",
            "ACKFlagCount                            NaN  ...           NaN           NaN   \n",
            "URGFlagCount                            NaN  ...           NaN           NaN   \n",
            "Down/UpRatio                            NaN  ...           NaN           NaN   \n",
            "AveragePacketSize                       NaN  ...           NaN           NaN   \n",
            "AvgFwdSegmentSize                  0.919631  ...           NaN           NaN   \n",
            "AvgBwdSegmentSize                       NaN  ...           NaN           NaN   \n",
            "act_data_pkt_fwd                        NaN  ...           NaN           NaN   \n",
            "min_seg_size_forward                    NaN  ...           NaN           NaN   \n",
            "\n",
            "                         ACKFlagCount  URGFlagCount  Down/UpRatio  \\\n",
            "DestinationPort                   NaN           NaN           NaN   \n",
            "FlowDuration                      NaN           NaN           NaN   \n",
            "TotalFwdPackets                   NaN           NaN           NaN   \n",
            "TotalBackwardPackets              NaN           NaN           NaN   \n",
            "TotalLengthofFwdPackets           NaN           NaN           NaN   \n",
            "TotalLengthofBwdPackets           NaN           NaN           NaN   \n",
            "FwdPacketLengthMax                NaN           NaN           NaN   \n",
            "FwdPacketLengthMin                NaN           NaN           NaN   \n",
            "FwdPacketLengthMean               NaN           NaN           NaN   \n",
            "FwdPacketLengthStd                NaN           NaN           NaN   \n",
            "BwdPacketLengthMax                NaN           NaN           NaN   \n",
            "BwdPacketLengthMin                NaN           NaN           NaN   \n",
            "BwdPacketLengthMean               NaN           NaN           NaN   \n",
            "BwdPacketLengthStd                NaN           NaN           NaN   \n",
            "FlowBytes/s                       NaN           NaN           NaN   \n",
            "FlowPackets/s                     NaN           NaN           NaN   \n",
            "FlowIATMean                       NaN           NaN           NaN   \n",
            "FlowIATStd                        NaN           NaN           NaN   \n",
            "FlowIATMax                        NaN           NaN           NaN   \n",
            "FlowIATMin                        NaN           NaN           NaN   \n",
            "FwdIATTotal                       NaN           NaN           NaN   \n",
            "FwdIATMean                        NaN           NaN           NaN   \n",
            "FwdIATStd                         NaN           NaN           NaN   \n",
            "FwdIATMax                         NaN           NaN           NaN   \n",
            "FwdIATMin                         NaN           NaN           NaN   \n",
            "BwdIATTotal                       NaN           NaN           NaN   \n",
            "BwdIATMean                        NaN           NaN           NaN   \n",
            "BwdIATStd                         NaN           NaN           NaN   \n",
            "BwdIATMax                         NaN           NaN           NaN   \n",
            "BwdIATMin                         NaN           NaN           NaN   \n",
            "FwdHeaderLength                   NaN           NaN           NaN   \n",
            "BwdHeaderLength                   NaN           NaN           NaN   \n",
            "FwdPackets/s                      NaN           NaN           NaN   \n",
            "BwdPackets/s                      NaN           NaN           NaN   \n",
            "MinPacketLength                   NaN           NaN           NaN   \n",
            "MaxPacketLength                   NaN           NaN           NaN   \n",
            "PacketLengthMean                  NaN           NaN           NaN   \n",
            "PacketLengthStd                   NaN           NaN           NaN   \n",
            "PacketLengthVariance              NaN           NaN           NaN   \n",
            "FINFlagCount                      NaN           NaN           NaN   \n",
            "SYNFlagCount                      NaN           NaN           NaN   \n",
            "RSTFlagCount                      NaN           NaN           NaN   \n",
            "PSHFlagCount                      NaN           NaN           NaN   \n",
            "ACKFlagCount                      1.0           NaN           NaN   \n",
            "URGFlagCount                      NaN           1.0           NaN   \n",
            "Down/UpRatio                      NaN           NaN           1.0   \n",
            "AveragePacketSize                 NaN           NaN           NaN   \n",
            "AvgFwdSegmentSize                 NaN           NaN           NaN   \n",
            "AvgBwdSegmentSize                 NaN           NaN           NaN   \n",
            "act_data_pkt_fwd                  NaN           NaN           NaN   \n",
            "min_seg_size_forward              NaN           NaN           NaN   \n",
            "\n",
            "                         AveragePacketSize  AvgFwdSegmentSize  \\\n",
            "DestinationPort                        NaN                NaN   \n",
            "FlowDuration                           NaN                NaN   \n",
            "TotalFwdPackets                        NaN                NaN   \n",
            "TotalBackwardPackets                   NaN                NaN   \n",
            "TotalLengthofFwdPackets                NaN                NaN   \n",
            "TotalLengthofBwdPackets                NaN                NaN   \n",
            "FwdPacketLengthMax                     NaN           0.940953   \n",
            "FwdPacketLengthMin                     NaN                NaN   \n",
            "FwdPacketLengthMean                    NaN           1.000000   \n",
            "FwdPacketLengthStd                     NaN           0.919631   \n",
            "BwdPacketLengthMax                     NaN                NaN   \n",
            "BwdPacketLengthMin                     NaN                NaN   \n",
            "BwdPacketLengthMean                    NaN                NaN   \n",
            "BwdPacketLengthStd                     NaN                NaN   \n",
            "FlowBytes/s                            NaN                NaN   \n",
            "FlowPackets/s                          NaN                NaN   \n",
            "FlowIATMean                            NaN                NaN   \n",
            "FlowIATStd                             NaN                NaN   \n",
            "FlowIATMax                             NaN                NaN   \n",
            "FlowIATMin                             NaN                NaN   \n",
            "FwdIATTotal                            NaN                NaN   \n",
            "FwdIATMean                             NaN                NaN   \n",
            "FwdIATStd                              NaN                NaN   \n",
            "FwdIATMax                              NaN                NaN   \n",
            "FwdIATMin                              NaN                NaN   \n",
            "BwdIATTotal                            NaN                NaN   \n",
            "BwdIATMean                             NaN                NaN   \n",
            "BwdIATStd                              NaN                NaN   \n",
            "BwdIATMax                              NaN                NaN   \n",
            "BwdIATMin                              NaN                NaN   \n",
            "FwdHeaderLength                        NaN                NaN   \n",
            "BwdHeaderLength                        NaN                NaN   \n",
            "FwdPackets/s                           NaN                NaN   \n",
            "BwdPackets/s                           NaN                NaN   \n",
            "MinPacketLength                        NaN                NaN   \n",
            "MaxPacketLength                   0.900041                NaN   \n",
            "PacketLengthMean                  0.999358                NaN   \n",
            "PacketLengthStd                   0.950450                NaN   \n",
            "PacketLengthVariance                   NaN                NaN   \n",
            "FINFlagCount                           NaN                NaN   \n",
            "SYNFlagCount                           NaN                NaN   \n",
            "RSTFlagCount                           NaN                NaN   \n",
            "PSHFlagCount                           NaN                NaN   \n",
            "ACKFlagCount                           NaN                NaN   \n",
            "URGFlagCount                           NaN                NaN   \n",
            "Down/UpRatio                           NaN                NaN   \n",
            "AveragePacketSize                 1.000000                NaN   \n",
            "AvgFwdSegmentSize                      NaN           1.000000   \n",
            "AvgBwdSegmentSize                      NaN                NaN   \n",
            "act_data_pkt_fwd                       NaN                NaN   \n",
            "min_seg_size_forward                   NaN                NaN   \n",
            "\n",
            "                         AvgBwdSegmentSize  act_data_pkt_fwd  \\\n",
            "DestinationPort                        NaN               NaN   \n",
            "FlowDuration                           NaN               NaN   \n",
            "TotalFwdPackets                        NaN               NaN   \n",
            "TotalBackwardPackets                   NaN               NaN   \n",
            "TotalLengthofFwdPackets                NaN               NaN   \n",
            "TotalLengthofBwdPackets                NaN               NaN   \n",
            "FwdPacketLengthMax                     NaN               NaN   \n",
            "FwdPacketLengthMin                     NaN               NaN   \n",
            "FwdPacketLengthMean                    NaN               NaN   \n",
            "FwdPacketLengthStd                     NaN               NaN   \n",
            "BwdPacketLengthMax                0.961440               NaN   \n",
            "BwdPacketLengthMin                     NaN               NaN   \n",
            "BwdPacketLengthMean               1.000000               NaN   \n",
            "BwdPacketLengthStd                0.956005               NaN   \n",
            "FlowBytes/s                            NaN               NaN   \n",
            "FlowPackets/s                          NaN               NaN   \n",
            "FlowIATMean                            NaN               NaN   \n",
            "FlowIATStd                             NaN               NaN   \n",
            "FlowIATMax                             NaN               NaN   \n",
            "FlowIATMin                             NaN               NaN   \n",
            "FwdIATTotal                            NaN               NaN   \n",
            "FwdIATMean                             NaN               NaN   \n",
            "FwdIATStd                              NaN               NaN   \n",
            "FwdIATMax                              NaN               NaN   \n",
            "FwdIATMin                              NaN               NaN   \n",
            "BwdIATTotal                            NaN               NaN   \n",
            "BwdIATMean                             NaN               NaN   \n",
            "BwdIATStd                              NaN               NaN   \n",
            "BwdIATMax                              NaN               NaN   \n",
            "BwdIATMin                              NaN               NaN   \n",
            "FwdHeaderLength                        NaN               NaN   \n",
            "BwdHeaderLength                        NaN               NaN   \n",
            "FwdPackets/s                           NaN               NaN   \n",
            "BwdPackets/s                           NaN               NaN   \n",
            "MinPacketLength                        NaN               NaN   \n",
            "MaxPacketLength                        NaN               NaN   \n",
            "PacketLengthMean                       NaN               NaN   \n",
            "PacketLengthStd                        NaN               NaN   \n",
            "PacketLengthVariance                   NaN               NaN   \n",
            "FINFlagCount                           NaN               NaN   \n",
            "SYNFlagCount                           NaN               NaN   \n",
            "RSTFlagCount                           NaN               NaN   \n",
            "PSHFlagCount                           NaN               NaN   \n",
            "ACKFlagCount                           NaN               NaN   \n",
            "URGFlagCount                           NaN               NaN   \n",
            "Down/UpRatio                           NaN               NaN   \n",
            "AveragePacketSize                      NaN               NaN   \n",
            "AvgFwdSegmentSize                      NaN               NaN   \n",
            "AvgBwdSegmentSize                 1.000000               NaN   \n",
            "act_data_pkt_fwd                       NaN               1.0   \n",
            "min_seg_size_forward                   NaN               NaN   \n",
            "\n",
            "                         min_seg_size_forward  \n",
            "DestinationPort                           NaN  \n",
            "FlowDuration                              NaN  \n",
            "TotalFwdPackets                           NaN  \n",
            "TotalBackwardPackets                      NaN  \n",
            "TotalLengthofFwdPackets                   NaN  \n",
            "TotalLengthofBwdPackets                   NaN  \n",
            "FwdPacketLengthMax                        NaN  \n",
            "FwdPacketLengthMin                        NaN  \n",
            "FwdPacketLengthMean                       NaN  \n",
            "FwdPacketLengthStd                        NaN  \n",
            "BwdPacketLengthMax                        NaN  \n",
            "BwdPacketLengthMin                        NaN  \n",
            "BwdPacketLengthMean                       NaN  \n",
            "BwdPacketLengthStd                        NaN  \n",
            "FlowBytes/s                               NaN  \n",
            "FlowPackets/s                             NaN  \n",
            "FlowIATMean                               NaN  \n",
            "FlowIATStd                                NaN  \n",
            "FlowIATMax                                NaN  \n",
            "FlowIATMin                                NaN  \n",
            "FwdIATTotal                               NaN  \n",
            "FwdIATMean                                NaN  \n",
            "FwdIATStd                                 NaN  \n",
            "FwdIATMax                                 NaN  \n",
            "FwdIATMin                                 NaN  \n",
            "BwdIATTotal                               NaN  \n",
            "BwdIATMean                                NaN  \n",
            "BwdIATStd                                 NaN  \n",
            "BwdIATMax                                 NaN  \n",
            "BwdIATMin                                 NaN  \n",
            "FwdHeaderLength                           NaN  \n",
            "BwdHeaderLength                           NaN  \n",
            "FwdPackets/s                              NaN  \n",
            "BwdPackets/s                              NaN  \n",
            "MinPacketLength                           NaN  \n",
            "MaxPacketLength                           NaN  \n",
            "PacketLengthMean                          NaN  \n",
            "PacketLengthStd                           NaN  \n",
            "PacketLengthVariance                      NaN  \n",
            "FINFlagCount                              NaN  \n",
            "SYNFlagCount                              NaN  \n",
            "RSTFlagCount                              NaN  \n",
            "PSHFlagCount                              NaN  \n",
            "ACKFlagCount                              NaN  \n",
            "URGFlagCount                              NaN  \n",
            "Down/UpRatio                              NaN  \n",
            "AveragePacketSize                         NaN  \n",
            "AvgFwdSegmentSize                         NaN  \n",
            "AvgBwdSegmentSize                         NaN  \n",
            "act_data_pkt_fwd                          NaN  \n",
            "min_seg_size_forward                      1.0  \n",
            "\n",
            "[51 rows x 51 columns]\n"
          ]
        }
      ]
    },
    {
      "cell_type": "code",
      "source": [
        "from sklearn.model_selection import train_test_split\n",
        "X = data.drop('Label', axis=1)\n",
        "y = data['Label']\n",
        "X_train, X_test, y_train, y_test = train_test_split(X, y, test_size=0.2, random_state=42)\n",
        "print(f\"Training set size: {len(X_train)}, Test set size: {len(X_test)}\")\n",
        "\n"
      ],
      "metadata": {
        "collapsed": true,
        "id": "-B9YfnJ-Dtjw",
        "colab": {
          "base_uri": "https://localhost:8080/"
        },
        "outputId": "213f9125-7387-4276-80b1-eb691136f9ea"
      },
      "execution_count": 36,
      "outputs": [
        {
          "output_type": "stream",
          "name": "stdout",
          "text": [
            "Training set size: 180568, Test set size: 45143\n"
          ]
        }
      ]
    },
    {
      "cell_type": "code",
      "source": [
        "# Separate features and labels\n",
        "features = data.drop('Label', axis=1)\n",
        "labels = data['Label']\n",
        "features.replace([np.inf, -np.inf], np.nan, inplace=True)\n",
        "features.dropna(inplace=True)\n",
        "features = features.select_dtypes(include=[float, int])\n",
        "len(features)"
      ],
      "metadata": {
        "colab": {
          "base_uri": "https://localhost:8080/"
        },
        "id": "W5vNDodKDvsL",
        "outputId": "a6fc8eca-72ee-450c-f38b-924696ba9156"
      },
      "execution_count": 37,
      "outputs": [
        {
          "output_type": "execute_result",
          "data": {
            "text/plain": [
              "225711"
            ]
          },
          "metadata": {},
          "execution_count": 37
        }
      ]
    },
    {
      "cell_type": "code",
      "source": [
        "from sklearn.preprocessing import StandardScaler\n",
        "\n",
        "scaler = StandardScaler()\n",
        "features_scaled = scaler.fit_transform(features)"
      ],
      "metadata": {
        "id": "EJ2XCWS6D5Z7"
      },
      "execution_count": 38,
      "outputs": []
    },
    {
      "cell_type": "code",
      "source": [
        "from sklearn.preprocessing import LabelEncoder\n",
        "\n",
        "label_encoder = LabelEncoder()\n",
        "y_encoded = label_encoder.fit_transform(labels)"
      ],
      "metadata": {
        "id": "71Swd98-D7JI"
      },
      "execution_count": 39,
      "outputs": []
    },
    {
      "cell_type": "code",
      "source": [
        "round(data.shape[0]*80/100)"
      ],
      "metadata": {
        "colab": {
          "base_uri": "https://localhost:8080/"
        },
        "id": "SOWm_xzBJy1v",
        "outputId": "a663979b-feb9-4bdc-e053-24a6823c6876"
      },
      "execution_count": 40,
      "outputs": [
        {
          "output_type": "execute_result",
          "data": {
            "text/plain": [
              "180569"
            ]
          },
          "metadata": {},
          "execution_count": 40
        }
      ]
    },
    {
      "cell_type": "code",
      "source": [
        "missing_labels = np.isnan(y_encoded).sum()\n",
        "print(f\"Number of missing values in y_encoded: {missing_labels}\")"
      ],
      "metadata": {
        "colab": {
          "base_uri": "https://localhost:8080/"
        },
        "id": "yMkQZtqIJ0gn",
        "outputId": "940a1e38-8134-43c1-ab3e-da4c262c3b3f"
      },
      "execution_count": 41,
      "outputs": [
        {
          "output_type": "stream",
          "name": "stdout",
          "text": [
            "Number of missing values in y_encoded: 0\n"
          ]
        }
      ]
    },
    {
      "cell_type": "code",
      "source": [
        "train_size = round(len(y_encoded) * 0.9)\n",
        "\n",
        "X_train = features_scaled[:train_size]\n",
        "X_test = features_scaled[train_size:]\n",
        "y_train = y_encoded[:train_size]\n",
        "y_test = y_encoded[train_size:]\n",
        "\n",
        "print(f\"Length of X_train: {len(X_train)}\")\n",
        "print(f\"Length of y_train: {len(y_train)}\")\n",
        "print(f\"Length of X_test: {len(X_test)}\")\n",
        "print(f\"Length of y_test: {len(y_test)}\")\n",
        "\n",
        "min_len = min(len(X_test), len(y_test))\n",
        "X_test = X_test[:min_len]\n",
        "y_test = y_test[:min_len]\n",
        "\n",
        "print(f\"Final Length of X_test: {len(X_test)}\")\n",
        "print(f\"Final Length of y_test: {len(y_test)}\")"
      ],
      "metadata": {
        "colab": {
          "base_uri": "https://localhost:8080/"
        },
        "id": "E3hDsWh-J1sE",
        "outputId": "8d72ab8b-755d-4c57-c848-79c962a761f8"
      },
      "execution_count": 42,
      "outputs": [
        {
          "output_type": "stream",
          "name": "stdout",
          "text": [
            "Length of X_train: 203140\n",
            "Length of y_train: 203140\n",
            "Length of X_test: 22571\n",
            "Length of y_test: 22571\n",
            "Final Length of X_test: 22571\n",
            "Final Length of y_test: 22571\n"
          ]
        }
      ]
    },
    {
      "cell_type": "code",
      "source": [
        "from sklearn.svm import SVC\n",
        "from sklearn.metrics import accuracy_score, classification_report, confusion_matrix\n",
        "import seaborn as sns\n",
        "import matplotlib.pyplot as plt\n",
        "\n",
        "\n",
        "import numpy as np\n",
        "\n",
        "# Initialize SVM Classifier (using RBF kernel for non-linearity)\n",
        "svm_model = SVC(kernel='rbf', C=1.0, gamma='scale', random_state=42)\n",
        "\n",
        "# Train the model\n",
        "svm_model.fit(X_train, y_train)\n",
        "\n",
        "# Make predictions\n",
        "y_pred = svm_model.predict(X_test)\n",
        "\n",
        "anomalies_detected = np.sum(y_pred ==1)  # Count predicted DDoS cases\n",
        "# Evaluate model\n",
        "print(\"Accuracy:\", accuracy_score(y_test, y_pred))\n",
        "print(\"Classification Report:\\n\", classification_report(y_test, y_pred))\n",
        "print(f\"Number of detected anomalies (DDoS cases): {anomalies_detected}\")\n",
        "# Plot confusion matrix\n",
        "plt.figure(figsize=(6, 4))\n",
        "sns.heatmap(confusion_matrix(y_test, y_pred), annot=True, fmt='d', cmap='Blues',\n",
        "            xticklabels=[\"BENIGN\", \"DDoS\"], yticklabels=[\"BENIGN\", \"DDoS\"])\n",
        "plt.xlabel('Predicted Label')\n",
        "plt.ylabel('True Label')\n",
        "plt.title('Confusion Matrix')\n",
        "plt.show()\n"
      ],
      "metadata": {
        "colab": {
          "base_uri": "https://localhost:8080/",
          "height": 618
        },
        "id": "FwGI_KvKfkxW",
        "outputId": "c0bf6aab-7c47-4dcb-ad37-5ff64c74fc51"
      },
      "execution_count": 47,
      "outputs": [
        {
          "output_type": "stream",
          "name": "stdout",
          "text": [
            "Accuracy: 0.9981835098134775\n",
            "Classification Report:\n",
            "               precision    recall  f1-score   support\n",
            "\n",
            "           0       1.00      1.00      1.00      9795\n",
            "           1       1.00      1.00      1.00     12776\n",
            "\n",
            "    accuracy                           1.00     22571\n",
            "   macro avg       1.00      1.00      1.00     22571\n",
            "weighted avg       1.00      1.00      1.00     22571\n",
            "\n",
            "Number of detected anomalies (DDoS cases): 12779\n"
          ]
        },
        {
          "output_type": "display_data",
          "data": {
            "text/plain": [
              "<Figure size 600x400 with 2 Axes>"
            ],
            "image/png": "[encoded data removed]"
          },
          "metadata": {}
        }
      ]
    },
    {
      "cell_type": "code",
      "source": [],
      "metadata": {
        "id": "GTeHuMqfP4Gw"
      },
      "execution_count": 43,
      "outputs": []
    }
  ]
}